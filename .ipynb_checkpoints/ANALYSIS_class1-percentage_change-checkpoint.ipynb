{
 "cells": [
  {
   "cell_type": "code",
   "execution_count": 1,
   "metadata": {},
   "outputs": [
    {
     "name": "stdout",
     "output_type": "stream",
     "text": [
      "Populating the interactive namespace from numpy and matplotlib\n"
     ]
    },
    {
     "name": "stderr",
     "output_type": "stream",
     "text": [
      "C:\\Users\\sddz0\\Anaconda2\\envs\\py36\\lib\\site-packages\\statsmodels\\compat\\pandas.py:56: FutureWarning: The pandas.core.datetools module is deprecated and will be removed in a future version. Please use the pandas.tseries module instead.\n",
      "  from pandas.core import datetools\n"
     ]
    }
   ],
   "source": [
    "import pandas as pd\n",
    "import numpy as np\n",
    "import matplotlib.pyplot as plt\n",
    "%pylab inline\n",
    "import scipy.stats\n",
    "import statsmodels.formula.api as smf\n",
    "import statsmodels.api as sm\n",
    "import urllib\n",
    "import requests\n",
    "import zipfile\n",
    "pd.set_option('display.max_rows', 50)\n",
    "pd.set_option('display.max_columns', 50)\n",
    "from sklearn.decomposition import PCA\n",
    "import geopandas as gpd\n",
    "from sklearn.model_selection import train_test_split\n",
    "from sklearn import linear_model\n",
    "from fiona.crs import from_epsg\n",
    "import os\n",
    "from astropy.stats import median_absolute_deviation\n",
    "from sklearn.decomposition import FactorAnalysis\n",
    "from sklearn.model_selection import cross_val_score\n",
    "from factor_analyzer import FactorAnalyzer\n",
    "from sklearn import  preprocessing\n",
    "import pysal"
   ]
  },
  {
   "cell_type": "code",
   "execution_count": 2,
   "metadata": {},
   "outputs": [],
   "source": [
    "data = pd.read_csv('DATA/bk1516percentage change.csv')"
   ]
  },
  {
   "cell_type": "code",
   "execution_count": 3,
   "metadata": {},
   "outputs": [
    {
     "data": {
      "text/html": [
       "<div>\n",
       "<style>\n",
       "    .dataframe thead tr:only-child th {\n",
       "        text-align: right;\n",
       "    }\n",
       "\n",
       "    .dataframe thead th {\n",
       "        text-align: left;\n",
       "    }\n",
       "\n",
       "    .dataframe tbody tr th {\n",
       "        vertical-align: top;\n",
       "    }\n",
       "</style>\n",
       "<table border=\"1\" class=\"dataframe\">\n",
       "  <thead>\n",
       "    <tr style=\"text-align: right;\">\n",
       "      <th></th>\n",
       "      <th>Unnamed: 0</th>\n",
       "      <th>GEOID</th>\n",
       "      <th>FHVDIFF</th>\n",
       "      <th>NYPDviolationDIFF</th>\n",
       "      <th>NYPDmisdemeanorDIFF</th>\n",
       "      <th>NYPDfelonyDIFF</th>\n",
       "      <th>units</th>\n",
       "      <th>C1DIFF</th>\n",
       "      <th>C2DIFF</th>\n",
       "      <th>Pop_Den_16DIFF</th>\n",
       "      <th>Median_Household_Income_16DIFF</th>\n",
       "      <th>Gini_Index_16DIFF</th>\n",
       "      <th>Ave_Commute_Min_16DIFF</th>\n",
       "      <th>Unemployed_rate_16DIFF</th>\n",
       "      <th>Moved_in_4years_16DIFF</th>\n",
       "      <th>licenseDiff</th>\n",
       "    </tr>\n",
       "  </thead>\n",
       "  <tbody>\n",
       "    <tr>\n",
       "      <th>0</th>\n",
       "      <td>0</td>\n",
       "      <td>36047000100</td>\n",
       "      <td>1.110108</td>\n",
       "      <td>1.111111</td>\n",
       "      <td>-0.393443</td>\n",
       "      <td>-0.395349</td>\n",
       "      <td>106.0</td>\n",
       "      <td>0.225660</td>\n",
       "      <td>0.162205</td>\n",
       "      <td>-0.018587</td>\n",
       "      <td>0.229130</td>\n",
       "      <td>-0.040230</td>\n",
       "      <td>-0.033915</td>\n",
       "      <td>0.068227</td>\n",
       "      <td>NaN</td>\n",
       "      <td>-0.666667</td>\n",
       "    </tr>\n",
       "    <tr>\n",
       "      <th>1</th>\n",
       "      <td>1</td>\n",
       "      <td>36047000200</td>\n",
       "      <td>1.524440</td>\n",
       "      <td>0.111111</td>\n",
       "      <td>-0.264706</td>\n",
       "      <td>-0.023256</td>\n",
       "      <td>NaN</td>\n",
       "      <td>0.287765</td>\n",
       "      <td>0.201063</td>\n",
       "      <td>-0.123126</td>\n",
       "      <td>0.393005</td>\n",
       "      <td>-0.016874</td>\n",
       "      <td>0.022404</td>\n",
       "      <td>-0.112013</td>\n",
       "      <td>0.026751</td>\n",
       "      <td>0.000000</td>\n",
       "    </tr>\n",
       "    <tr>\n",
       "      <th>2</th>\n",
       "      <td>2</td>\n",
       "      <td>36047000301</td>\n",
       "      <td>1.109369</td>\n",
       "      <td>-0.230769</td>\n",
       "      <td>0.400000</td>\n",
       "      <td>0.483871</td>\n",
       "      <td>NaN</td>\n",
       "      <td>NaN</td>\n",
       "      <td>NaN</td>\n",
       "      <td>0.065496</td>\n",
       "      <td>0.106525</td>\n",
       "      <td>0.008919</td>\n",
       "      <td>0.055476</td>\n",
       "      <td>-0.205399</td>\n",
       "      <td>NaN</td>\n",
       "      <td>NaN</td>\n",
       "    </tr>\n",
       "    <tr>\n",
       "      <th>3</th>\n",
       "      <td>3</td>\n",
       "      <td>36047000501</td>\n",
       "      <td>1.109369</td>\n",
       "      <td>0.333333</td>\n",
       "      <td>-0.431818</td>\n",
       "      <td>-0.370370</td>\n",
       "      <td>62.0</td>\n",
       "      <td>NaN</td>\n",
       "      <td>NaN</td>\n",
       "      <td>-0.013028</td>\n",
       "      <td>0.121996</td>\n",
       "      <td>-0.030685</td>\n",
       "      <td>-0.032165</td>\n",
       "      <td>-0.157401</td>\n",
       "      <td>-0.435436</td>\n",
       "      <td>NaN</td>\n",
       "    </tr>\n",
       "    <tr>\n",
       "      <th>4</th>\n",
       "      <td>4</td>\n",
       "      <td>36047000502</td>\n",
       "      <td>1.111035</td>\n",
       "      <td>0.266667</td>\n",
       "      <td>0.188679</td>\n",
       "      <td>0.000000</td>\n",
       "      <td>NaN</td>\n",
       "      <td>0.160410</td>\n",
       "      <td>0.198015</td>\n",
       "      <td>0.006923</td>\n",
       "      <td>0.096135</td>\n",
       "      <td>-0.066913</td>\n",
       "      <td>-0.000666</td>\n",
       "      <td>-0.268904</td>\n",
       "      <td>NaN</td>\n",
       "      <td>-0.571429</td>\n",
       "    </tr>\n",
       "  </tbody>\n",
       "</table>\n",
       "</div>"
      ],
      "text/plain": [
       "   Unnamed: 0        GEOID   FHVDIFF  NYPDviolationDIFF  NYPDmisdemeanorDIFF  \\\n",
       "0           0  36047000100  1.110108           1.111111            -0.393443   \n",
       "1           1  36047000200  1.524440           0.111111            -0.264706   \n",
       "2           2  36047000301  1.109369          -0.230769             0.400000   \n",
       "3           3  36047000501  1.109369           0.333333            -0.431818   \n",
       "4           4  36047000502  1.111035           0.266667             0.188679   \n",
       "\n",
       "   NYPDfelonyDIFF  units    C1DIFF    C2DIFF  Pop_Den_16DIFF  \\\n",
       "0       -0.395349  106.0  0.225660  0.162205       -0.018587   \n",
       "1       -0.023256    NaN  0.287765  0.201063       -0.123126   \n",
       "2        0.483871    NaN       NaN       NaN        0.065496   \n",
       "3       -0.370370   62.0       NaN       NaN       -0.013028   \n",
       "4        0.000000    NaN  0.160410  0.198015        0.006923   \n",
       "\n",
       "   Median_Household_Income_16DIFF  Gini_Index_16DIFF  Ave_Commute_Min_16DIFF  \\\n",
       "0                        0.229130          -0.040230               -0.033915   \n",
       "1                        0.393005          -0.016874                0.022404   \n",
       "2                        0.106525           0.008919                0.055476   \n",
       "3                        0.121996          -0.030685               -0.032165   \n",
       "4                        0.096135          -0.066913               -0.000666   \n",
       "\n",
       "   Unemployed_rate_16DIFF  Moved_in_4years_16DIFF  licenseDiff  \n",
       "0                0.068227                     NaN    -0.666667  \n",
       "1               -0.112013                0.026751     0.000000  \n",
       "2               -0.205399                     NaN          NaN  \n",
       "3               -0.157401               -0.435436          NaN  \n",
       "4               -0.268904                     NaN    -0.571429  "
      ]
     },
     "execution_count": 3,
     "metadata": {},
     "output_type": "execute_result"
    }
   ],
   "source": [
    "data.head()"
   ]
  },
  {
   "cell_type": "code",
   "execution_count": 4,
   "metadata": {},
   "outputs": [],
   "source": [
    "data.units = data.units.replace(np.nan,0)"
   ]
  },
  {
   "cell_type": "code",
   "execution_count": 5,
   "metadata": {},
   "outputs": [],
   "source": [
    "data = data.drop(['Unnamed: 0'],axis=1)"
   ]
  },
  {
   "cell_type": "code",
   "execution_count": 6,
   "metadata": {},
   "outputs": [
    {
     "data": {
      "text/html": [
       "<div>\n",
       "<style>\n",
       "    .dataframe thead tr:only-child th {\n",
       "        text-align: right;\n",
       "    }\n",
       "\n",
       "    .dataframe thead th {\n",
       "        text-align: left;\n",
       "    }\n",
       "\n",
       "    .dataframe tbody tr th {\n",
       "        vertical-align: top;\n",
       "    }\n",
       "</style>\n",
       "<table border=\"1\" class=\"dataframe\">\n",
       "  <thead>\n",
       "    <tr style=\"text-align: right;\">\n",
       "      <th></th>\n",
       "      <th>GEOID</th>\n",
       "      <th>FHVDIFF</th>\n",
       "      <th>NYPDviolationDIFF</th>\n",
       "      <th>NYPDmisdemeanorDIFF</th>\n",
       "      <th>NYPDfelonyDIFF</th>\n",
       "      <th>units</th>\n",
       "      <th>C1DIFF</th>\n",
       "      <th>C2DIFF</th>\n",
       "      <th>Pop_Den_16DIFF</th>\n",
       "      <th>Median_Household_Income_16DIFF</th>\n",
       "      <th>Gini_Index_16DIFF</th>\n",
       "      <th>Ave_Commute_Min_16DIFF</th>\n",
       "      <th>Unemployed_rate_16DIFF</th>\n",
       "      <th>Moved_in_4years_16DIFF</th>\n",
       "      <th>licenseDiff</th>\n",
       "    </tr>\n",
       "  </thead>\n",
       "  <tbody>\n",
       "    <tr>\n",
       "      <th>0</th>\n",
       "      <td>36047000100</td>\n",
       "      <td>1.110108</td>\n",
       "      <td>1.111111</td>\n",
       "      <td>-0.393443</td>\n",
       "      <td>-0.395349</td>\n",
       "      <td>106.0</td>\n",
       "      <td>0.225660</td>\n",
       "      <td>0.162205</td>\n",
       "      <td>-0.018587</td>\n",
       "      <td>0.229130</td>\n",
       "      <td>-0.040230</td>\n",
       "      <td>-0.033915</td>\n",
       "      <td>0.068227</td>\n",
       "      <td>NaN</td>\n",
       "      <td>-0.666667</td>\n",
       "    </tr>\n",
       "    <tr>\n",
       "      <th>1</th>\n",
       "      <td>36047000200</td>\n",
       "      <td>1.524440</td>\n",
       "      <td>0.111111</td>\n",
       "      <td>-0.264706</td>\n",
       "      <td>-0.023256</td>\n",
       "      <td>0.0</td>\n",
       "      <td>0.287765</td>\n",
       "      <td>0.201063</td>\n",
       "      <td>-0.123126</td>\n",
       "      <td>0.393005</td>\n",
       "      <td>-0.016874</td>\n",
       "      <td>0.022404</td>\n",
       "      <td>-0.112013</td>\n",
       "      <td>0.026751</td>\n",
       "      <td>0.000000</td>\n",
       "    </tr>\n",
       "    <tr>\n",
       "      <th>2</th>\n",
       "      <td>36047000301</td>\n",
       "      <td>1.109369</td>\n",
       "      <td>-0.230769</td>\n",
       "      <td>0.400000</td>\n",
       "      <td>0.483871</td>\n",
       "      <td>0.0</td>\n",
       "      <td>NaN</td>\n",
       "      <td>NaN</td>\n",
       "      <td>0.065496</td>\n",
       "      <td>0.106525</td>\n",
       "      <td>0.008919</td>\n",
       "      <td>0.055476</td>\n",
       "      <td>-0.205399</td>\n",
       "      <td>NaN</td>\n",
       "      <td>NaN</td>\n",
       "    </tr>\n",
       "  </tbody>\n",
       "</table>\n",
       "</div>"
      ],
      "text/plain": [
       "         GEOID   FHVDIFF  NYPDviolationDIFF  NYPDmisdemeanorDIFF  \\\n",
       "0  36047000100  1.110108           1.111111            -0.393443   \n",
       "1  36047000200  1.524440           0.111111            -0.264706   \n",
       "2  36047000301  1.109369          -0.230769             0.400000   \n",
       "\n",
       "   NYPDfelonyDIFF  units    C1DIFF    C2DIFF  Pop_Den_16DIFF  \\\n",
       "0       -0.395349  106.0  0.225660  0.162205       -0.018587   \n",
       "1       -0.023256    0.0  0.287765  0.201063       -0.123126   \n",
       "2        0.483871    0.0       NaN       NaN        0.065496   \n",
       "\n",
       "   Median_Household_Income_16DIFF  Gini_Index_16DIFF  Ave_Commute_Min_16DIFF  \\\n",
       "0                        0.229130          -0.040230               -0.033915   \n",
       "1                        0.393005          -0.016874                0.022404   \n",
       "2                        0.106525           0.008919                0.055476   \n",
       "\n",
       "   Unemployed_rate_16DIFF  Moved_in_4years_16DIFF  licenseDiff  \n",
       "0                0.068227                     NaN    -0.666667  \n",
       "1               -0.112013                0.026751     0.000000  \n",
       "2               -0.205399                     NaN          NaN  "
      ]
     },
     "execution_count": 6,
     "metadata": {},
     "output_type": "execute_result"
    }
   ],
   "source": [
    "data.head(3)"
   ]
  },
  {
   "cell_type": "code",
   "execution_count": 7,
   "metadata": {},
   "outputs": [],
   "source": [
    "TRACT = gpd.GeoDataFrame.from_file('DATA/gz_2010_36_140_00_500k/gz_2010_36_140_00_500k.shp')"
   ]
  },
  {
   "cell_type": "code",
   "execution_count": 8,
   "metadata": {},
   "outputs": [],
   "source": [
    "TRACT.GEO_ID = TRACT.GEO_ID.str[9:]"
   ]
  },
  {
   "cell_type": "code",
   "execution_count": 9,
   "metadata": {},
   "outputs": [],
   "source": [
    "data.GEOID = data.GEOID.astype('str')"
   ]
  },
  {
   "cell_type": "code",
   "execution_count": 10,
   "metadata": {},
   "outputs": [],
   "source": [
    "data = pd.merge(TRACT,data,left_on='GEO_ID',right_on='GEOID')"
   ]
  },
  {
   "cell_type": "code",
   "execution_count": 11,
   "metadata": {},
   "outputs": [],
   "source": [
    "data.TRACT = data.TRACT.astype('int64')"
   ]
  },
  {
   "cell_type": "code",
   "execution_count": 12,
   "metadata": {},
   "outputs": [],
   "source": [
    "NTA = pd.read_csv('DATA/2010CensusTract_PUMA_NTA(1).csv')"
   ]
  },
  {
   "cell_type": "code",
   "execution_count": 13,
   "metadata": {},
   "outputs": [],
   "source": [
    "NTA = NTA[NTA['Borough'] == 'Brooklyn']"
   ]
  },
  {
   "cell_type": "code",
   "execution_count": 14,
   "metadata": {
    "scrolled": false
   },
   "outputs": [],
   "source": [
    "data = pd.merge(data,NTA,left_on='TRACT',right_on='2010CensusTract')"
   ]
  },
  {
   "cell_type": "code",
   "execution_count": 16,
   "metadata": {
    "scrolled": true
   },
   "outputs": [
    {
     "data": {
      "text/plain": [
       "1.1618375639999998"
      ]
     },
     "execution_count": 16,
     "metadata": {},
     "output_type": "execute_result"
    }
   ],
   "source": [
    "data.groupby('PUMA').median()['FHVDIFF'][4001]"
   ]
  },
  {
   "cell_type": "code",
   "execution_count": 17,
   "metadata": {
    "scrolled": false
   },
   "outputs": [],
   "source": [
    "def median_interpolation(data,columns):\n",
    "    for column in columns:\n",
    "        for i in range(len(data.index)):\n",
    "            if np.isnan(data[column][i]):\n",
    "                data[column][i] = data.groupby('PUMA').median()[column][data['PUMA'][i]] \n",
    "    return data"
   ]
  },
  {
   "cell_type": "code",
   "execution_count": 23,
   "metadata": {},
   "outputs": [
    {
     "data": {
      "text/plain": [
       "Index(['FHVDIFF', 'NYPDviolationDIFF', 'NYPDmisdemeanorDIFF', 'NYPDfelonyDIFF',\n",
       "       'units', 'C1DIFF', 'C2DIFF', 'Pop_Den_16DIFF',\n",
       "       'Median_Household_Income_16DIFF', 'Gini_Index_16DIFF',\n",
       "       'Ave_Commute_Min_16DIFF', 'Unemployed_rate_16DIFF',\n",
       "       'Moved_in_4years_16DIFF', 'licenseDiff'],\n",
       "      dtype='object')"
      ]
     },
     "execution_count": 23,
     "metadata": {},
     "output_type": "execute_result"
    }
   ],
   "source": [
    "data.columns[9:23]"
   ]
  },
  {
   "cell_type": "code",
   "execution_count": 24,
   "metadata": {},
   "outputs": [
    {
     "name": "stderr",
     "output_type": "stream",
     "text": [
      "C:\\Users\\sddz0\\Anaconda2\\envs\\py36\\lib\\site-packages\\ipykernel_launcher.py:5: SettingWithCopyWarning: \n",
      "A value is trying to be set on a copy of a slice from a DataFrame\n",
      "\n",
      "See the caveats in the documentation: http://pandas.pydata.org/pandas-docs/stable/indexing.html#indexing-view-versus-copy\n",
      "  \"\"\"\n"
     ]
    }
   ],
   "source": [
    "data = median_interpolation(data,data.columns[9:23])"
   ]
  },
  {
   "cell_type": "code",
   "execution_count": 25,
   "metadata": {},
   "outputs": [
    {
     "data": {
      "text/plain": [
       "GEO_ID                            0\n",
       "STATE                             0\n",
       "COUNTY                            0\n",
       "TRACT                             0\n",
       "NAME                              0\n",
       "LSAD                              0\n",
       "CENSUSAREA                        0\n",
       "geometry                          0\n",
       "GEOID                             0\n",
       "FHVDIFF                           0\n",
       "NYPDviolationDIFF                 0\n",
       "NYPDmisdemeanorDIFF               0\n",
       "NYPDfelonyDIFF                    0\n",
       "units                             0\n",
       "C1DIFF                            0\n",
       "C2DIFF                            0\n",
       "Pop_Den_16DIFF                    0\n",
       "Median_Household_Income_16DIFF    0\n",
       "Gini_Index_16DIFF                 0\n",
       "Ave_Commute_Min_16DIFF            0\n",
       "Unemployed_rate_16DIFF            0\n",
       "Moved_in_4years_16DIFF            0\n",
       "licenseDiff                       0\n",
       "Borough                           0\n",
       "2010CensusTract                   0\n",
       "PUMA                              0\n",
       "NTA_Code                          0\n",
       "NTA_Name                          0\n",
       "dtype: int64"
      ]
     },
     "execution_count": 25,
     "metadata": {},
     "output_type": "execute_result"
    }
   ],
   "source": [
    "data.isnull().sum()"
   ]
  },
  {
   "cell_type": "markdown",
   "metadata": {},
   "source": [
    "## Normalization"
   ]
  },
  {
   "cell_type": "code",
   "execution_count": 26,
   "metadata": {},
   "outputs": [
    {
     "data": {
      "text/plain": [
       "Index(['FHVDIFF', 'NYPDviolationDIFF', 'NYPDmisdemeanorDIFF', 'NYPDfelonyDIFF',\n",
       "       'units', 'C1DIFF', 'C2DIFF', 'Pop_Den_16DIFF',\n",
       "       'Median_Household_Income_16DIFF', 'Gini_Index_16DIFF',\n",
       "       'Ave_Commute_Min_16DIFF', 'Unemployed_rate_16DIFF',\n",
       "       'Moved_in_4years_16DIFF', 'licenseDiff'],\n",
       "      dtype='object')"
      ]
     },
     "execution_count": 26,
     "metadata": {},
     "output_type": "execute_result"
    }
   ],
   "source": [
    "data.columns[9:23]"
   ]
  },
  {
   "cell_type": "code",
   "execution_count": 27,
   "metadata": {},
   "outputs": [],
   "source": [
    "def norm(data,columns):\n",
    "    for x in columns:\n",
    "        data[x] = (data[x]-np.min(data[x]))/(np.max(data[x])-np.min(data[x]))\n",
    "    return data"
   ]
  },
  {
   "cell_type": "code",
   "execution_count": 28,
   "metadata": {},
   "outputs": [],
   "source": [
    "data = norm(data,data.columns[9:23])"
   ]
  },
  {
   "cell_type": "code",
   "execution_count": 29,
   "metadata": {},
   "outputs": [
    {
     "data": {
      "text/html": [
       "<div>\n",
       "<style>\n",
       "    .dataframe thead tr:only-child th {\n",
       "        text-align: right;\n",
       "    }\n",
       "\n",
       "    .dataframe thead th {\n",
       "        text-align: left;\n",
       "    }\n",
       "\n",
       "    .dataframe tbody tr th {\n",
       "        vertical-align: top;\n",
       "    }\n",
       "</style>\n",
       "<table border=\"1\" class=\"dataframe\">\n",
       "  <thead>\n",
       "    <tr style=\"text-align: right;\">\n",
       "      <th></th>\n",
       "      <th>GEO_ID</th>\n",
       "      <th>STATE</th>\n",
       "      <th>COUNTY</th>\n",
       "      <th>TRACT</th>\n",
       "      <th>NAME</th>\n",
       "      <th>LSAD</th>\n",
       "      <th>CENSUSAREA</th>\n",
       "      <th>geometry</th>\n",
       "      <th>GEOID</th>\n",
       "      <th>FHVDIFF</th>\n",
       "      <th>NYPDviolationDIFF</th>\n",
       "      <th>NYPDmisdemeanorDIFF</th>\n",
       "      <th>NYPDfelonyDIFF</th>\n",
       "      <th>units</th>\n",
       "      <th>C1DIFF</th>\n",
       "      <th>C2DIFF</th>\n",
       "      <th>Pop_Den_16DIFF</th>\n",
       "      <th>Median_Household_Income_16DIFF</th>\n",
       "      <th>Gini_Index_16DIFF</th>\n",
       "      <th>Ave_Commute_Min_16DIFF</th>\n",
       "      <th>Unemployed_rate_16DIFF</th>\n",
       "      <th>Moved_in_4years_16DIFF</th>\n",
       "      <th>licenseDiff</th>\n",
       "      <th>Borough</th>\n",
       "      <th>2010CensusTract</th>\n",
       "      <th>PUMA</th>\n",
       "      <th>NTA_Code</th>\n",
       "      <th>NTA_Name</th>\n",
       "    </tr>\n",
       "  </thead>\n",
       "  <tbody>\n",
       "    <tr>\n",
       "      <th>0</th>\n",
       "      <td>36047010400</td>\n",
       "      <td>36</td>\n",
       "      <td>047</td>\n",
       "      <td>10400</td>\n",
       "      <td>104</td>\n",
       "      <td>Tract</td>\n",
       "      <td>0.059</td>\n",
       "      <td>POLYGON ((-74.01115399999999 40.637404, -74.01...</td>\n",
       "      <td>36047010400</td>\n",
       "      <td>0.177338</td>\n",
       "      <td>0.196078</td>\n",
       "      <td>0.310689</td>\n",
       "      <td>0.372822</td>\n",
       "      <td>0.0</td>\n",
       "      <td>0.356418</td>\n",
       "      <td>0.3748</td>\n",
       "      <td>0.256616</td>\n",
       "      <td>0.328022</td>\n",
       "      <td>0.354693</td>\n",
       "      <td>0.487442</td>\n",
       "      <td>0.229723</td>\n",
       "      <td>0.147349</td>\n",
       "      <td>0.127336</td>\n",
       "      <td>Brooklyn</td>\n",
       "      <td>10400</td>\n",
       "      <td>4012</td>\n",
       "      <td>BK34</td>\n",
       "      <td>Sunset Park East</td>\n",
       "    </tr>\n",
       "  </tbody>\n",
       "</table>\n",
       "</div>"
      ],
      "text/plain": [
       "        GEO_ID STATE COUNTY  TRACT NAME   LSAD  CENSUSAREA  \\\n",
       "0  36047010400    36    047  10400  104  Tract       0.059   \n",
       "\n",
       "                                            geometry        GEOID   FHVDIFF  \\\n",
       "0  POLYGON ((-74.01115399999999 40.637404, -74.01...  36047010400  0.177338   \n",
       "\n",
       "   NYPDviolationDIFF  NYPDmisdemeanorDIFF  NYPDfelonyDIFF  units    C1DIFF  \\\n",
       "0           0.196078             0.310689        0.372822    0.0  0.356418   \n",
       "\n",
       "   C2DIFF  Pop_Den_16DIFF  Median_Household_Income_16DIFF  Gini_Index_16DIFF  \\\n",
       "0  0.3748        0.256616                        0.328022           0.354693   \n",
       "\n",
       "   Ave_Commute_Min_16DIFF  Unemployed_rate_16DIFF  Moved_in_4years_16DIFF  \\\n",
       "0                0.487442                0.229723                0.147349   \n",
       "\n",
       "   licenseDiff   Borough  2010CensusTract  PUMA NTA_Code          NTA_Name  \n",
       "0     0.127336  Brooklyn            10400  4012     BK34  Sunset Park East  "
      ]
     },
     "execution_count": 29,
     "metadata": {},
     "output_type": "execute_result"
    }
   ],
   "source": [
    "data.head(1)"
   ]
  },
  {
   "cell_type": "markdown",
   "metadata": {},
   "source": [
    "## Outliers"
   ]
  },
  {
   "cell_type": "code",
   "execution_count": 30,
   "metadata": {},
   "outputs": [],
   "source": [
    "\n",
    "def clean(data,columns):\n",
    "    for x in columns:\n",
    "        #data= data[(np.abs(data[x]-np.median(data[x]))/(np.median(np.abs(data[x]-np.median(data[x])))/0.6745)) < 2.24]\n",
    "        data = data[(data[x]<np.mean(data[x])+4*np.std(data[x]))&(data[x]>np.mean(data[x])-4*np.std(data[x]))]\n",
    "    return data"
   ]
  },
  {
   "cell_type": "code",
   "execution_count": 31,
   "metadata": {},
   "outputs": [],
   "source": [
    "data = clean(data,data.columns[9:23])"
   ]
  },
  {
   "cell_type": "code",
   "execution_count": 32,
   "metadata": {},
   "outputs": [
    {
     "data": {
      "text/plain": [
       "(703, 28)"
      ]
     },
     "execution_count": 32,
     "metadata": {},
     "output_type": "execute_result"
    }
   ],
   "source": [
    "data.shape"
   ]
  },
  {
   "cell_type": "code",
   "execution_count": 33,
   "metadata": {},
   "outputs": [
    {
     "data": {
      "text/plain": [
       "<matplotlib.axes._subplots.AxesSubplot at 0x1f47c5aa828>"
      ]
     },
     "execution_count": 33,
     "metadata": {},
     "output_type": "execute_result"
    },
    {
     "data": {
      "image/png": "[encoded data removed]",
      "text/plain": [
       "<matplotlib.figure.Figure at 0x1f47c5af278>"
      ]
     },
     "metadata": {},
     "output_type": "display_data"
    }
   ],
   "source": [
    "data.plot()"
   ]
  },
  {
   "cell_type": "code",
   "execution_count": 34,
   "metadata": {},
   "outputs": [
    {
     "data": {
      "text/plain": [
       "Index(['FHVDIFF', 'NYPDviolationDIFF', 'NYPDmisdemeanorDIFF', 'NYPDfelonyDIFF',\n",
       "       'units', 'C1DIFF', 'C2DIFF', 'Pop_Den_16DIFF',\n",
       "       'Median_Household_Income_16DIFF', 'Gini_Index_16DIFF',\n",
       "       'Ave_Commute_Min_16DIFF', 'Unemployed_rate_16DIFF',\n",
       "       'Moved_in_4years_16DIFF', 'licenseDiff'],\n",
       "      dtype='object')"
      ]
     },
     "execution_count": 34,
     "metadata": {},
     "output_type": "execute_result"
    }
   ],
   "source": [
    "data.columns[9:23]"
   ]
  },
  {
   "cell_type": "markdown",
   "metadata": {},
   "source": [
    "## PCA"
   ]
  },
  {
   "cell_type": "code",
   "execution_count": 35,
   "metadata": {},
   "outputs": [],
   "source": [
    "X_num = data[data.columns[9:23]].drop(['units', 'C1DIFF', 'C2DIFF'],axis=1)\n",
    "pca = PCA(0.90)\n",
    "Xproj = pca.fit_transform(X_num)"
   ]
  },
  {
   "cell_type": "code",
   "execution_count": 36,
   "metadata": {},
   "outputs": [
    {
     "data": {
      "text/plain": [
       "array([ 0.50987867,  0.09447997,  0.086022  ,  0.07831935,  0.05465481,\n",
       "        0.04625311,  0.04133923])"
      ]
     },
     "execution_count": 36,
     "metadata": {},
     "output_type": "execute_result"
    }
   ],
   "source": [
    "pca.explained_variance_ratio_"
   ]
  },
  {
   "cell_type": "code",
   "execution_count": 37,
   "metadata": {
    "scrolled": false
   },
   "outputs": [
    {
     "data": {
      "text/html": [
       "<div>\n",
       "<style>\n",
       "    .dataframe thead tr:only-child th {\n",
       "        text-align: right;\n",
       "    }\n",
       "\n",
       "    .dataframe thead th {\n",
       "        text-align: left;\n",
       "    }\n",
       "\n",
       "    .dataframe tbody tr th {\n",
       "        vertical-align: top;\n",
       "    }\n",
       "</style>\n",
       "<table border=\"1\" class=\"dataframe\">\n",
       "  <thead>\n",
       "    <tr style=\"text-align: right;\">\n",
       "      <th></th>\n",
       "      <th>FHVDIFF</th>\n",
       "      <th>NYPDviolationDIFF</th>\n",
       "      <th>NYPDmisdemeanorDIFF</th>\n",
       "      <th>NYPDfelonyDIFF</th>\n",
       "      <th>Pop_Den_16DIFF</th>\n",
       "      <th>Median_Household_Income_16DIFF</th>\n",
       "      <th>Gini_Index_16DIFF</th>\n",
       "      <th>Ave_Commute_Min_16DIFF</th>\n",
       "      <th>Unemployed_rate_16DIFF</th>\n",
       "      <th>Moved_in_4years_16DIFF</th>\n",
       "      <th>licenseDiff</th>\n",
       "    </tr>\n",
       "  </thead>\n",
       "  <tbody>\n",
       "    <tr>\n",
       "      <th>0</th>\n",
       "      <td>0.997680</td>\n",
       "      <td>-0.010100</td>\n",
       "      <td>-0.029244</td>\n",
       "      <td>-0.030719</td>\n",
       "      <td>-0.018575</td>\n",
       "      <td>-0.041289</td>\n",
       "      <td>-0.016510</td>\n",
       "      <td>0.007548</td>\n",
       "      <td>0.017587</td>\n",
       "      <td>-0.003419</td>\n",
       "      <td>0.005760</td>\n",
       "    </tr>\n",
       "    <tr>\n",
       "      <th>1</th>\n",
       "      <td>0.052214</td>\n",
       "      <td>-0.029485</td>\n",
       "      <td>0.354595</td>\n",
       "      <td>0.499586</td>\n",
       "      <td>0.159671</td>\n",
       "      <td>0.587181</td>\n",
       "      <td>-0.340470</td>\n",
       "      <td>-0.324245</td>\n",
       "      <td>-0.165829</td>\n",
       "      <td>-0.001605</td>\n",
       "      <td>0.047404</td>\n",
       "    </tr>\n",
       "    <tr>\n",
       "      <th>2</th>\n",
       "      <td>0.001535</td>\n",
       "      <td>0.019610</td>\n",
       "      <td>0.251319</td>\n",
       "      <td>0.336519</td>\n",
       "      <td>-0.179795</td>\n",
       "      <td>-0.520115</td>\n",
       "      <td>0.337157</td>\n",
       "      <td>-0.628407</td>\n",
       "      <td>0.087603</td>\n",
       "      <td>0.015056</td>\n",
       "      <td>0.062366</td>\n",
       "    </tr>\n",
       "    <tr>\n",
       "      <th>3</th>\n",
       "      <td>0.012984</td>\n",
       "      <td>0.067337</td>\n",
       "      <td>0.365330</td>\n",
       "      <td>0.518842</td>\n",
       "      <td>-0.255564</td>\n",
       "      <td>-0.184071</td>\n",
       "      <td>0.094226</td>\n",
       "      <td>0.688801</td>\n",
       "      <td>-0.099098</td>\n",
       "      <td>-0.014806</td>\n",
       "      <td>0.008665</td>\n",
       "    </tr>\n",
       "    <tr>\n",
       "      <th>4</th>\n",
       "      <td>0.015495</td>\n",
       "      <td>-0.153122</td>\n",
       "      <td>0.095087</td>\n",
       "      <td>0.163661</td>\n",
       "      <td>0.759393</td>\n",
       "      <td>-0.008474</td>\n",
       "      <td>0.315065</td>\n",
       "      <td>0.148283</td>\n",
       "      <td>0.492414</td>\n",
       "      <td>0.002975</td>\n",
       "      <td>-0.001470</td>\n",
       "    </tr>\n",
       "    <tr>\n",
       "      <th>5</th>\n",
       "      <td>-0.010640</td>\n",
       "      <td>0.426390</td>\n",
       "      <td>0.004719</td>\n",
       "      <td>0.049143</td>\n",
       "      <td>-0.333105</td>\n",
       "      <td>0.155779</td>\n",
       "      <td>-0.230047</td>\n",
       "      <td>-0.017259</td>\n",
       "      <td>0.784122</td>\n",
       "      <td>0.001230</td>\n",
       "      <td>-0.111116</td>\n",
       "    </tr>\n",
       "    <tr>\n",
       "      <th>6</th>\n",
       "      <td>-0.018213</td>\n",
       "      <td>0.315628</td>\n",
       "      <td>0.064959</td>\n",
       "      <td>0.011304</td>\n",
       "      <td>0.388330</td>\n",
       "      <td>-0.540736</td>\n",
       "      <td>-0.658934</td>\n",
       "      <td>0.002653</td>\n",
       "      <td>-0.105347</td>\n",
       "      <td>0.025782</td>\n",
       "      <td>-0.080877</td>\n",
       "    </tr>\n",
       "  </tbody>\n",
       "</table>\n",
       "</div>"
      ],
      "text/plain": [
       "    FHVDIFF  NYPDviolationDIFF  NYPDmisdemeanorDIFF  NYPDfelonyDIFF  \\\n",
       "0  0.997680          -0.010100            -0.029244       -0.030719   \n",
       "1  0.052214          -0.029485             0.354595        0.499586   \n",
       "2  0.001535           0.019610             0.251319        0.336519   \n",
       "3  0.012984           0.067337             0.365330        0.518842   \n",
       "4  0.015495          -0.153122             0.095087        0.163661   \n",
       "5 -0.010640           0.426390             0.004719        0.049143   \n",
       "6 -0.018213           0.315628             0.064959        0.011304   \n",
       "\n",
       "   Pop_Den_16DIFF  Median_Household_Income_16DIFF  Gini_Index_16DIFF  \\\n",
       "0       -0.018575                       -0.041289          -0.016510   \n",
       "1        0.159671                        0.587181          -0.340470   \n",
       "2       -0.179795                       -0.520115           0.337157   \n",
       "3       -0.255564                       -0.184071           0.094226   \n",
       "4        0.759393                       -0.008474           0.315065   \n",
       "5       -0.333105                        0.155779          -0.230047   \n",
       "6        0.388330                       -0.540736          -0.658934   \n",
       "\n",
       "   Ave_Commute_Min_16DIFF  Unemployed_rate_16DIFF  Moved_in_4years_16DIFF  \\\n",
       "0                0.007548                0.017587               -0.003419   \n",
       "1               -0.324245               -0.165829               -0.001605   \n",
       "2               -0.628407                0.087603                0.015056   \n",
       "3                0.688801               -0.099098               -0.014806   \n",
       "4                0.148283                0.492414                0.002975   \n",
       "5               -0.017259                0.784122                0.001230   \n",
       "6                0.002653               -0.105347                0.025782   \n",
       "\n",
       "   licenseDiff  \n",
       "0     0.005760  \n",
       "1     0.047404  \n",
       "2     0.062366  \n",
       "3     0.008665  \n",
       "4    -0.001470  \n",
       "5    -0.111116  \n",
       "6    -0.080877  "
      ]
     },
     "execution_count": 37,
     "metadata": {},
     "output_type": "execute_result"
    }
   ],
   "source": [
    "components_explanation = pd.DataFrame(pca.components_,columns = X_num.columns)\n",
    "components_explanation"
   ]
  },
  {
   "cell_type": "markdown",
   "metadata": {},
   "source": [
    "## FA"
   ]
  },
  {
   "cell_type": "code",
   "execution_count": 38,
   "metadata": {},
   "outputs": [],
   "source": [
    "fa = FactorAnalyzer()"
   ]
  },
  {
   "cell_type": "code",
   "execution_count": 39,
   "metadata": {},
   "outputs": [],
   "source": [
    "fa.analyze(X_num,5,rotation='varimax')"
   ]
  },
  {
   "cell_type": "code",
   "execution_count": 40,
   "metadata": {},
   "outputs": [
    {
     "data": {
      "text/html": [
       "<div>\n",
       "<style>\n",
       "    .dataframe thead tr:only-child th {\n",
       "        text-align: right;\n",
       "    }\n",
       "\n",
       "    .dataframe thead th {\n",
       "        text-align: left;\n",
       "    }\n",
       "\n",
       "    .dataframe tbody tr th {\n",
       "        vertical-align: top;\n",
       "    }\n",
       "</style>\n",
       "<table border=\"1\" class=\"dataframe\">\n",
       "  <thead>\n",
       "    <tr style=\"text-align: right;\">\n",
       "      <th></th>\n",
       "      <th>Communalities</th>\n",
       "    </tr>\n",
       "  </thead>\n",
       "  <tbody>\n",
       "    <tr>\n",
       "      <th>FHVDIFF</th>\n",
       "      <td>0.075707</td>\n",
       "    </tr>\n",
       "    <tr>\n",
       "      <th>NYPDviolationDIFF</th>\n",
       "      <td>0.024429</td>\n",
       "    </tr>\n",
       "    <tr>\n",
       "      <th>NYPDmisdemeanorDIFF</th>\n",
       "      <td>0.891251</td>\n",
       "    </tr>\n",
       "    <tr>\n",
       "      <th>NYPDfelonyDIFF</th>\n",
       "      <td>0.748533</td>\n",
       "    </tr>\n",
       "    <tr>\n",
       "      <th>Pop_Den_16DIFF</th>\n",
       "      <td>0.069714</td>\n",
       "    </tr>\n",
       "    <tr>\n",
       "      <th>Median_Household_Income_16DIFF</th>\n",
       "      <td>0.773553</td>\n",
       "    </tr>\n",
       "    <tr>\n",
       "      <th>Gini_Index_16DIFF</th>\n",
       "      <td>0.146051</td>\n",
       "    </tr>\n",
       "    <tr>\n",
       "      <th>Ave_Commute_Min_16DIFF</th>\n",
       "      <td>0.040241</td>\n",
       "    </tr>\n",
       "    <tr>\n",
       "      <th>Unemployed_rate_16DIFF</th>\n",
       "      <td>0.037958</td>\n",
       "    </tr>\n",
       "    <tr>\n",
       "      <th>Moved_in_4years_16DIFF</th>\n",
       "      <td>0.012996</td>\n",
       "    </tr>\n",
       "    <tr>\n",
       "      <th>licenseDiff</th>\n",
       "      <td>0.029671</td>\n",
       "    </tr>\n",
       "  </tbody>\n",
       "</table>\n",
       "</div>"
      ],
      "text/plain": [
       "                                Communalities\n",
       "FHVDIFF                              0.075707\n",
       "NYPDviolationDIFF                    0.024429\n",
       "NYPDmisdemeanorDIFF                  0.891251\n",
       "NYPDfelonyDIFF                       0.748533\n",
       "Pop_Den_16DIFF                       0.069714\n",
       "Median_Household_Income_16DIFF       0.773553\n",
       "Gini_Index_16DIFF                    0.146051\n",
       "Ave_Commute_Min_16DIFF               0.040241\n",
       "Unemployed_rate_16DIFF               0.037958\n",
       "Moved_in_4years_16DIFF               0.012996\n",
       "licenseDiff                          0.029671"
      ]
     },
     "execution_count": 40,
     "metadata": {},
     "output_type": "execute_result"
    }
   ],
   "source": [
    "fa.get_communalities()"
   ]
  },
  {
   "cell_type": "code",
   "execution_count": 41,
   "metadata": {},
   "outputs": [
    {
     "data": {
      "text/html": [
       "<div>\n",
       "<style>\n",
       "    .dataframe thead tr:only-child th {\n",
       "        text-align: right;\n",
       "    }\n",
       "\n",
       "    .dataframe thead th {\n",
       "        text-align: left;\n",
       "    }\n",
       "\n",
       "    .dataframe tbody tr th {\n",
       "        vertical-align: top;\n",
       "    }\n",
       "</style>\n",
       "<table border=\"1\" class=\"dataframe\">\n",
       "  <thead>\n",
       "    <tr style=\"text-align: right;\">\n",
       "      <th></th>\n",
       "      <th>Factor1</th>\n",
       "      <th>Factor2</th>\n",
       "      <th>Factor3</th>\n",
       "      <th>Factor4</th>\n",
       "      <th>Factor5</th>\n",
       "    </tr>\n",
       "  </thead>\n",
       "  <tbody>\n",
       "    <tr>\n",
       "      <th>FHVDIFF</th>\n",
       "      <td>-0.069663</td>\n",
       "      <td>-0.002697</td>\n",
       "      <td>2.383266e-18</td>\n",
       "      <td>0.025810</td>\n",
       "      <td>-0.264917</td>\n",
       "    </tr>\n",
       "    <tr>\n",
       "      <th>NYPDviolationDIFF</th>\n",
       "      <td>0.031898</td>\n",
       "      <td>0.031193</td>\n",
       "      <td>1.189610e-18</td>\n",
       "      <td>-0.146971</td>\n",
       "      <td>0.028959</td>\n",
       "    </tr>\n",
       "    <tr>\n",
       "      <th>NYPDmisdemeanorDIFF</th>\n",
       "      <td>0.935155</td>\n",
       "      <td>-0.052945</td>\n",
       "      <td>-2.184810e-19</td>\n",
       "      <td>0.040482</td>\n",
       "      <td>0.110876</td>\n",
       "    </tr>\n",
       "    <tr>\n",
       "      <th>NYPDfelonyDIFF</th>\n",
       "      <td>0.851828</td>\n",
       "      <td>-0.074816</td>\n",
       "      <td>-4.028731e-19</td>\n",
       "      <td>0.107415</td>\n",
       "      <td>0.076066</td>\n",
       "    </tr>\n",
       "    <tr>\n",
       "      <th>Pop_Den_16DIFF</th>\n",
       "      <td>-0.067086</td>\n",
       "      <td>-0.117100</td>\n",
       "      <td>-1.547942e-18</td>\n",
       "      <td>0.166206</td>\n",
       "      <td>0.154519</td>\n",
       "    </tr>\n",
       "    <tr>\n",
       "      <th>Median_Household_Income_16DIFF</th>\n",
       "      <td>-0.027714</td>\n",
       "      <td>-0.805643</td>\n",
       "      <td>1.225406e-17</td>\n",
       "      <td>0.094668</td>\n",
       "      <td>0.338765</td>\n",
       "    </tr>\n",
       "    <tr>\n",
       "      <th>Gini_Index_16DIFF</th>\n",
       "      <td>-0.004139</td>\n",
       "      <td>0.379502</td>\n",
       "      <td>-8.759378e-18</td>\n",
       "      <td>0.018121</td>\n",
       "      <td>0.041033</td>\n",
       "    </tr>\n",
       "    <tr>\n",
       "      <th>Ave_Commute_Min_16DIFF</th>\n",
       "      <td>-0.059883</td>\n",
       "      <td>-0.026942</td>\n",
       "      <td>3.656571e-18</td>\n",
       "      <td>-0.185267</td>\n",
       "      <td>-0.040068</td>\n",
       "    </tr>\n",
       "    <tr>\n",
       "      <th>Unemployed_rate_16DIFF</th>\n",
       "      <td>-0.089947</td>\n",
       "      <td>0.158260</td>\n",
       "      <td>-4.615596e-18</td>\n",
       "      <td>0.063600</td>\n",
       "      <td>0.027868</td>\n",
       "    </tr>\n",
       "    <tr>\n",
       "      <th>Moved_in_4years_16DIFF</th>\n",
       "      <td>-0.007553</td>\n",
       "      <td>0.044935</td>\n",
       "      <td>-2.699930e-18</td>\n",
       "      <td>0.101183</td>\n",
       "      <td>0.026105</td>\n",
       "    </tr>\n",
       "    <tr>\n",
       "      <th>licenseDiff</th>\n",
       "      <td>0.057916</td>\n",
       "      <td>0.004931</td>\n",
       "      <td>-1.834733e-18</td>\n",
       "      <td>0.154781</td>\n",
       "      <td>-0.048325</td>\n",
       "    </tr>\n",
       "  </tbody>\n",
       "</table>\n",
       "</div>"
      ],
      "text/plain": [
       "                                 Factor1   Factor2       Factor3   Factor4  \\\n",
       "FHVDIFF                        -0.069663 -0.002697  2.383266e-18  0.025810   \n",
       "NYPDviolationDIFF               0.031898  0.031193  1.189610e-18 -0.146971   \n",
       "NYPDmisdemeanorDIFF             0.935155 -0.052945 -2.184810e-19  0.040482   \n",
       "NYPDfelonyDIFF                  0.851828 -0.074816 -4.028731e-19  0.107415   \n",
       "Pop_Den_16DIFF                 -0.067086 -0.117100 -1.547942e-18  0.166206   \n",
       "Median_Household_Income_16DIFF -0.027714 -0.805643  1.225406e-17  0.094668   \n",
       "Gini_Index_16DIFF              -0.004139  0.379502 -8.759378e-18  0.018121   \n",
       "Ave_Commute_Min_16DIFF         -0.059883 -0.026942  3.656571e-18 -0.185267   \n",
       "Unemployed_rate_16DIFF         -0.089947  0.158260 -4.615596e-18  0.063600   \n",
       "Moved_in_4years_16DIFF         -0.007553  0.044935 -2.699930e-18  0.101183   \n",
       "licenseDiff                     0.057916  0.004931 -1.834733e-18  0.154781   \n",
       "\n",
       "                                 Factor5  \n",
       "FHVDIFF                        -0.264917  \n",
       "NYPDviolationDIFF               0.028959  \n",
       "NYPDmisdemeanorDIFF             0.110876  \n",
       "NYPDfelonyDIFF                  0.076066  \n",
       "Pop_Den_16DIFF                  0.154519  \n",
       "Median_Household_Income_16DIFF  0.338765  \n",
       "Gini_Index_16DIFF               0.041033  \n",
       "Ave_Commute_Min_16DIFF         -0.040068  \n",
       "Unemployed_rate_16DIFF          0.027868  \n",
       "Moved_in_4years_16DIFF          0.026105  \n",
       "licenseDiff                    -0.048325  "
      ]
     },
     "execution_count": 41,
     "metadata": {},
     "output_type": "execute_result"
    }
   ],
   "source": [
    "fa.loadings"
   ]
  },
  {
   "cell_type": "code",
   "execution_count": 42,
   "metadata": {},
   "outputs": [
    {
     "data": {
      "text/html": [
       "<div>\n",
       "<style>\n",
       "    .dataframe thead tr:only-child th {\n",
       "        text-align: right;\n",
       "    }\n",
       "\n",
       "    .dataframe thead th {\n",
       "        text-align: left;\n",
       "    }\n",
       "\n",
       "    .dataframe tbody tr th {\n",
       "        vertical-align: top;\n",
       "    }\n",
       "</style>\n",
       "<table border=\"1\" class=\"dataframe\">\n",
       "  <thead>\n",
       "    <tr style=\"text-align: right;\">\n",
       "      <th></th>\n",
       "      <th>Factor1</th>\n",
       "      <th>Factor2</th>\n",
       "      <th>Factor3</th>\n",
       "      <th>Factor4</th>\n",
       "      <th>Factor5</th>\n",
       "    </tr>\n",
       "  </thead>\n",
       "  <tbody>\n",
       "    <tr>\n",
       "      <th>SS Loadings</th>\n",
       "      <td>1.626371</td>\n",
       "      <td>0.843992</td>\n",
       "      <td>2.819201e-34</td>\n",
       "      <td>0.144922</td>\n",
       "      <td>0.234819</td>\n",
       "    </tr>\n",
       "    <tr>\n",
       "      <th>Proportion Var</th>\n",
       "      <td>0.147852</td>\n",
       "      <td>0.076727</td>\n",
       "      <td>2.562910e-35</td>\n",
       "      <td>0.013175</td>\n",
       "      <td>0.021347</td>\n",
       "    </tr>\n",
       "    <tr>\n",
       "      <th>Cumulative Var</th>\n",
       "      <td>0.147852</td>\n",
       "      <td>0.224578</td>\n",
       "      <td>2.245784e-01</td>\n",
       "      <td>0.237753</td>\n",
       "      <td>0.259100</td>\n",
       "    </tr>\n",
       "  </tbody>\n",
       "</table>\n",
       "</div>"
      ],
      "text/plain": [
       "                 Factor1   Factor2       Factor3   Factor4   Factor5\n",
       "SS Loadings     1.626371  0.843992  2.819201e-34  0.144922  0.234819\n",
       "Proportion Var  0.147852  0.076727  2.562910e-35  0.013175  0.021347\n",
       "Cumulative Var  0.147852  0.224578  2.245784e-01  0.237753  0.259100"
      ]
     },
     "execution_count": 42,
     "metadata": {},
     "output_type": "execute_result"
    }
   ],
   "source": [
    "fa.get_factor_variance()"
   ]
  },
  {
   "cell_type": "code",
   "execution_count": 43,
   "metadata": {},
   "outputs": [
    {
     "data": {
      "text/plain": [
       "NYPDmisdemeanorDIFF    0.935155\n",
       "NYPDfelonyDIFF         0.851828\n",
       "Name: Factor1, dtype: float64"
      ]
     },
     "execution_count": 43,
     "metadata": {},
     "output_type": "execute_result"
    }
   ],
   "source": [
    "fa.loadings[np.abs(fa.loadings['Factor1'])>0.5]['Factor1']"
   ]
  },
  {
   "cell_type": "code",
   "execution_count": 44,
   "metadata": {},
   "outputs": [
    {
     "name": "stdout",
     "output_type": "stream",
     "text": [
      "Factor1:\n",
      "\n",
      "NYPDmisdemeanorDIFF    0.935155\n",
      "NYPDfelonyDIFF         0.851828\n",
      "Name: Factor1, dtype: float64\n",
      "\n",
      "\n",
      "Factor2:\n",
      "\n",
      "Median_Household_Income_16DIFF   -0.805643\n",
      "Name: Factor2, dtype: float64\n",
      "\n",
      "\n",
      "Factor3:\n",
      "\n",
      "Series([], Name: Factor3, dtype: float64)\n",
      "\n",
      "\n",
      "Factor4:\n",
      "\n",
      "Series([], Name: Factor4, dtype: float64)\n",
      "\n",
      "\n",
      "Factor5:\n",
      "\n",
      "Series([], Name: Factor5, dtype: float64)\n",
      "\n",
      "\n"
     ]
    }
   ],
   "source": [
    "for column in fa.loadings:\n",
    "    print(column+':\\n')\n",
    "    print(fa.loadings[np.abs(fa.loadings[column])>0.5][column])\n",
    "    print('\\n')"
   ]
  },
  {
   "cell_type": "markdown",
   "metadata": {},
   "source": [
    "## Factor 1: Crime\n",
    "## Factor 2: Income intergration and poverty level\n",
    "## Factor 3: Traffic convenience\n",
    "## Factor 4: New population"
   ]
  },
  {
   "cell_type": "code",
   "execution_count": 45,
   "metadata": {},
   "outputs": [
    {
     "data": {
      "text/html": [
       "<div>\n",
       "<style>\n",
       "    .dataframe thead tr:only-child th {\n",
       "        text-align: right;\n",
       "    }\n",
       "\n",
       "    .dataframe thead th {\n",
       "        text-align: left;\n",
       "    }\n",
       "\n",
       "    .dataframe tbody tr th {\n",
       "        vertical-align: top;\n",
       "    }\n",
       "</style>\n",
       "<table border=\"1\" class=\"dataframe\">\n",
       "  <thead>\n",
       "    <tr style=\"text-align: right;\">\n",
       "      <th></th>\n",
       "      <th>FHVDIFF</th>\n",
       "      <th>NYPDviolationDIFF</th>\n",
       "      <th>NYPDmisdemeanorDIFF</th>\n",
       "      <th>NYPDfelonyDIFF</th>\n",
       "      <th>Pop_Den_16DIFF</th>\n",
       "      <th>Median_Household_Income_16DIFF</th>\n",
       "      <th>Gini_Index_16DIFF</th>\n",
       "      <th>Ave_Commute_Min_16DIFF</th>\n",
       "      <th>Unemployed_rate_16DIFF</th>\n",
       "      <th>Moved_in_4years_16DIFF</th>\n",
       "      <th>licenseDiff</th>\n",
       "    </tr>\n",
       "  </thead>\n",
       "  <tbody>\n",
       "    <tr>\n",
       "      <th>0</th>\n",
       "      <td>0.177338</td>\n",
       "      <td>0.196078</td>\n",
       "      <td>0.310689</td>\n",
       "      <td>0.372822</td>\n",
       "      <td>0.256616</td>\n",
       "      <td>0.328022</td>\n",
       "      <td>0.354693</td>\n",
       "      <td>0.487442</td>\n",
       "      <td>0.229723</td>\n",
       "      <td>0.147349</td>\n",
       "      <td>0.127336</td>\n",
       "    </tr>\n",
       "  </tbody>\n",
       "</table>\n",
       "</div>"
      ],
      "text/plain": [
       "    FHVDIFF  NYPDviolationDIFF  NYPDmisdemeanorDIFF  NYPDfelonyDIFF  \\\n",
       "0  0.177338           0.196078             0.310689        0.372822   \n",
       "\n",
       "   Pop_Den_16DIFF  Median_Household_Income_16DIFF  Gini_Index_16DIFF  \\\n",
       "0        0.256616                        0.328022           0.354693   \n",
       "\n",
       "   Ave_Commute_Min_16DIFF  Unemployed_rate_16DIFF  Moved_in_4years_16DIFF  \\\n",
       "0                0.487442                0.229723                0.147349   \n",
       "\n",
       "   licenseDiff  \n",
       "0     0.127336  "
      ]
     },
     "execution_count": 45,
     "metadata": {},
     "output_type": "execute_result"
    }
   ],
   "source": [
    "X_num.head(1)"
   ]
  },
  {
   "cell_type": "code",
   "execution_count": 46,
   "metadata": {},
   "outputs": [],
   "source": [
    "X_num.to_csv('X_num.csv')"
   ]
  },
  {
   "cell_type": "code",
   "execution_count": 47,
   "metadata": {},
   "outputs": [],
   "source": [
    "X_num1 = pd.read_csv('X_num4.csv')"
   ]
  },
  {
   "cell_type": "code",
   "execution_count": 48,
   "metadata": {},
   "outputs": [],
   "source": [
    "data = data.drop(list(X_num.columns),axis=1)"
   ]
  },
  {
   "cell_type": "code",
   "execution_count": 49,
   "metadata": {},
   "outputs": [
    {
     "data": {
      "text/html": [
       "<div>\n",
       "<style>\n",
       "    .dataframe thead tr:only-child th {\n",
       "        text-align: right;\n",
       "    }\n",
       "\n",
       "    .dataframe thead th {\n",
       "        text-align: left;\n",
       "    }\n",
       "\n",
       "    .dataframe tbody tr th {\n",
       "        vertical-align: top;\n",
       "    }\n",
       "</style>\n",
       "<table border=\"1\" class=\"dataframe\">\n",
       "  <thead>\n",
       "    <tr style=\"text-align: right;\">\n",
       "      <th></th>\n",
       "      <th>GEO_ID</th>\n",
       "      <th>STATE</th>\n",
       "      <th>COUNTY</th>\n",
       "      <th>TRACT</th>\n",
       "      <th>NAME</th>\n",
       "      <th>LSAD</th>\n",
       "      <th>CENSUSAREA</th>\n",
       "      <th>geometry</th>\n",
       "      <th>GEOID</th>\n",
       "      <th>units</th>\n",
       "      <th>C1DIFF</th>\n",
       "      <th>C2DIFF</th>\n",
       "      <th>Borough</th>\n",
       "      <th>2010CensusTract</th>\n",
       "      <th>PUMA</th>\n",
       "      <th>NTA_Code</th>\n",
       "      <th>NTA_Name</th>\n",
       "    </tr>\n",
       "  </thead>\n",
       "  <tbody>\n",
       "    <tr>\n",
       "      <th>0</th>\n",
       "      <td>36047010400</td>\n",
       "      <td>36</td>\n",
       "      <td>047</td>\n",
       "      <td>10400</td>\n",
       "      <td>104</td>\n",
       "      <td>Tract</td>\n",
       "      <td>0.059</td>\n",
       "      <td>POLYGON ((-74.01115399999999 40.637404, -74.01...</td>\n",
       "      <td>36047010400</td>\n",
       "      <td>0.0</td>\n",
       "      <td>0.356418</td>\n",
       "      <td>0.3748</td>\n",
       "      <td>Brooklyn</td>\n",
       "      <td>10400</td>\n",
       "      <td>4012</td>\n",
       "      <td>BK34</td>\n",
       "      <td>Sunset Park East</td>\n",
       "    </tr>\n",
       "  </tbody>\n",
       "</table>\n",
       "</div>"
      ],
      "text/plain": [
       "        GEO_ID STATE COUNTY  TRACT NAME   LSAD  CENSUSAREA  \\\n",
       "0  36047010400    36    047  10400  104  Tract       0.059   \n",
       "\n",
       "                                            geometry        GEOID  units  \\\n",
       "0  POLYGON ((-74.01115399999999 40.637404, -74.01...  36047010400    0.0   \n",
       "\n",
       "     C1DIFF  C2DIFF   Borough  2010CensusTract  PUMA NTA_Code  \\\n",
       "0  0.356418  0.3748  Brooklyn            10400  4012     BK34   \n",
       "\n",
       "           NTA_Name  \n",
       "0  Sunset Park East  "
      ]
     },
     "execution_count": 49,
     "metadata": {},
     "output_type": "execute_result"
    }
   ],
   "source": [
    "data.head(1)"
   ]
  },
  {
   "cell_type": "code",
   "execution_count": 50,
   "metadata": {},
   "outputs": [],
   "source": [
    "data.index = range(len(data.index))"
   ]
  },
  {
   "cell_type": "code",
   "execution_count": 258,
   "metadata": {},
   "outputs": [],
   "source": [
    "#X_num1.columns = ['Crime','Income intergration and poverty level','Traffic convenience','New population']"
   ]
  },
  {
   "cell_type": "code",
   "execution_count": 51,
   "metadata": {},
   "outputs": [],
   "source": [
    "for column in X_num1.columns:\n",
    "    data[column] = X_num1[column]"
   ]
  },
  {
   "cell_type": "code",
   "execution_count": 52,
   "metadata": {},
   "outputs": [],
   "source": [
    "columns = []\n",
    "for column in data.columns:\n",
    "    column = column.replace(' ','_' )\n",
    "    columns.append(column)"
   ]
  },
  {
   "cell_type": "code",
   "execution_count": 53,
   "metadata": {},
   "outputs": [],
   "source": [
    "data.columns = columns"
   ]
  },
  {
   "cell_type": "code",
   "execution_count": 54,
   "metadata": {
    "scrolled": true
   },
   "outputs": [
    {
     "data": {
      "text/html": [
       "<div>\n",
       "<style>\n",
       "    .dataframe thead tr:only-child th {\n",
       "        text-align: right;\n",
       "    }\n",
       "\n",
       "    .dataframe thead th {\n",
       "        text-align: left;\n",
       "    }\n",
       "\n",
       "    .dataframe tbody tr th {\n",
       "        vertical-align: top;\n",
       "    }\n",
       "</style>\n",
       "<table border=\"1\" class=\"dataframe\">\n",
       "  <thead>\n",
       "    <tr style=\"text-align: right;\">\n",
       "      <th></th>\n",
       "      <th>GEO_ID</th>\n",
       "      <th>STATE</th>\n",
       "      <th>COUNTY</th>\n",
       "      <th>TRACT</th>\n",
       "      <th>NAME</th>\n",
       "      <th>LSAD</th>\n",
       "      <th>CENSUSAREA</th>\n",
       "      <th>geometry</th>\n",
       "      <th>GEOID</th>\n",
       "      <th>units</th>\n",
       "      <th>C1DIFF</th>\n",
       "      <th>C2DIFF</th>\n",
       "      <th>Borough</th>\n",
       "      <th>2010CensusTract</th>\n",
       "      <th>PUMA</th>\n",
       "      <th>NTA_Code</th>\n",
       "      <th>NTA_Name</th>\n",
       "      <th>FAC1_1</th>\n",
       "      <th>FAC2_1</th>\n",
       "      <th>FAC3_1</th>\n",
       "      <th>FAC4_1</th>\n",
       "      <th>FAC5_1</th>\n",
       "    </tr>\n",
       "  </thead>\n",
       "  <tbody>\n",
       "    <tr>\n",
       "      <th>0</th>\n",
       "      <td>36047010400</td>\n",
       "      <td>36</td>\n",
       "      <td>047</td>\n",
       "      <td>10400</td>\n",
       "      <td>104</td>\n",
       "      <td>Tract</td>\n",
       "      <td>0.059</td>\n",
       "      <td>POLYGON ((-74.01115399999999 40.637404, -74.01...</td>\n",
       "      <td>36047010400</td>\n",
       "      <td>0.0</td>\n",
       "      <td>0.356418</td>\n",
       "      <td>0.3748</td>\n",
       "      <td>Brooklyn</td>\n",
       "      <td>10400</td>\n",
       "      <td>4012</td>\n",
       "      <td>BK34</td>\n",
       "      <td>Sunset Park East</td>\n",
       "      <td>1.65495</td>\n",
       "      <td>-0.493718</td>\n",
       "      <td>-0.673188</td>\n",
       "      <td>1.525454</td>\n",
       "      <td>1.098561</td>\n",
       "    </tr>\n",
       "  </tbody>\n",
       "</table>\n",
       "</div>"
      ],
      "text/plain": [
       "        GEO_ID STATE COUNTY  TRACT NAME   LSAD  CENSUSAREA  \\\n",
       "0  36047010400    36    047  10400  104  Tract       0.059   \n",
       "\n",
       "                                            geometry        GEOID  units  \\\n",
       "0  POLYGON ((-74.01115399999999 40.637404, -74.01...  36047010400    0.0   \n",
       "\n",
       "     C1DIFF  C2DIFF   Borough  2010CensusTract  PUMA NTA_Code  \\\n",
       "0  0.356418  0.3748  Brooklyn            10400  4012     BK34   \n",
       "\n",
       "           NTA_Name   FAC1_1    FAC2_1    FAC3_1    FAC4_1    FAC5_1  \n",
       "0  Sunset Park East  1.65495 -0.493718 -0.673188  1.525454  1.098561  "
      ]
     },
     "execution_count": 54,
     "metadata": {},
     "output_type": "execute_result"
    }
   ],
   "source": [
    "data.head(1)"
   ]
  },
  {
   "cell_type": "code",
   "execution_count": 55,
   "metadata": {},
   "outputs": [
    {
     "name": "stderr",
     "output_type": "stream",
     "text": [
      "C:\\Users\\sddz0\\Anaconda2\\envs\\py36\\lib\\site-packages\\ipykernel_launcher.py:1: SettingWithCopyWarning: \n",
      "A value is trying to be set on a copy of a slice from a DataFrame\n",
      "\n",
      "See the caveats in the documentation: http://pandas.pydata.org/pandas-docs/stable/indexing.html#indexing-view-versus-copy\n",
      "  \"\"\"Entry point for launching an IPython kernel.\n"
     ]
    }
   ],
   "source": [
    "data.units[data.units > 0] =1"
   ]
  },
  {
   "cell_type": "code",
   "execution_count": 56,
   "metadata": {},
   "outputs": [],
   "source": [
    "from patsy import dmatrices"
   ]
  },
  {
   "cell_type": "code",
   "execution_count": 58,
   "metadata": {},
   "outputs": [],
   "source": [
    "y, X = dmatrices('C1DIFF~C(units)+'+'+'.join(data.columns[-5:]),data,return_type='dataframe')\n",
    "y = np.ravel(y)"
   ]
  },
  {
   "cell_type": "code",
   "execution_count": 59,
   "metadata": {},
   "outputs": [],
   "source": [
    "data['units'] = X['C(units)[T.1.0]']"
   ]
  },
  {
   "cell_type": "code",
   "execution_count": 60,
   "metadata": {},
   "outputs": [
    {
     "data": {
      "text/plain": [
       "'C1Diff~FAC1_1+FAC2_1+FAC3_1+FAC4_1+FAC5_1'"
      ]
     },
     "execution_count": 60,
     "metadata": {},
     "output_type": "execute_result"
    }
   ],
   "source": [
    "'C1Diff~'+'+'.join(data.columns[-5:])"
   ]
  },
  {
   "cell_type": "code",
   "execution_count": 61,
   "metadata": {},
   "outputs": [
    {
     "data": {
      "text/html": [
       "<table class=\"simpletable\">\n",
       "<caption>OLS Regression Results</caption>\n",
       "<tr>\n",
       "  <th>Dep. Variable:</th>         <td>C1DIFF</td>      <th>  R-squared:         </th> <td>   0.136</td>\n",
       "</tr>\n",
       "<tr>\n",
       "  <th>Model:</th>                   <td>OLS</td>       <th>  Adj. R-squared:    </th> <td>   0.130</td>\n",
       "</tr>\n",
       "<tr>\n",
       "  <th>Method:</th>             <td>Least Squares</td>  <th>  F-statistic:       </th> <td>   21.97</td>\n",
       "</tr>\n",
       "<tr>\n",
       "  <th>Date:</th>             <td>Sat, 09 Dec 2017</td> <th>  Prob (F-statistic):</th> <td>1.80e-20</td>\n",
       "</tr>\n",
       "<tr>\n",
       "  <th>Time:</th>                 <td>00:36:22</td>     <th>  Log-Likelihood:    </th> <td>  319.31</td>\n",
       "</tr>\n",
       "<tr>\n",
       "  <th>No. Observations:</th>      <td>   703</td>      <th>  AIC:               </th> <td>  -626.6</td>\n",
       "</tr>\n",
       "<tr>\n",
       "  <th>Df Residuals:</th>          <td>   697</td>      <th>  BIC:               </th> <td>  -599.3</td>\n",
       "</tr>\n",
       "<tr>\n",
       "  <th>Df Model:</th>              <td>     5</td>      <th>                     </th>     <td> </td>   \n",
       "</tr>\n",
       "<tr>\n",
       "  <th>Covariance Type:</th>      <td>nonrobust</td>    <th>                     </th>     <td> </td>   \n",
       "</tr>\n",
       "</table>\n",
       "<table class=\"simpletable\">\n",
       "<tr>\n",
       "      <td></td>         <th>coef</th>     <th>std err</th>      <th>t</th>      <th>P>|t|</th>  <th>[0.025</th>    <th>0.975]</th>  \n",
       "</tr>\n",
       "<tr>\n",
       "  <th>Intercept</th> <td>    0.5665</td> <td>    0.006</td> <td>   97.350</td> <td> 0.000</td> <td>    0.555</td> <td>    0.578</td>\n",
       "</tr>\n",
       "<tr>\n",
       "  <th>FAC1_1</th>    <td>    0.0069</td> <td>    0.006</td> <td>    1.186</td> <td> 0.236</td> <td>   -0.005</td> <td>    0.018</td>\n",
       "</tr>\n",
       "<tr>\n",
       "  <th>FAC2_1</th>    <td>   -0.0025</td> <td>    0.006</td> <td>   -0.437</td> <td> 0.662</td> <td>   -0.014</td> <td>    0.009</td>\n",
       "</tr>\n",
       "<tr>\n",
       "  <th>FAC3_1</th>    <td>    0.0356</td> <td>    0.006</td> <td>    6.109</td> <td> 0.000</td> <td>    0.024</td> <td>    0.047</td>\n",
       "</tr>\n",
       "<tr>\n",
       "  <th>FAC4_1</th>    <td>    0.0059</td> <td>    0.006</td> <td>    1.016</td> <td> 0.310</td> <td>   -0.006</td> <td>    0.017</td>\n",
       "</tr>\n",
       "<tr>\n",
       "  <th>FAC5_1</th>    <td>    0.0487</td> <td>    0.006</td> <td>    8.361</td> <td> 0.000</td> <td>    0.037</td> <td>    0.060</td>\n",
       "</tr>\n",
       "</table>\n",
       "<table class=\"simpletable\">\n",
       "<tr>\n",
       "  <th>Omnibus:</th>       <td>10.541</td> <th>  Durbin-Watson:     </th> <td>   1.521</td>\n",
       "</tr>\n",
       "<tr>\n",
       "  <th>Prob(Omnibus):</th> <td> 0.005</td> <th>  Jarque-Bera (JB):  </th> <td>   8.511</td>\n",
       "</tr>\n",
       "<tr>\n",
       "  <th>Skew:</th>          <td> 0.184</td> <th>  Prob(JB):          </th> <td>  0.0142</td>\n",
       "</tr>\n",
       "<tr>\n",
       "  <th>Kurtosis:</th>      <td> 2.606</td> <th>  Cond. No.          </th> <td>    1.00</td>\n",
       "</tr>\n",
       "</table>"
      ],
      "text/plain": [
       "<class 'statsmodels.iolib.summary.Summary'>\n",
       "\"\"\"\n",
       "                            OLS Regression Results                            \n",
       "==============================================================================\n",
       "Dep. Variable:                 C1DIFF   R-squared:                       0.136\n",
       "Model:                            OLS   Adj. R-squared:                  0.130\n",
       "Method:                 Least Squares   F-statistic:                     21.97\n",
       "Date:                Sat, 09 Dec 2017   Prob (F-statistic):           1.80e-20\n",
       "Time:                        00:36:22   Log-Likelihood:                 319.31\n",
       "No. Observations:                 703   AIC:                            -626.6\n",
       "Df Residuals:                     697   BIC:                            -599.3\n",
       "Df Model:                           5                                         \n",
       "Covariance Type:            nonrobust                                         \n",
       "==============================================================================\n",
       "                 coef    std err          t      P>|t|      [0.025      0.975]\n",
       "------------------------------------------------------------------------------\n",
       "Intercept      0.5665      0.006     97.350      0.000       0.555       0.578\n",
       "FAC1_1         0.0069      0.006      1.186      0.236      -0.005       0.018\n",
       "FAC2_1        -0.0025      0.006     -0.437      0.662      -0.014       0.009\n",
       "FAC3_1         0.0356      0.006      6.109      0.000       0.024       0.047\n",
       "FAC4_1         0.0059      0.006      1.016      0.310      -0.006       0.017\n",
       "FAC5_1         0.0487      0.006      8.361      0.000       0.037       0.060\n",
       "==============================================================================\n",
       "Omnibus:                       10.541   Durbin-Watson:                   1.521\n",
       "Prob(Omnibus):                  0.005   Jarque-Bera (JB):                8.511\n",
       "Skew:                           0.184   Prob(JB):                       0.0142\n",
       "Kurtosis:                       2.606   Cond. No.                         1.00\n",
       "==============================================================================\n",
       "\n",
       "Warnings:\n",
       "[1] Standard Errors assume that the covariance matrix of the errors is correctly specified.\n",
       "\"\"\""
      ]
     },
     "execution_count": 61,
     "metadata": {},
     "output_type": "execute_result"
    }
   ],
   "source": [
    "lm_no_units = smf.ols(formula='C1DIFF~'+'+'.join(data.columns[-5:])\n",
    "             ,data=data).fit()\n",
    "lm_no_units.summary()"
   ]
  },
  {
   "cell_type": "code",
   "execution_count": 62,
   "metadata": {},
   "outputs": [
    {
     "data": {
      "text/html": [
       "<table class=\"simpletable\">\n",
       "<caption>OLS Regression Results</caption>\n",
       "<tr>\n",
       "  <th>Dep. Variable:</th>         <td>C1DIFF</td>      <th>  R-squared:         </th> <td>   0.151</td>\n",
       "</tr>\n",
       "<tr>\n",
       "  <th>Model:</th>                   <td>OLS</td>       <th>  Adj. R-squared:    </th> <td>   0.144</td>\n",
       "</tr>\n",
       "<tr>\n",
       "  <th>Method:</th>             <td>Least Squares</td>  <th>  F-statistic:       </th> <td>   20.69</td>\n",
       "</tr>\n",
       "<tr>\n",
       "  <th>Date:</th>             <td>Sat, 09 Dec 2017</td> <th>  Prob (F-statistic):</th> <td>2.28e-22</td>\n",
       "</tr>\n",
       "<tr>\n",
       "  <th>Time:</th>                 <td>00:36:28</td>     <th>  Log-Likelihood:    </th> <td>  325.55</td>\n",
       "</tr>\n",
       "<tr>\n",
       "  <th>No. Observations:</th>      <td>   703</td>      <th>  AIC:               </th> <td>  -637.1</td>\n",
       "</tr>\n",
       "<tr>\n",
       "  <th>Df Residuals:</th>          <td>   696</td>      <th>  BIC:               </th> <td>  -605.2</td>\n",
       "</tr>\n",
       "<tr>\n",
       "  <th>Df Model:</th>              <td>     6</td>      <th>                     </th>     <td> </td>   \n",
       "</tr>\n",
       "<tr>\n",
       "  <th>Covariance Type:</th>      <td>nonrobust</td>    <th>                     </th>     <td> </td>   \n",
       "</tr>\n",
       "</table>\n",
       "<table class=\"simpletable\">\n",
       "<tr>\n",
       "         <td></td>            <th>coef</th>     <th>std err</th>      <th>t</th>      <th>P>|t|</th>  <th>[0.025</th>    <th>0.975]</th>  \n",
       "</tr>\n",
       "<tr>\n",
       "  <th>Intercept</th>       <td>    0.5625</td> <td>    0.006</td> <td>   95.627</td> <td> 0.000</td> <td>    0.551</td> <td>    0.574</td>\n",
       "</tr>\n",
       "<tr>\n",
       "  <th>C(units)[T.1.0]</th> <td>    0.1126</td> <td>    0.032</td> <td>    3.531</td> <td> 0.000</td> <td>    0.050</td> <td>    0.175</td>\n",
       "</tr>\n",
       "<tr>\n",
       "  <th>FAC1_1</th>          <td>    0.0067</td> <td>    0.006</td> <td>    1.165</td> <td> 0.244</td> <td>   -0.005</td> <td>    0.018</td>\n",
       "</tr>\n",
       "<tr>\n",
       "  <th>FAC2_1</th>          <td>   -0.0016</td> <td>    0.006</td> <td>   -0.268</td> <td> 0.788</td> <td>   -0.013</td> <td>    0.010</td>\n",
       "</tr>\n",
       "<tr>\n",
       "  <th>FAC3_1</th>          <td>    0.0343</td> <td>    0.006</td> <td>    5.935</td> <td> 0.000</td> <td>    0.023</td> <td>    0.046</td>\n",
       "</tr>\n",
       "<tr>\n",
       "  <th>FAC4_1</th>          <td>    0.0068</td> <td>    0.006</td> <td>    1.168</td> <td> 0.243</td> <td>   -0.005</td> <td>    0.018</td>\n",
       "</tr>\n",
       "<tr>\n",
       "  <th>FAC5_1</th>          <td>    0.0447</td> <td>    0.006</td> <td>    7.591</td> <td> 0.000</td> <td>    0.033</td> <td>    0.056</td>\n",
       "</tr>\n",
       "</table>\n",
       "<table class=\"simpletable\">\n",
       "<tr>\n",
       "  <th>Omnibus:</th>       <td> 9.571</td> <th>  Durbin-Watson:     </th> <td>   1.511</td>\n",
       "</tr>\n",
       "<tr>\n",
       "  <th>Prob(Omnibus):</th> <td> 0.008</td> <th>  Jarque-Bera (JB):  </th> <td>   8.357</td>\n",
       "</tr>\n",
       "<tr>\n",
       "  <th>Skew:</th>          <td> 0.202</td> <th>  Prob(JB):          </th> <td>  0.0153</td>\n",
       "</tr>\n",
       "<tr>\n",
       "  <th>Kurtosis:</th>      <td> 2.651</td> <th>  Cond. No.          </th> <td>    5.54</td>\n",
       "</tr>\n",
       "</table>"
      ],
      "text/plain": [
       "<class 'statsmodels.iolib.summary.Summary'>\n",
       "\"\"\"\n",
       "                            OLS Regression Results                            \n",
       "==============================================================================\n",
       "Dep. Variable:                 C1DIFF   R-squared:                       0.151\n",
       "Model:                            OLS   Adj. R-squared:                  0.144\n",
       "Method:                 Least Squares   F-statistic:                     20.69\n",
       "Date:                Sat, 09 Dec 2017   Prob (F-statistic):           2.28e-22\n",
       "Time:                        00:36:28   Log-Likelihood:                 325.55\n",
       "No. Observations:                 703   AIC:                            -637.1\n",
       "Df Residuals:                     696   BIC:                            -605.2\n",
       "Df Model:                           6                                         \n",
       "Covariance Type:            nonrobust                                         \n",
       "===================================================================================\n",
       "                      coef    std err          t      P>|t|      [0.025      0.975]\n",
       "-----------------------------------------------------------------------------------\n",
       "Intercept           0.5625      0.006     95.627      0.000       0.551       0.574\n",
       "C(units)[T.1.0]     0.1126      0.032      3.531      0.000       0.050       0.175\n",
       "FAC1_1              0.0067      0.006      1.165      0.244      -0.005       0.018\n",
       "FAC2_1             -0.0016      0.006     -0.268      0.788      -0.013       0.010\n",
       "FAC3_1              0.0343      0.006      5.935      0.000       0.023       0.046\n",
       "FAC4_1              0.0068      0.006      1.168      0.243      -0.005       0.018\n",
       "FAC5_1              0.0447      0.006      7.591      0.000       0.033       0.056\n",
       "==============================================================================\n",
       "Omnibus:                        9.571   Durbin-Watson:                   1.511\n",
       "Prob(Omnibus):                  0.008   Jarque-Bera (JB):                8.357\n",
       "Skew:                           0.202   Prob(JB):                       0.0153\n",
       "Kurtosis:                       2.651   Cond. No.                         5.54\n",
       "==============================================================================\n",
       "\n",
       "Warnings:\n",
       "[1] Standard Errors assume that the covariance matrix of the errors is correctly specified.\n",
       "\"\"\""
      ]
     },
     "execution_count": 62,
     "metadata": {},
     "output_type": "execute_result"
    }
   ],
   "source": [
    "lm_with_units = smf.ols(formula='C1DIFF~C(units)+'+'+'.join(data.columns[-5:])\n",
    "             ,data=data).fit()\n",
    "lm_with_units.summary()"
   ]
  },
  {
   "cell_type": "code",
   "execution_count": 63,
   "metadata": {},
   "outputs": [
    {
     "name": "stderr",
     "output_type": "stream",
     "text": [
      "C:\\Users\\sddz0\\Anaconda2\\envs\\py36\\lib\\site-packages\\scipy\\stats\\_distn_infrastructure.py:879: RuntimeWarning: invalid value encountered in greater\n",
      "  return (self.a < x) & (x < self.b)\n",
      "C:\\Users\\sddz0\\Anaconda2\\envs\\py36\\lib\\site-packages\\scipy\\stats\\_distn_infrastructure.py:879: RuntimeWarning: invalid value encountered in less\n",
      "  return (self.a < x) & (x < self.b)\n",
      "C:\\Users\\sddz0\\Anaconda2\\envs\\py36\\lib\\site-packages\\scipy\\stats\\_distn_infrastructure.py:1818: RuntimeWarning: invalid value encountered in less_equal\n",
      "  cond2 = cond0 & (x <= self.a)\n"
     ]
    },
    {
     "data": {
      "text/html": [
       "<div>\n",
       "<style>\n",
       "    .dataframe thead tr:only-child th {\n",
       "        text-align: right;\n",
       "    }\n",
       "\n",
       "    .dataframe thead th {\n",
       "        text-align: left;\n",
       "    }\n",
       "\n",
       "    .dataframe tbody tr th {\n",
       "        vertical-align: top;\n",
       "    }\n",
       "</style>\n",
       "<table border=\"1\" class=\"dataframe\">\n",
       "  <thead>\n",
       "    <tr style=\"text-align: right;\">\n",
       "      <th></th>\n",
       "      <th>df_resid</th>\n",
       "      <th>ssr</th>\n",
       "      <th>df_diff</th>\n",
       "      <th>ss_diff</th>\n",
       "      <th>F</th>\n",
       "      <th>Pr(&gt;F)</th>\n",
       "    </tr>\n",
       "  </thead>\n",
       "  <tbody>\n",
       "    <tr>\n",
       "      <th>0</th>\n",
       "      <td>697.0</td>\n",
       "      <td>16.594344</td>\n",
       "      <td>0.0</td>\n",
       "      <td>NaN</td>\n",
       "      <td>NaN</td>\n",
       "      <td>NaN</td>\n",
       "    </tr>\n",
       "    <tr>\n",
       "      <th>1</th>\n",
       "      <td>696.0</td>\n",
       "      <td>16.302320</td>\n",
       "      <td>1.0</td>\n",
       "      <td>0.292024</td>\n",
       "      <td>12.46748</td>\n",
       "      <td>0.000441</td>\n",
       "    </tr>\n",
       "  </tbody>\n",
       "</table>\n",
       "</div>"
      ],
      "text/plain": [
       "   df_resid        ssr  df_diff   ss_diff         F    Pr(>F)\n",
       "0     697.0  16.594344      0.0       NaN       NaN       NaN\n",
       "1     696.0  16.302320      1.0  0.292024  12.46748  0.000441"
      ]
     },
     "execution_count": 63,
     "metadata": {},
     "output_type": "execute_result"
    }
   ],
   "source": [
    "anova = sm.stats.anova_lm(lm_no_units,lm_with_units)\n",
    "anova"
   ]
  },
  {
   "cell_type": "code",
   "execution_count": 64,
   "metadata": {},
   "outputs": [
    {
     "data": {
      "text/html": [
       "<table class=\"simpletable\">\n",
       "<caption>OLS Regression Results</caption>\n",
       "<tr>\n",
       "  <th>Dep. Variable:</th>         <td>C2DIFF</td>      <th>  R-squared:         </th> <td>   0.048</td>\n",
       "</tr>\n",
       "<tr>\n",
       "  <th>Model:</th>                   <td>OLS</td>       <th>  Adj. R-squared:    </th> <td>   0.041</td>\n",
       "</tr>\n",
       "<tr>\n",
       "  <th>Method:</th>             <td>Least Squares</td>  <th>  F-statistic:       </th> <td>   7.049</td>\n",
       "</tr>\n",
       "<tr>\n",
       "  <th>Date:</th>             <td>Sat, 09 Dec 2017</td> <th>  Prob (F-statistic):</th> <td>1.93e-06</td>\n",
       "</tr>\n",
       "<tr>\n",
       "  <th>Time:</th>                 <td>00:37:10</td>     <th>  Log-Likelihood:    </th> <td>  462.35</td>\n",
       "</tr>\n",
       "<tr>\n",
       "  <th>No. Observations:</th>      <td>   703</td>      <th>  AIC:               </th> <td>  -912.7</td>\n",
       "</tr>\n",
       "<tr>\n",
       "  <th>Df Residuals:</th>          <td>   697</td>      <th>  BIC:               </th> <td>  -885.4</td>\n",
       "</tr>\n",
       "<tr>\n",
       "  <th>Df Model:</th>              <td>     5</td>      <th>                     </th>     <td> </td>   \n",
       "</tr>\n",
       "<tr>\n",
       "  <th>Covariance Type:</th>      <td>nonrobust</td>    <th>                     </th>     <td> </td>   \n",
       "</tr>\n",
       "</table>\n",
       "<table class=\"simpletable\">\n",
       "<tr>\n",
       "      <td></td>         <th>coef</th>     <th>std err</th>      <th>t</th>      <th>P>|t|</th>  <th>[0.025</th>    <th>0.975]</th>  \n",
       "</tr>\n",
       "<tr>\n",
       "  <th>Intercept</th> <td>    0.3515</td> <td>    0.005</td> <td>   74.024</td> <td> 0.000</td> <td>    0.342</td> <td>    0.361</td>\n",
       "</tr>\n",
       "<tr>\n",
       "  <th>FAC1_1</th>    <td>   -0.0041</td> <td>    0.005</td> <td>   -0.855</td> <td> 0.393</td> <td>   -0.013</td> <td>    0.005</td>\n",
       "</tr>\n",
       "<tr>\n",
       "  <th>FAC2_1</th>    <td>    0.0065</td> <td>    0.005</td> <td>    1.366</td> <td> 0.172</td> <td>   -0.003</td> <td>    0.016</td>\n",
       "</tr>\n",
       "<tr>\n",
       "  <th>FAC3_1</th>    <td>    0.0064</td> <td>    0.005</td> <td>    1.343</td> <td> 0.180</td> <td>   -0.003</td> <td>    0.016</td>\n",
       "</tr>\n",
       "<tr>\n",
       "  <th>FAC4_1</th>    <td>    0.0052</td> <td>    0.005</td> <td>    1.088</td> <td> 0.277</td> <td>   -0.004</td> <td>    0.014</td>\n",
       "</tr>\n",
       "<tr>\n",
       "  <th>FAC5_1</th>    <td>    0.0259</td> <td>    0.005</td> <td>    5.446</td> <td> 0.000</td> <td>    0.017</td> <td>    0.035</td>\n",
       "</tr>\n",
       "</table>\n",
       "<table class=\"simpletable\">\n",
       "<tr>\n",
       "  <th>Omnibus:</th>       <td> 3.906</td> <th>  Durbin-Watson:     </th> <td>   1.434</td>\n",
       "</tr>\n",
       "<tr>\n",
       "  <th>Prob(Omnibus):</th> <td> 0.142</td> <th>  Jarque-Bera (JB):  </th> <td>   3.065</td>\n",
       "</tr>\n",
       "<tr>\n",
       "  <th>Skew:</th>          <td>-0.016</td> <th>  Prob(JB):          </th> <td>   0.216</td>\n",
       "</tr>\n",
       "<tr>\n",
       "  <th>Kurtosis:</th>      <td> 2.678</td> <th>  Cond. No.          </th> <td>    1.00</td>\n",
       "</tr>\n",
       "</table>"
      ],
      "text/plain": [
       "<class 'statsmodels.iolib.summary.Summary'>\n",
       "\"\"\"\n",
       "                            OLS Regression Results                            \n",
       "==============================================================================\n",
       "Dep. Variable:                 C2DIFF   R-squared:                       0.048\n",
       "Model:                            OLS   Adj. R-squared:                  0.041\n",
       "Method:                 Least Squares   F-statistic:                     7.049\n",
       "Date:                Sat, 09 Dec 2017   Prob (F-statistic):           1.93e-06\n",
       "Time:                        00:37:10   Log-Likelihood:                 462.35\n",
       "No. Observations:                 703   AIC:                            -912.7\n",
       "Df Residuals:                     697   BIC:                            -885.4\n",
       "Df Model:                           5                                         \n",
       "Covariance Type:            nonrobust                                         \n",
       "==============================================================================\n",
       "                 coef    std err          t      P>|t|      [0.025      0.975]\n",
       "------------------------------------------------------------------------------\n",
       "Intercept      0.3515      0.005     74.024      0.000       0.342       0.361\n",
       "FAC1_1        -0.0041      0.005     -0.855      0.393      -0.013       0.005\n",
       "FAC2_1         0.0065      0.005      1.366      0.172      -0.003       0.016\n",
       "FAC3_1         0.0064      0.005      1.343      0.180      -0.003       0.016\n",
       "FAC4_1         0.0052      0.005      1.088      0.277      -0.004       0.014\n",
       "FAC5_1         0.0259      0.005      5.446      0.000       0.017       0.035\n",
       "==============================================================================\n",
       "Omnibus:                        3.906   Durbin-Watson:                   1.434\n",
       "Prob(Omnibus):                  0.142   Jarque-Bera (JB):                3.065\n",
       "Skew:                          -0.016   Prob(JB):                        0.216\n",
       "Kurtosis:                       2.678   Cond. No.                         1.00\n",
       "==============================================================================\n",
       "\n",
       "Warnings:\n",
       "[1] Standard Errors assume that the covariance matrix of the errors is correctly specified.\n",
       "\"\"\""
      ]
     },
     "execution_count": 64,
     "metadata": {},
     "output_type": "execute_result"
    }
   ],
   "source": [
    "lm1_no_units = smf.ols(formula='C2DIFF~'+'+'.join(data.columns[-5:])\n",
    "             ,data=data).fit()\n",
    "lm1_no_units.summary()"
   ]
  },
  {
   "cell_type": "code",
   "execution_count": 65,
   "metadata": {},
   "outputs": [
    {
     "data": {
      "text/html": [
       "<table class=\"simpletable\">\n",
       "<caption>OLS Regression Results</caption>\n",
       "<tr>\n",
       "  <th>Dep. Variable:</th>         <td>C2DIFF</td>      <th>  R-squared:         </th> <td>   0.050</td>\n",
       "</tr>\n",
       "<tr>\n",
       "  <th>Model:</th>                   <td>OLS</td>       <th>  Adj. R-squared:    </th> <td>   0.042</td>\n",
       "</tr>\n",
       "<tr>\n",
       "  <th>Method:</th>             <td>Least Squares</td>  <th>  F-statistic:       </th> <td>   6.118</td>\n",
       "</tr>\n",
       "<tr>\n",
       "  <th>Date:</th>             <td>Sat, 09 Dec 2017</td> <th>  Prob (F-statistic):</th> <td>2.92e-06</td>\n",
       "</tr>\n",
       "<tr>\n",
       "  <th>Time:</th>                 <td>00:37:17</td>     <th>  Log-Likelihood:    </th> <td>  463.08</td>\n",
       "</tr>\n",
       "<tr>\n",
       "  <th>No. Observations:</th>      <td>   703</td>      <th>  AIC:               </th> <td>  -912.2</td>\n",
       "</tr>\n",
       "<tr>\n",
       "  <th>Df Residuals:</th>          <td>   696</td>      <th>  BIC:               </th> <td>  -880.3</td>\n",
       "</tr>\n",
       "<tr>\n",
       "  <th>Df Model:</th>              <td>     6</td>      <th>                     </th>     <td> </td>   \n",
       "</tr>\n",
       "<tr>\n",
       "  <th>Covariance Type:</th>      <td>nonrobust</td>    <th>                     </th>     <td> </td>   \n",
       "</tr>\n",
       "</table>\n",
       "<table class=\"simpletable\">\n",
       "<tr>\n",
       "         <td></td>            <th>coef</th>     <th>std err</th>      <th>t</th>      <th>P>|t|</th>  <th>[0.025</th>    <th>0.975]</th>  \n",
       "</tr>\n",
       "<tr>\n",
       "  <th>Intercept</th>       <td>    0.3504</td> <td>    0.005</td> <td>   72.428</td> <td> 0.000</td> <td>    0.341</td> <td>    0.360</td>\n",
       "</tr>\n",
       "<tr>\n",
       "  <th>C(units)[T.1.0]</th> <td>    0.0314</td> <td>    0.026</td> <td>    1.199</td> <td> 0.231</td> <td>   -0.020</td> <td>    0.083</td>\n",
       "</tr>\n",
       "<tr>\n",
       "  <th>FAC1_1</th>          <td>   -0.0041</td> <td>    0.005</td> <td>   -0.866</td> <td> 0.387</td> <td>   -0.013</td> <td>    0.005</td>\n",
       "</tr>\n",
       "<tr>\n",
       "  <th>FAC2_1</th>          <td>    0.0068</td> <td>    0.005</td> <td>    1.423</td> <td> 0.155</td> <td>   -0.003</td> <td>    0.016</td>\n",
       "</tr>\n",
       "<tr>\n",
       "  <th>FAC3_1</th>          <td>    0.0060</td> <td>    0.005</td> <td>    1.269</td> <td> 0.205</td> <td>   -0.003</td> <td>    0.015</td>\n",
       "</tr>\n",
       "<tr>\n",
       "  <th>FAC4_1</th>          <td>    0.0054</td> <td>    0.005</td> <td>    1.137</td> <td> 0.256</td> <td>   -0.004</td> <td>    0.015</td>\n",
       "</tr>\n",
       "<tr>\n",
       "  <th>FAC5_1</th>          <td>    0.0248</td> <td>    0.005</td> <td>    5.115</td> <td> 0.000</td> <td>    0.015</td> <td>    0.034</td>\n",
       "</tr>\n",
       "</table>\n",
       "<table class=\"simpletable\">\n",
       "<tr>\n",
       "  <th>Omnibus:</th>       <td> 4.476</td> <th>  Durbin-Watson:     </th> <td>   1.435</td>\n",
       "</tr>\n",
       "<tr>\n",
       "  <th>Prob(Omnibus):</th> <td> 0.107</td> <th>  Jarque-Bera (JB):  </th> <td>   3.401</td>\n",
       "</tr>\n",
       "<tr>\n",
       "  <th>Skew:</th>          <td>-0.011</td> <th>  Prob(JB):          </th> <td>   0.183</td>\n",
       "</tr>\n",
       "<tr>\n",
       "  <th>Kurtosis:</th>      <td> 2.660</td> <th>  Cond. No.          </th> <td>    5.54</td>\n",
       "</tr>\n",
       "</table>"
      ],
      "text/plain": [
       "<class 'statsmodels.iolib.summary.Summary'>\n",
       "\"\"\"\n",
       "                            OLS Regression Results                            \n",
       "==============================================================================\n",
       "Dep. Variable:                 C2DIFF   R-squared:                       0.050\n",
       "Model:                            OLS   Adj. R-squared:                  0.042\n",
       "Method:                 Least Squares   F-statistic:                     6.118\n",
       "Date:                Sat, 09 Dec 2017   Prob (F-statistic):           2.92e-06\n",
       "Time:                        00:37:17   Log-Likelihood:                 463.08\n",
       "No. Observations:                 703   AIC:                            -912.2\n",
       "Df Residuals:                     696   BIC:                            -880.3\n",
       "Df Model:                           6                                         \n",
       "Covariance Type:            nonrobust                                         \n",
       "===================================================================================\n",
       "                      coef    std err          t      P>|t|      [0.025      0.975]\n",
       "-----------------------------------------------------------------------------------\n",
       "Intercept           0.3504      0.005     72.428      0.000       0.341       0.360\n",
       "C(units)[T.1.0]     0.0314      0.026      1.199      0.231      -0.020       0.083\n",
       "FAC1_1             -0.0041      0.005     -0.866      0.387      -0.013       0.005\n",
       "FAC2_1              0.0068      0.005      1.423      0.155      -0.003       0.016\n",
       "FAC3_1              0.0060      0.005      1.269      0.205      -0.003       0.015\n",
       "FAC4_1              0.0054      0.005      1.137      0.256      -0.004       0.015\n",
       "FAC5_1              0.0248      0.005      5.115      0.000       0.015       0.034\n",
       "==============================================================================\n",
       "Omnibus:                        4.476   Durbin-Watson:                   1.435\n",
       "Prob(Omnibus):                  0.107   Jarque-Bera (JB):                3.401\n",
       "Skew:                          -0.011   Prob(JB):                        0.183\n",
       "Kurtosis:                       2.660   Cond. No.                         5.54\n",
       "==============================================================================\n",
       "\n",
       "Warnings:\n",
       "[1] Standard Errors assume that the covariance matrix of the errors is correctly specified.\n",
       "\"\"\""
      ]
     },
     "execution_count": 65,
     "metadata": {},
     "output_type": "execute_result"
    }
   ],
   "source": [
    "lm1_with_units = smf.ols(formula='C2DIFF~C(units)+'+'+'.join(data.columns[-5:])\n",
    "             ,data=data).fit()\n",
    "lm1_with_units.summary()"
   ]
  },
  {
   "cell_type": "code",
   "execution_count": 67,
   "metadata": {},
   "outputs": [
    {
     "name": "stderr",
     "output_type": "stream",
     "text": [
      "C:\\Users\\sddz0\\Anaconda2\\envs\\py36\\lib\\site-packages\\scipy\\stats\\_distn_infrastructure.py:879: RuntimeWarning: invalid value encountered in greater\n",
      "  return (self.a < x) & (x < self.b)\n",
      "C:\\Users\\sddz0\\Anaconda2\\envs\\py36\\lib\\site-packages\\scipy\\stats\\_distn_infrastructure.py:879: RuntimeWarning: invalid value encountered in less\n",
      "  return (self.a < x) & (x < self.b)\n",
      "C:\\Users\\sddz0\\Anaconda2\\envs\\py36\\lib\\site-packages\\scipy\\stats\\_distn_infrastructure.py:1818: RuntimeWarning: invalid value encountered in less_equal\n",
      "  cond2 = cond0 & (x <= self.a)\n"
     ]
    },
    {
     "data": {
      "text/html": [
       "<div>\n",
       "<style>\n",
       "    .dataframe thead tr:only-child th {\n",
       "        text-align: right;\n",
       "    }\n",
       "\n",
       "    .dataframe thead th {\n",
       "        text-align: left;\n",
       "    }\n",
       "\n",
       "    .dataframe tbody tr th {\n",
       "        vertical-align: top;\n",
       "    }\n",
       "</style>\n",
       "<table border=\"1\" class=\"dataframe\">\n",
       "  <thead>\n",
       "    <tr style=\"text-align: right;\">\n",
       "      <th></th>\n",
       "      <th>df_resid</th>\n",
       "      <th>ssr</th>\n",
       "      <th>df_diff</th>\n",
       "      <th>ss_diff</th>\n",
       "      <th>F</th>\n",
       "      <th>Pr(&gt;F)</th>\n",
       "    </tr>\n",
       "  </thead>\n",
       "  <tbody>\n",
       "    <tr>\n",
       "      <th>0</th>\n",
       "      <td>697.0</td>\n",
       "      <td>11.046388</td>\n",
       "      <td>0.0</td>\n",
       "      <td>NaN</td>\n",
       "      <td>NaN</td>\n",
       "      <td>NaN</td>\n",
       "    </tr>\n",
       "    <tr>\n",
       "      <th>1</th>\n",
       "      <td>696.0</td>\n",
       "      <td>11.023600</td>\n",
       "      <td>1.0</td>\n",
       "      <td>0.022788</td>\n",
       "      <td>1.438796</td>\n",
       "      <td>0.230742</td>\n",
       "    </tr>\n",
       "  </tbody>\n",
       "</table>\n",
       "</div>"
      ],
      "text/plain": [
       "   df_resid        ssr  df_diff   ss_diff         F    Pr(>F)\n",
       "0     697.0  11.046388      0.0       NaN       NaN       NaN\n",
       "1     696.0  11.023600      1.0  0.022788  1.438796  0.230742"
      ]
     },
     "execution_count": 67,
     "metadata": {},
     "output_type": "execute_result"
    }
   ],
   "source": [
    "anova = sm.stats.anova_lm(lm1_no_units,lm1_with_units)\n",
    "anova"
   ]
  },
  {
   "cell_type": "markdown",
   "metadata": {},
   "source": [
    "## Spatial regression"
   ]
  },
  {
   "cell_type": "code",
   "execution_count": 68,
   "metadata": {},
   "outputs": [
    {
     "data": {
      "text/plain": [
       "<matplotlib.axes._subplots.AxesSubplot at 0x1f47c57ca58>"
      ]
     },
     "execution_count": 68,
     "metadata": {},
     "output_type": "execute_result"
    },
    {
     "data": {
      "image/png": "[encoded data removed]",
      "text/plain": [
       "<matplotlib.figure.Figure at 0x1f47c5de2b0>"
      ]
     },
     "metadata": {},
     "output_type": "display_data"
    }
   ],
   "source": [
    "data.plot()"
   ]
  },
  {
   "cell_type": "code",
   "execution_count": 69,
   "metadata": {},
   "outputs": [],
   "source": [
    "W = pysal.weights.Queen.from_dataframe(data)"
   ]
  },
  {
   "cell_type": "code",
   "execution_count": 70,
   "metadata": {},
   "outputs": [
    {
     "data": {
      "text/plain": [
       "[]"
      ]
     },
     "execution_count": 70,
     "metadata": {},
     "output_type": "execute_result"
    }
   ],
   "source": [
    "W.islands"
   ]
  },
  {
   "cell_type": "code",
   "execution_count": 71,
   "metadata": {},
   "outputs": [],
   "source": [
    "data = data.drop(W.islands)"
   ]
  },
  {
   "cell_type": "code",
   "execution_count": 72,
   "metadata": {},
   "outputs": [],
   "source": [
    "from pysal.spreg import ols"
   ]
  },
  {
   "cell_type": "code",
   "execution_count": 73,
   "metadata": {},
   "outputs": [],
   "source": [
    "W1 = pysal.weights.Queen.from_dataframe(data)"
   ]
  },
  {
   "cell_type": "code",
   "execution_count": 74,
   "metadata": {},
   "outputs": [],
   "source": [
    "y = np.array(data['C1DIFF'])"
   ]
  },
  {
   "cell_type": "code",
   "execution_count": 75,
   "metadata": {},
   "outputs": [],
   "source": [
    "y.shape = (len(y),1)"
   ]
  },
  {
   "cell_type": "code",
   "execution_count": 76,
   "metadata": {},
   "outputs": [],
   "source": [
    "X = np.array(data[list(data.columns[-5:])+['units']]).T"
   ]
  },
  {
   "cell_type": "code",
   "execution_count": 77,
   "metadata": {},
   "outputs": [],
   "source": [
    "X = X.T"
   ]
  },
  {
   "cell_type": "code",
   "execution_count": 78,
   "metadata": {},
   "outputs": [
    {
     "name": "stdout",
     "output_type": "stream",
     "text": [
      "REGRESSION\n",
      "----------\n",
      "SUMMARY OF OUTPUT: ORDINARY LEAST SQUARES\n",
      "-----------------------------------------\n",
      "Data set            :        data\n",
      "Weights matrix      :        None\n",
      "Dependent Variable  :      C1Diff                Number of Observations:         703\n",
      "Mean dependent var  :      0.5665                Number of Variables   :           7\n",
      "S.D. dependent var  :      0.1654                Degrees of Freedom    :         696\n",
      "R-squared           :      0.1513\n",
      "Adjusted R-squared  :      0.1440\n",
      "Sum squared residual:      16.302                F-statistic           :     20.6873\n",
      "Sigma-square        :       0.023                Prob(F-statistic)     :   2.279e-22\n",
      "S.E. of regression  :       0.153                Log likelihood        :     325.550\n",
      "Sigma-square ML     :       0.023                Akaike info criterion :    -637.099\n",
      "S.E of regression ML:      0.1523                Schwarz criterion     :    -605.212\n",
      "\n",
      "------------------------------------------------------------------------------------\n",
      "            Variable     Coefficient       Std.Error     t-Statistic     Probability\n",
      "------------------------------------------------------------------------------------\n",
      "            CONSTANT       0.5625240       0.0058825      95.6265494       0.0000000\n",
      "              FAC1_1       0.0067286       0.0057765       1.1648230       0.2444897\n",
      "              FAC2_1      -0.0015521       0.0057832      -0.2683832       0.7884839\n",
      "              FAC3_1       0.0343433       0.0057868       5.9347376       0.0000000\n",
      "              FAC4_1       0.0067553       0.0057812       1.1684896       0.2430094\n",
      "              FAC5_1       0.0446873       0.0058866       7.5913840       0.0000000\n",
      "               units       0.1125729       0.0318819       3.5309319       0.0004414\n",
      "------------------------------------------------------------------------------------\n",
      "\n",
      "REGRESSION DIAGNOSTICS\n",
      "MULTICOLLINEARITY CONDITION NUMBER            1.333\n",
      "\n",
      "TEST ON NORMALITY OF ERRORS\n",
      "TEST                             DF        VALUE           PROB\n",
      "Jarque-Bera                       2           8.357           0.0153\n",
      "\n",
      "DIAGNOSTICS FOR HETEROSKEDASTICITY\n",
      "RANDOM COEFFICIENTS\n",
      "TEST                             DF        VALUE           PROB\n",
      "Breusch-Pagan test                6           7.641           0.2656\n",
      "Koenker-Bassett test              6           9.257           0.1596\n",
      "================================ END OF REPORT =====================================\n"
     ]
    }
   ],
   "source": [
    "ls = ols.OLS(y, X, name_y = 'C1Diff', name_x = list(data.columns[-5:])+['units'], name_ds = 'data')\n",
    "print(ls.summary)"
   ]
  },
  {
   "cell_type": "code",
   "execution_count": 79,
   "metadata": {},
   "outputs": [
    {
     "data": {
      "text/plain": [
       "<pysal.esda.moran.Moran at 0x1f47c781f60>"
      ]
     },
     "execution_count": 79,
     "metadata": {},
     "output_type": "execute_result"
    }
   ],
   "source": [
    "pysal.Moran(ls.u, W1, two_tailed=False)"
   ]
  },
  {
   "cell_type": "code",
   "execution_count": 80,
   "metadata": {},
   "outputs": [
    {
     "name": "stdout",
     "output_type": "stream",
     "text": [
      "Observed I: 0.558409081226 \n",
      "Expected I: -0.0014245014245014246 \n",
      "   p-value: 0.0\n"
     ]
    }
   ],
   "source": [
    "mi = pysal.Moran(ls.u, W1, two_tailed=False)\n",
    "print('Observed I:', mi.I, '\\nExpected I:', mi.EI, '\\n   p-value:', mi.p_norm)"
   ]
  },
  {
   "cell_type": "code",
   "execution_count": 81,
   "metadata": {},
   "outputs": [],
   "source": [
    "from pysal.spreg import ml_lag, ml_error"
   ]
  },
  {
   "cell_type": "code",
   "execution_count": 82,
   "metadata": {},
   "outputs": [
    {
     "name": "stderr",
     "output_type": "stream",
     "text": [
      "C:\\Users\\sddz0\\Anaconda2\\envs\\py36\\lib\\site-packages\\scipy\\optimize\\_minimize.py:600: RuntimeWarning: Method 'bounded' does not support relative tolerance in x; defaulting to absolute tolerance.\n",
      "  \"defaulting to absolute tolerance.\", RuntimeWarning)\n"
     ]
    },
    {
     "name": "stdout",
     "output_type": "stream",
     "text": [
      "REGRESSION\n",
      "----------\n",
      "SUMMARY OF OUTPUT: MAXIMUM LIKELIHOOD SPATIAL LAG (METHOD = FULL)\n",
      "-----------------------------------------------------------------\n",
      "Data set            :        data\n",
      "Weights matrix      :          W1\n",
      "Dependent Variable  :      C1Diff                Number of Observations:         703\n",
      "Mean dependent var  :      0.5665                Number of Variables   :           8\n",
      "S.D. dependent var  :      0.1654                Degrees of Freedom    :         695\n",
      "Pseudo R-squared    :      0.6636\n",
      "Spatial Pseudo R-squared:  0.2378\n",
      "Sigma-square ML     :       0.010                Log likelihood        :     580.262\n",
      "S.E of regression   :       0.098                Akaike info criterion :   -1144.523\n",
      "                                                 Schwarz criterion     :   -1108.081\n",
      "\n",
      "------------------------------------------------------------------------------------\n",
      "            Variable     Coefficient       Std.Error     z-Statistic     Probability\n",
      "------------------------------------------------------------------------------------\n",
      "            CONSTANT       0.1165117       0.0148706       7.8350286       0.0000000\n",
      "              FAC1_1      -0.0007536       0.0036909      -0.2041737       0.8382178\n",
      "              FAC2_1      -0.0001009       0.0036929      -0.0273219       0.9782030\n",
      "              FAC3_1       0.0116572       0.0037291       3.1259846       0.0017721\n",
      "              FAC4_1       0.0045341       0.0036931       1.2277278       0.2195492\n",
      "              FAC5_1       0.0118695       0.0038865       3.0540488       0.0022578\n",
      "               units       0.0582472       0.0204508       2.8481630       0.0043972\n",
      "            W_C1Diff       0.7924119       0.0253233      31.2918223       0.0000000\n",
      "------------------------------------------------------------------------------------\n",
      "================================ END OF REPORT =====================================\n"
     ]
    }
   ],
   "source": [
    "spat_err = ml_lag.ML_Lag(y, X, W1, \n",
    "                             name_y = 'C1Diff', name_x = list(data.columns[-5:])+['units'], \n",
    "                             name_w='W1', name_ds='data')\n",
    "print(spat_err.summary)"
   ]
  },
  {
   "cell_type": "code",
   "execution_count": 83,
   "metadata": {},
   "outputs": [
    {
     "data": {
      "text/plain": [
       "0.663599470267616"
      ]
     },
     "execution_count": 83,
     "metadata": {},
     "output_type": "execute_result"
    }
   ],
   "source": [
    "spat_err.pr2"
   ]
  },
  {
   "cell_type": "code",
   "execution_count": 84,
   "metadata": {},
   "outputs": [
    {
     "data": {
      "text/plain": [
       "0.23776828007532097"
      ]
     },
     "execution_count": 84,
     "metadata": {},
     "output_type": "execute_result"
    }
   ],
   "source": [
    "spat_err.pr2_e"
   ]
  },
  {
   "cell_type": "code",
   "execution_count": 85,
   "metadata": {},
   "outputs": [],
   "source": [
    "y = np.array(data['C2DIFF'])"
   ]
  },
  {
   "cell_type": "code",
   "execution_count": 86,
   "metadata": {},
   "outputs": [],
   "source": [
    "y.shape = (len(y),1)"
   ]
  },
  {
   "cell_type": "code",
   "execution_count": 87,
   "metadata": {},
   "outputs": [],
   "source": [
    "X = np.array(data[list(data.columns[-5:])+['units']]).T"
   ]
  },
  {
   "cell_type": "code",
   "execution_count": 88,
   "metadata": {},
   "outputs": [],
   "source": [
    "X = X.T"
   ]
  },
  {
   "cell_type": "code",
   "execution_count": 89,
   "metadata": {},
   "outputs": [
    {
     "name": "stdout",
     "output_type": "stream",
     "text": [
      "REGRESSION\n",
      "----------\n",
      "SUMMARY OF OUTPUT: ORDINARY LEAST SQUARES\n",
      "-----------------------------------------\n",
      "Data set            :        data\n",
      "Weights matrix      :        None\n",
      "Dependent Variable  :      C2Diff                Number of Observations:         703\n",
      "Mean dependent var  :      0.3515                Number of Variables   :           7\n",
      "S.D. dependent var  :      0.1286                Degrees of Freedom    :         696\n",
      "R-squared           :      0.0501\n",
      "Adjusted R-squared  :      0.0419\n",
      "Sum squared residual:      11.024                F-statistic           :      6.1175\n",
      "Sigma-square        :       0.016                Prob(F-statistic)     :   2.919e-06\n",
      "S.E. of regression  :       0.126                Log likelihood        :     463.081\n",
      "Sigma-square ML     :       0.016                Akaike info criterion :    -912.161\n",
      "S.E of regression ML:      0.1252                Schwarz criterion     :    -880.274\n",
      "\n",
      "------------------------------------------------------------------------------------\n",
      "            Variable     Coefficient       Std.Error     t-Statistic     Probability\n",
      "------------------------------------------------------------------------------------\n",
      "            CONSTANT       0.3503516       0.0048373      72.4276678       0.0000000\n",
      "              FAC1_1      -0.0041122       0.0047501      -0.8657028       0.3869515\n",
      "              FAC2_1       0.0067675       0.0047556       1.4230659       0.1551651\n",
      "              FAC3_1       0.0060390       0.0047586       1.2690712       0.2048399\n",
      "              FAC4_1       0.0054044       0.0047540       1.1368225       0.2560037\n",
      "              FAC5_1       0.0247577       0.0048406       5.1145836       0.0000004\n",
      "               units       0.0314471       0.0262169       1.1994983       0.2307424\n",
      "------------------------------------------------------------------------------------\n",
      "\n",
      "REGRESSION DIAGNOSTICS\n",
      "MULTICOLLINEARITY CONDITION NUMBER            1.333\n",
      "\n",
      "TEST ON NORMALITY OF ERRORS\n",
      "TEST                             DF        VALUE           PROB\n",
      "Jarque-Bera                       2           3.401           0.1826\n",
      "\n",
      "DIAGNOSTICS FOR HETEROSKEDASTICITY\n",
      "RANDOM COEFFICIENTS\n",
      "TEST                             DF        VALUE           PROB\n",
      "Breusch-Pagan test                6          11.713           0.0687\n",
      "Koenker-Bassett test              6          14.113           0.0284\n",
      "================================ END OF REPORT =====================================\n"
     ]
    }
   ],
   "source": [
    "ls = ols.OLS(y, X, name_y = 'C2Diff', name_x = list(data.columns[-5:])+['units'], name_ds = 'data')\n",
    "print(ls.summary)"
   ]
  },
  {
   "cell_type": "code",
   "execution_count": 90,
   "metadata": {},
   "outputs": [
    {
     "data": {
      "text/plain": [
       "<pysal.esda.moran.Moran at 0x1f47ca09048>"
      ]
     },
     "execution_count": 90,
     "metadata": {},
     "output_type": "execute_result"
    }
   ],
   "source": [
    "pysal.Moran(ls.u, W1, two_tailed=False)"
   ]
  },
  {
   "cell_type": "code",
   "execution_count": 91,
   "metadata": {},
   "outputs": [
    {
     "name": "stdout",
     "output_type": "stream",
     "text": [
      "Observed I: 0.620224210222 \n",
      "Expected I: -0.0014245014245014246 \n",
      "   p-value: 0.0\n"
     ]
    }
   ],
   "source": [
    "mi = pysal.Moran(ls.u, W1, two_tailed=False)\n",
    "print('Observed I:', mi.I, '\\nExpected I:', mi.EI, '\\n   p-value:', mi.p_norm)"
   ]
  },
  {
   "cell_type": "code",
   "execution_count": 92,
   "metadata": {},
   "outputs": [],
   "source": [
    "from pysal.spreg import ml_lag, ml_error"
   ]
  },
  {
   "cell_type": "code",
   "execution_count": 93,
   "metadata": {},
   "outputs": [
    {
     "name": "stdout",
     "output_type": "stream",
     "text": [
      "REGRESSION\n",
      "----------\n",
      "SUMMARY OF OUTPUT: MAXIMUM LIKELIHOOD SPATIAL LAG (METHOD = FULL)\n",
      "-----------------------------------------------------------------\n",
      "Data set            :        data\n",
      "Weights matrix      :          W1\n",
      "Dependent Variable  :      C2Diff                Number of Observations:         703\n",
      "Mean dependent var  :      0.3515                Number of Variables   :           8\n",
      "S.D. dependent var  :      0.1286                Degrees of Freedom    :         695\n",
      "Pseudo R-squared    :      0.6606\n",
      "Spatial Pseudo R-squared:  0.0975\n",
      "Sigma-square ML     :       0.006                Log likelihood        :     744.119\n",
      "S.E of regression   :       0.077                Akaike info criterion :   -1472.237\n",
      "                                                 Schwarz criterion     :   -1435.794\n",
      "\n",
      "------------------------------------------------------------------------------------\n",
      "            Variable     Coefficient       Std.Error     z-Statistic     Probability\n",
      "------------------------------------------------------------------------------------\n",
      "            CONSTANT       0.0644039       0.0091072       7.0717162       0.0000000\n",
      "              FAC1_1      -0.0026231       0.0029015      -0.9040475       0.3659702\n",
      "              FAC2_1       0.0031156       0.0029048       1.0725619       0.2834677\n",
      "              FAC3_1      -0.0002979       0.0029084      -0.1024261       0.9184185\n",
      "              FAC4_1      -0.0014868       0.0029037      -0.5120412       0.6086222\n",
      "              FAC5_1       0.0060720       0.0029775       2.0392854       0.0414215\n",
      "               units       0.0088456       0.0160178       0.5522371       0.5807859\n",
      "            W_C2Diff       0.8155604       0.0245387      33.2356689       0.0000000\n",
      "------------------------------------------------------------------------------------\n",
      "================================ END OF REPORT =====================================\n"
     ]
    },
    {
     "name": "stderr",
     "output_type": "stream",
     "text": [
      "C:\\Users\\sddz0\\Anaconda2\\envs\\py36\\lib\\site-packages\\scipy\\optimize\\_minimize.py:600: RuntimeWarning: Method 'bounded' does not support relative tolerance in x; defaulting to absolute tolerance.\n",
      "  \"defaulting to absolute tolerance.\", RuntimeWarning)\n"
     ]
    }
   ],
   "source": [
    "spat_err = ml_lag.ML_Lag(y, X, W1, \n",
    "                             name_y = 'C2Diff', name_x = list(data.columns[-5:])+['units'], \n",
    "                             name_w='W1', name_ds='data')\n",
    "print(spat_err.summary)"
   ]
  },
  {
   "cell_type": "code",
   "execution_count": 94,
   "metadata": {},
   "outputs": [
    {
     "data": {
      "text/plain": [
       "0.6606264555141319"
      ]
     },
     "execution_count": 94,
     "metadata": {},
     "output_type": "execute_result"
    }
   ],
   "source": [
    "spat_err.pr2"
   ]
  },
  {
   "cell_type": "code",
   "execution_count": 95,
   "metadata": {},
   "outputs": [
    {
     "data": {
      "text/plain": [
       "0.0975389363244566"
      ]
     },
     "execution_count": 95,
     "metadata": {},
     "output_type": "execute_result"
    }
   ],
   "source": [
    "spat_err.pr2_e"
   ]
  },
  {
   "cell_type": "code",
   "execution_count": null,
   "metadata": {},
   "outputs": [],
   "source": []
  }
 ],
 "metadata": {
  "kernelspec": {
   "display_name": "Python 3",
   "language": "python",
   "name": "python3"
  },
  "language_info": {
   "codemirror_mode": {
    "name": "ipython",
    "version": 3
   },
   "file_extension": ".py",
   "mimetype": "text/x-python",
   "name": "python",
   "nbconvert_exporter": "python",
   "pygments_lexer": "ipython3",
   "version": "3.6.2"
  }
 },
 "nbformat": 4,
 "nbformat_minor": 2
}
