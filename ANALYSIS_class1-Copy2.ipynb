{
 "cells": [
  {
   "cell_type": "code",
   "execution_count": 209,
   "metadata": {},
   "outputs": [
    {
     "name": "stdout",
     "output_type": "stream",
     "text": [
      "Populating the interactive namespace from numpy and matplotlib\n"
     ]
    },
    {
     "name": "stderr",
     "output_type": "stream",
     "text": [
      "C:\\Users\\sddz0\\Anaconda2\\envs\\py36\\lib\\site-packages\\IPython\\core\\magics\\pylab.py:160: UserWarning: pylab import has clobbered these variables: ['norm']\n",
      "`%matplotlib` prevents importing * from pylab and numpy\n",
      "  \"\\n`%matplotlib` prevents importing * from pylab and numpy\"\n"
     ]
    }
   ],
   "source": [
    "import pandas as pd\n",
    "import numpy as np\n",
    "import matplotlib.pyplot as plt\n",
    "%pylab inline\n",
    "import scipy.stats\n",
    "import statsmodels.formula.api as smf\n",
    "import statsmodels.api as sm\n",
    "import urllib\n",
    "import requests\n",
    "import zipfile\n",
    "pd.set_option('display.max_rows', 50)\n",
    "pd.set_option('display.max_columns', 50)\n",
    "from sklearn.decomposition import PCA\n",
    "import geopandas as gpd\n",
    "from sklearn.model_selection import train_test_split\n",
    "from sklearn import linear_model\n",
    "from fiona.crs import from_epsg\n",
    "import os\n",
    "from astropy.stats import median_absolute_deviation\n",
    "from sklearn.decomposition import FactorAnalysis\n",
    "from sklearn.model_selection import cross_val_score\n",
    "from factor_analyzer import FactorAnalyzer\n",
    "from sklearn import  preprocessing\n",
    "import pysal"
   ]
  },
  {
   "cell_type": "code",
   "execution_count": 210,
   "metadata": {},
   "outputs": [],
   "source": [
    "data = pd.read_csv('DATA/bk1516diff.csv')"
   ]
  },
  {
   "cell_type": "code",
   "execution_count": 211,
   "metadata": {},
   "outputs": [
    {
     "data": {
      "text/html": [
       "<div>\n",
       "<style>\n",
       "    .dataframe thead tr:only-child th {\n",
       "        text-align: right;\n",
       "    }\n",
       "\n",
       "    .dataframe thead th {\n",
       "        text-align: left;\n",
       "    }\n",
       "\n",
       "    .dataframe tbody tr th {\n",
       "        vertical-align: top;\n",
       "    }\n",
       "</style>\n",
       "<table border=\"1\" class=\"dataframe\">\n",
       "  <thead>\n",
       "    <tr style=\"text-align: right;\">\n",
       "      <th></th>\n",
       "      <th>Unnamed: 0</th>\n",
       "      <th>GEOID</th>\n",
       "      <th>pickups_intract</th>\n",
       "      <th>NYPDviolation</th>\n",
       "      <th>NYPDmisdemeanor</th>\n",
       "      <th>NYPDfelony</th>\n",
       "      <th>units</th>\n",
       "      <th>CUR_FV_T_perSQFT_x</th>\n",
       "      <th>NEW_FV_T_perSQFT_x</th>\n",
       "      <th>HousepriceDiffC1</th>\n",
       "      <th>CUR_FV_T_perSQFT_y</th>\n",
       "      <th>NEW_FV_T_perSQFT_y</th>\n",
       "      <th>HousepriceDiffC2</th>\n",
       "      <th>Pop_Den_16</th>\n",
       "      <th>Median_Household_Income_16</th>\n",
       "      <th>Gini_Index_16</th>\n",
       "      <th>Ave_Commute_Min_16</th>\n",
       "      <th>Unemployed_rate_16</th>\n",
       "      <th>Moved_in_4years_16</th>\n",
       "    </tr>\n",
       "  </thead>\n",
       "  <tbody>\n",
       "    <tr>\n",
       "      <th>0</th>\n",
       "      <td>1</td>\n",
       "      <td>36047000100</td>\n",
       "      <td>102138.80700</td>\n",
       "      <td>19.0</td>\n",
       "      <td>37</td>\n",
       "      <td>26</td>\n",
       "      <td>106.0</td>\n",
       "      <td>1190.616338</td>\n",
       "      <td>1459.290687</td>\n",
       "      <td>268.674349</td>\n",
       "      <td>1363.877877</td>\n",
       "      <td>1585.105886</td>\n",
       "      <td>221.228009</td>\n",
       "      <td>48962.61730</td>\n",
       "      <td>87192</td>\n",
       "      <td>0.5344</td>\n",
       "      <td>31.880809</td>\n",
       "      <td>0.044279</td>\n",
       "      <td>0.000000</td>\n",
       "    </tr>\n",
       "    <tr>\n",
       "      <th>1</th>\n",
       "      <td>2</td>\n",
       "      <td>36047000200</td>\n",
       "      <td>21497.86679</td>\n",
       "      <td>20.0</td>\n",
       "      <td>125</td>\n",
       "      <td>84</td>\n",
       "      <td>NaN</td>\n",
       "      <td>243.786509</td>\n",
       "      <td>313.939797</td>\n",
       "      <td>70.153287</td>\n",
       "      <td>305.963908</td>\n",
       "      <td>367.481876</td>\n",
       "      <td>61.517968</td>\n",
       "      <td>14572.93623</td>\n",
       "      <td>48393</td>\n",
       "      <td>0.4195</td>\n",
       "      <td>38.851351</td>\n",
       "      <td>0.070218</td>\n",
       "      <td>0.006105</td>\n",
       "    </tr>\n",
       "    <tr>\n",
       "      <th>2</th>\n",
       "      <td>3</td>\n",
       "      <td>36047000301</td>\n",
       "      <td>96582.50072</td>\n",
       "      <td>10.0</td>\n",
       "      <td>56</td>\n",
       "      <td>46</td>\n",
       "      <td>NaN</td>\n",
       "      <td>NaN</td>\n",
       "      <td>NaN</td>\n",
       "      <td>0.000000</td>\n",
       "      <td>NaN</td>\n",
       "      <td>NaN</td>\n",
       "      <td>0.000000</td>\n",
       "      <td>51162.57739</td>\n",
       "      <td>112361</td>\n",
       "      <td>0.5882</td>\n",
       "      <td>32.719752</td>\n",
       "      <td>0.023952</td>\n",
       "      <td>0.003595</td>\n",
       "    </tr>\n",
       "    <tr>\n",
       "      <th>3</th>\n",
       "      <td>4</td>\n",
       "      <td>36047000501</td>\n",
       "      <td>39175.79425</td>\n",
       "      <td>8.0</td>\n",
       "      <td>25</td>\n",
       "      <td>17</td>\n",
       "      <td>62.0</td>\n",
       "      <td>NaN</td>\n",
       "      <td>NaN</td>\n",
       "      <td>0.000000</td>\n",
       "      <td>NaN</td>\n",
       "      <td>NaN</td>\n",
       "      <td>0.000000</td>\n",
       "      <td>145300.91520</td>\n",
       "      <td>124205</td>\n",
       "      <td>0.4928</td>\n",
       "      <td>29.035050</td>\n",
       "      <td>0.059278</td>\n",
       "      <td>0.004904</td>\n",
       "    </tr>\n",
       "    <tr>\n",
       "      <th>4</th>\n",
       "      <td>5</td>\n",
       "      <td>36047000502</td>\n",
       "      <td>45341.36746</td>\n",
       "      <td>19.0</td>\n",
       "      <td>63</td>\n",
       "      <td>38</td>\n",
       "      <td>NaN</td>\n",
       "      <td>1317.588974</td>\n",
       "      <td>1528.943303</td>\n",
       "      <td>211.354329</td>\n",
       "      <td>989.028877</td>\n",
       "      <td>1184.871247</td>\n",
       "      <td>195.842370</td>\n",
       "      <td>70038.71980</td>\n",
       "      <td>100805</td>\n",
       "      <td>0.5048</td>\n",
       "      <td>29.980013</td>\n",
       "      <td>0.057534</td>\n",
       "      <td>0.009077</td>\n",
       "    </tr>\n",
       "  </tbody>\n",
       "</table>\n",
       "</div>"
      ],
      "text/plain": [
       "   Unnamed: 0        GEOID  pickups_intract  NYPDviolation  NYPDmisdemeanor  \\\n",
       "0           1  36047000100     102138.80700           19.0               37   \n",
       "1           2  36047000200      21497.86679           20.0              125   \n",
       "2           3  36047000301      96582.50072           10.0               56   \n",
       "3           4  36047000501      39175.79425            8.0               25   \n",
       "4           5  36047000502      45341.36746           19.0               63   \n",
       "\n",
       "   NYPDfelony  units  CUR_FV_T_perSQFT_x  NEW_FV_T_perSQFT_x  \\\n",
       "0          26  106.0         1190.616338         1459.290687   \n",
       "1          84    NaN          243.786509          313.939797   \n",
       "2          46    NaN                 NaN                 NaN   \n",
       "3          17   62.0                 NaN                 NaN   \n",
       "4          38    NaN         1317.588974         1528.943303   \n",
       "\n",
       "   HousepriceDiffC1  CUR_FV_T_perSQFT_y  NEW_FV_T_perSQFT_y  HousepriceDiffC2  \\\n",
       "0        268.674349         1363.877877         1585.105886        221.228009   \n",
       "1         70.153287          305.963908          367.481876         61.517968   \n",
       "2          0.000000                 NaN                 NaN          0.000000   \n",
       "3          0.000000                 NaN                 NaN          0.000000   \n",
       "4        211.354329          989.028877         1184.871247        195.842370   \n",
       "\n",
       "     Pop_Den_16  Median_Household_Income_16  Gini_Index_16  \\\n",
       "0   48962.61730                       87192         0.5344   \n",
       "1   14572.93623                       48393         0.4195   \n",
       "2   51162.57739                      112361         0.5882   \n",
       "3  145300.91520                      124205         0.4928   \n",
       "4   70038.71980                      100805         0.5048   \n",
       "\n",
       "   Ave_Commute_Min_16  Unemployed_rate_16  Moved_in_4years_16  \n",
       "0           31.880809            0.044279            0.000000  \n",
       "1           38.851351            0.070218            0.006105  \n",
       "2           32.719752            0.023952            0.003595  \n",
       "3           29.035050            0.059278            0.004904  \n",
       "4           29.980013            0.057534            0.009077  "
      ]
     },
     "execution_count": 211,
     "metadata": {},
     "output_type": "execute_result"
    }
   ],
   "source": [
    "data.head()"
   ]
  },
  {
   "cell_type": "code",
   "execution_count": 212,
   "metadata": {},
   "outputs": [],
   "source": [
    "data.units = data.units.replace(np.nan,0)"
   ]
  },
  {
   "cell_type": "code",
   "execution_count": 213,
   "metadata": {},
   "outputs": [],
   "source": [
    "data = data.drop(['Unnamed: 0'],axis=1)"
   ]
  },
  {
   "cell_type": "code",
   "execution_count": 214,
   "metadata": {},
   "outputs": [
    {
     "data": {
      "text/html": [
       "<div>\n",
       "<style>\n",
       "    .dataframe thead tr:only-child th {\n",
       "        text-align: right;\n",
       "    }\n",
       "\n",
       "    .dataframe thead th {\n",
       "        text-align: left;\n",
       "    }\n",
       "\n",
       "    .dataframe tbody tr th {\n",
       "        vertical-align: top;\n",
       "    }\n",
       "</style>\n",
       "<table border=\"1\" class=\"dataframe\">\n",
       "  <thead>\n",
       "    <tr style=\"text-align: right;\">\n",
       "      <th></th>\n",
       "      <th>GEOID</th>\n",
       "      <th>pickups_intract</th>\n",
       "      <th>NYPDviolation</th>\n",
       "      <th>NYPDmisdemeanor</th>\n",
       "      <th>NYPDfelony</th>\n",
       "      <th>units</th>\n",
       "      <th>CUR_FV_T_perSQFT_x</th>\n",
       "      <th>NEW_FV_T_perSQFT_x</th>\n",
       "      <th>HousepriceDiffC1</th>\n",
       "      <th>CUR_FV_T_perSQFT_y</th>\n",
       "      <th>NEW_FV_T_perSQFT_y</th>\n",
       "      <th>HousepriceDiffC2</th>\n",
       "      <th>Pop_Den_16</th>\n",
       "      <th>Median_Household_Income_16</th>\n",
       "      <th>Gini_Index_16</th>\n",
       "      <th>Ave_Commute_Min_16</th>\n",
       "      <th>Unemployed_rate_16</th>\n",
       "      <th>Moved_in_4years_16</th>\n",
       "    </tr>\n",
       "  </thead>\n",
       "  <tbody>\n",
       "    <tr>\n",
       "      <th>0</th>\n",
       "      <td>36047000100</td>\n",
       "      <td>102138.80700</td>\n",
       "      <td>19.0</td>\n",
       "      <td>37</td>\n",
       "      <td>26</td>\n",
       "      <td>106.0</td>\n",
       "      <td>1190.616338</td>\n",
       "      <td>1459.290687</td>\n",
       "      <td>268.674349</td>\n",
       "      <td>1363.877877</td>\n",
       "      <td>1585.105886</td>\n",
       "      <td>221.228009</td>\n",
       "      <td>48962.61730</td>\n",
       "      <td>87192</td>\n",
       "      <td>0.5344</td>\n",
       "      <td>31.880809</td>\n",
       "      <td>0.044279</td>\n",
       "      <td>0.000000</td>\n",
       "    </tr>\n",
       "    <tr>\n",
       "      <th>1</th>\n",
       "      <td>36047000200</td>\n",
       "      <td>21497.86679</td>\n",
       "      <td>20.0</td>\n",
       "      <td>125</td>\n",
       "      <td>84</td>\n",
       "      <td>0.0</td>\n",
       "      <td>243.786509</td>\n",
       "      <td>313.939797</td>\n",
       "      <td>70.153287</td>\n",
       "      <td>305.963908</td>\n",
       "      <td>367.481876</td>\n",
       "      <td>61.517968</td>\n",
       "      <td>14572.93623</td>\n",
       "      <td>48393</td>\n",
       "      <td>0.4195</td>\n",
       "      <td>38.851351</td>\n",
       "      <td>0.070218</td>\n",
       "      <td>0.006105</td>\n",
       "    </tr>\n",
       "    <tr>\n",
       "      <th>2</th>\n",
       "      <td>36047000301</td>\n",
       "      <td>96582.50072</td>\n",
       "      <td>10.0</td>\n",
       "      <td>56</td>\n",
       "      <td>46</td>\n",
       "      <td>0.0</td>\n",
       "      <td>NaN</td>\n",
       "      <td>NaN</td>\n",
       "      <td>0.000000</td>\n",
       "      <td>NaN</td>\n",
       "      <td>NaN</td>\n",
       "      <td>0.000000</td>\n",
       "      <td>51162.57739</td>\n",
       "      <td>112361</td>\n",
       "      <td>0.5882</td>\n",
       "      <td>32.719752</td>\n",
       "      <td>0.023952</td>\n",
       "      <td>0.003595</td>\n",
       "    </tr>\n",
       "  </tbody>\n",
       "</table>\n",
       "</div>"
      ],
      "text/plain": [
       "         GEOID  pickups_intract  NYPDviolation  NYPDmisdemeanor  NYPDfelony  \\\n",
       "0  36047000100     102138.80700           19.0               37          26   \n",
       "1  36047000200      21497.86679           20.0              125          84   \n",
       "2  36047000301      96582.50072           10.0               56          46   \n",
       "\n",
       "   units  CUR_FV_T_perSQFT_x  NEW_FV_T_perSQFT_x  HousepriceDiffC1  \\\n",
       "0  106.0         1190.616338         1459.290687        268.674349   \n",
       "1    0.0          243.786509          313.939797         70.153287   \n",
       "2    0.0                 NaN                 NaN          0.000000   \n",
       "\n",
       "   CUR_FV_T_perSQFT_y  NEW_FV_T_perSQFT_y  HousepriceDiffC2   Pop_Den_16  \\\n",
       "0         1363.877877         1585.105886        221.228009  48962.61730   \n",
       "1          305.963908          367.481876         61.517968  14572.93623   \n",
       "2                 NaN                 NaN          0.000000  51162.57739   \n",
       "\n",
       "   Median_Household_Income_16  Gini_Index_16  Ave_Commute_Min_16  \\\n",
       "0                       87192         0.5344           31.880809   \n",
       "1                       48393         0.4195           38.851351   \n",
       "2                      112361         0.5882           32.719752   \n",
       "\n",
       "   Unemployed_rate_16  Moved_in_4years_16  \n",
       "0            0.044279            0.000000  \n",
       "1            0.070218            0.006105  \n",
       "2            0.023952            0.003595  "
      ]
     },
     "execution_count": 214,
     "metadata": {},
     "output_type": "execute_result"
    }
   ],
   "source": [
    "data.head(3)"
   ]
  },
  {
   "cell_type": "code",
   "execution_count": 215,
   "metadata": {},
   "outputs": [],
   "source": [
    "TRACT = gpd.GeoDataFrame.from_file('DATA/gz_2010_36_140_00_500k/gz_2010_36_140_00_500k.shp')"
   ]
  },
  {
   "cell_type": "code",
   "execution_count": 216,
   "metadata": {},
   "outputs": [],
   "source": [
    "TRACT.GEO_ID = TRACT.GEO_ID.str[9:]"
   ]
  },
  {
   "cell_type": "code",
   "execution_count": 217,
   "metadata": {},
   "outputs": [],
   "source": [
    "data.GEOID = data.GEOID.astype('str')"
   ]
  },
  {
   "cell_type": "code",
   "execution_count": 218,
   "metadata": {},
   "outputs": [],
   "source": [
    "data = pd.merge(TRACT,data,left_on='GEO_ID',right_on='GEOID')"
   ]
  },
  {
   "cell_type": "code",
   "execution_count": 219,
   "metadata": {},
   "outputs": [],
   "source": [
    "data.TRACT = data.TRACT.astype('int64')"
   ]
  },
  {
   "cell_type": "code",
   "execution_count": 220,
   "metadata": {},
   "outputs": [],
   "source": [
    "NTA = pd.read_csv('DATA/2010CensusTract_PUMA_NTA(1).csv')"
   ]
  },
  {
   "cell_type": "code",
   "execution_count": 221,
   "metadata": {},
   "outputs": [],
   "source": [
    "NTA = NTA[NTA['Borough'] == 'Brooklyn']"
   ]
  },
  {
   "cell_type": "code",
   "execution_count": 222,
   "metadata": {
    "scrolled": false
   },
   "outputs": [],
   "source": [
    "data = pd.merge(data,NTA,left_on='TRACT',right_on='2010CensusTract')"
   ]
  },
  {
   "cell_type": "code",
   "execution_count": 223,
   "metadata": {
    "scrolled": true
   },
   "outputs": [
    {
     "data": {
      "text/plain": [
       "50115.333734999993"
      ]
     },
     "execution_count": 223,
     "metadata": {},
     "output_type": "execute_result"
    }
   ],
   "source": [
    "data.groupby('PUMA').median()['pickups_intract'][4001]"
   ]
  },
  {
   "cell_type": "code",
   "execution_count": 224,
   "metadata": {
    "scrolled": false
   },
   "outputs": [],
   "source": [
    "def median_interpolation(data,columns):\n",
    "    for column in columns:\n",
    "        for i in range(len(data.index)):\n",
    "            if np.isnan(data[column][i]):\n",
    "                data[column][i] = data.groupby('PUMA').median()[column][data['PUMA'][i]] \n",
    "    return data"
   ]
  },
  {
   "cell_type": "code",
   "execution_count": 225,
   "metadata": {},
   "outputs": [
    {
     "data": {
      "text/plain": [
       "Index(['pickups_intract', 'NYPDviolation', 'NYPDmisdemeanor', 'NYPDfelony',\n",
       "       'units', 'CUR_FV_T_perSQFT_x', 'NEW_FV_T_perSQFT_x', 'HousepriceDiffC1',\n",
       "       'CUR_FV_T_perSQFT_y', 'NEW_FV_T_perSQFT_y', 'HousepriceDiffC2',\n",
       "       'Pop_Den_16', 'Median_Household_Income_16', 'Gini_Index_16',\n",
       "       'Ave_Commute_Min_16', 'Unemployed_rate_16', 'Moved_in_4years_16'],\n",
       "      dtype='object')"
      ]
     },
     "execution_count": 225,
     "metadata": {},
     "output_type": "execute_result"
    }
   ],
   "source": [
    "data.columns[9:26]"
   ]
  },
  {
   "cell_type": "code",
   "execution_count": 226,
   "metadata": {},
   "outputs": [
    {
     "name": "stderr",
     "output_type": "stream",
     "text": [
      "C:\\Users\\sddz0\\Anaconda2\\envs\\py36\\lib\\site-packages\\ipykernel_launcher.py:5: SettingWithCopyWarning: \n",
      "A value is trying to be set on a copy of a slice from a DataFrame\n",
      "\n",
      "See the caveats in the documentation: http://pandas.pydata.org/pandas-docs/stable/indexing.html#indexing-view-versus-copy\n",
      "  \"\"\"\n"
     ]
    }
   ],
   "source": [
    "data = median_interpolation(data,data.columns[9:26])"
   ]
  },
  {
   "cell_type": "code",
   "execution_count": 227,
   "metadata": {},
   "outputs": [
    {
     "data": {
      "text/plain": [
       "GEO_ID                        0\n",
       "STATE                         0\n",
       "COUNTY                        0\n",
       "TRACT                         0\n",
       "NAME                          0\n",
       "LSAD                          0\n",
       "CENSUSAREA                    0\n",
       "geometry                      0\n",
       "GEOID                         0\n",
       "pickups_intract               0\n",
       "NYPDviolation                 0\n",
       "NYPDmisdemeanor               0\n",
       "NYPDfelony                    0\n",
       "units                         0\n",
       "CUR_FV_T_perSQFT_x            0\n",
       "NEW_FV_T_perSQFT_x            0\n",
       "HousepriceDiffC1              0\n",
       "CUR_FV_T_perSQFT_y            0\n",
       "NEW_FV_T_perSQFT_y            0\n",
       "HousepriceDiffC2              0\n",
       "Pop_Den_16                    0\n",
       "Median_Household_Income_16    0\n",
       "Gini_Index_16                 0\n",
       "Ave_Commute_Min_16            0\n",
       "Unemployed_rate_16            0\n",
       "Moved_in_4years_16            0\n",
       "Borough                       0\n",
       "2010CensusTract               0\n",
       "PUMA                          0\n",
       "NTA_Code                      0\n",
       "NTA_Name                      0\n",
       "dtype: int64"
      ]
     },
     "execution_count": 227,
     "metadata": {},
     "output_type": "execute_result"
    }
   ],
   "source": [
    "data.isnull().sum()"
   ]
  },
  {
   "cell_type": "markdown",
   "metadata": {},
   "source": [
    "## Normalization"
   ]
  },
  {
   "cell_type": "code",
   "execution_count": 228,
   "metadata": {},
   "outputs": [
    {
     "data": {
      "text/plain": [
       "Index(['pickups_intract', 'NYPDviolation', 'NYPDmisdemeanor', 'NYPDfelony',\n",
       "       'units', 'CUR_FV_T_perSQFT_x', 'NEW_FV_T_perSQFT_x', 'HousepriceDiffC1',\n",
       "       'CUR_FV_T_perSQFT_y', 'NEW_FV_T_perSQFT_y', 'HousepriceDiffC2',\n",
       "       'Pop_Den_16', 'Median_Household_Income_16', 'Gini_Index_16',\n",
       "       'Ave_Commute_Min_16', 'Unemployed_rate_16', 'Moved_in_4years_16'],\n",
       "      dtype='object')"
      ]
     },
     "execution_count": 228,
     "metadata": {},
     "output_type": "execute_result"
    }
   ],
   "source": [
    "data.columns[9:26]"
   ]
  },
  {
   "cell_type": "code",
   "execution_count": 229,
   "metadata": {},
   "outputs": [],
   "source": [
    "def norm(data,columns):\n",
    "    for x in columns:\n",
    "        data[x] = (data[x]-np.min(data[x]))/(np.max(data[x])-np.min(data[x]))\n",
    "    return data"
   ]
  },
  {
   "cell_type": "code",
   "execution_count": 230,
   "metadata": {},
   "outputs": [],
   "source": [
    "data = norm(data,data.columns[9:26])"
   ]
  },
  {
   "cell_type": "code",
   "execution_count": 231,
   "metadata": {},
   "outputs": [
    {
     "data": {
      "text/html": [
       "<div>\n",
       "<style>\n",
       "    .dataframe thead tr:only-child th {\n",
       "        text-align: right;\n",
       "    }\n",
       "\n",
       "    .dataframe thead th {\n",
       "        text-align: left;\n",
       "    }\n",
       "\n",
       "    .dataframe tbody tr th {\n",
       "        vertical-align: top;\n",
       "    }\n",
       "</style>\n",
       "<table border=\"1\" class=\"dataframe\">\n",
       "  <thead>\n",
       "    <tr style=\"text-align: right;\">\n",
       "      <th></th>\n",
       "      <th>GEO_ID</th>\n",
       "      <th>STATE</th>\n",
       "      <th>COUNTY</th>\n",
       "      <th>TRACT</th>\n",
       "      <th>NAME</th>\n",
       "      <th>LSAD</th>\n",
       "      <th>CENSUSAREA</th>\n",
       "      <th>geometry</th>\n",
       "      <th>GEOID</th>\n",
       "      <th>pickups_intract</th>\n",
       "      <th>NYPDviolation</th>\n",
       "      <th>NYPDmisdemeanor</th>\n",
       "      <th>NYPDfelony</th>\n",
       "      <th>units</th>\n",
       "      <th>CUR_FV_T_perSQFT_x</th>\n",
       "      <th>NEW_FV_T_perSQFT_x</th>\n",
       "      <th>HousepriceDiffC1</th>\n",
       "      <th>CUR_FV_T_perSQFT_y</th>\n",
       "      <th>NEW_FV_T_perSQFT_y</th>\n",
       "      <th>HousepriceDiffC2</th>\n",
       "      <th>Pop_Den_16</th>\n",
       "      <th>Median_Household_Income_16</th>\n",
       "      <th>Gini_Index_16</th>\n",
       "      <th>Ave_Commute_Min_16</th>\n",
       "      <th>Unemployed_rate_16</th>\n",
       "      <th>Moved_in_4years_16</th>\n",
       "      <th>Borough</th>\n",
       "      <th>2010CensusTract</th>\n",
       "      <th>PUMA</th>\n",
       "      <th>NTA_Code</th>\n",
       "      <th>NTA_Name</th>\n",
       "    </tr>\n",
       "  </thead>\n",
       "  <tbody>\n",
       "    <tr>\n",
       "      <th>0</th>\n",
       "      <td>36047010400</td>\n",
       "      <td>36</td>\n",
       "      <td>047</td>\n",
       "      <td>10400</td>\n",
       "      <td>104</td>\n",
       "      <td>Tract</td>\n",
       "      <td>0.059</td>\n",
       "      <td>POLYGON ((-74.01115399999999 40.637404, -74.01...</td>\n",
       "      <td>36047010400</td>\n",
       "      <td>0.019185</td>\n",
       "      <td>0.116564</td>\n",
       "      <td>0.118451</td>\n",
       "      <td>0.110075</td>\n",
       "      <td>0.0</td>\n",
       "      <td>0.24226</td>\n",
       "      <td>0.207946</td>\n",
       "      <td>0.146359</td>\n",
       "      <td>0.123972</td>\n",
       "      <td>0.139467</td>\n",
       "      <td>0.277246</td>\n",
       "      <td>0.618312</td>\n",
       "      <td>0.180679</td>\n",
       "      <td>0.659363</td>\n",
       "      <td>0.398564</td>\n",
       "      <td>0.122178</td>\n",
       "      <td>0.304749</td>\n",
       "      <td>Brooklyn</td>\n",
       "      <td>10400</td>\n",
       "      <td>4012</td>\n",
       "      <td>BK34</td>\n",
       "      <td>Sunset Park East</td>\n",
       "    </tr>\n",
       "  </tbody>\n",
       "</table>\n",
       "</div>"
      ],
      "text/plain": [
       "        GEO_ID STATE COUNTY  TRACT NAME   LSAD  CENSUSAREA  \\\n",
       "0  36047010400    36    047  10400  104  Tract       0.059   \n",
       "\n",
       "                                            geometry        GEOID  \\\n",
       "0  POLYGON ((-74.01115399999999 40.637404, -74.01...  36047010400   \n",
       "\n",
       "   pickups_intract  NYPDviolation  NYPDmisdemeanor  NYPDfelony  units  \\\n",
       "0         0.019185       0.116564         0.118451    0.110075    0.0   \n",
       "\n",
       "   CUR_FV_T_perSQFT_x  NEW_FV_T_perSQFT_x  HousepriceDiffC1  \\\n",
       "0             0.24226            0.207946          0.146359   \n",
       "\n",
       "   CUR_FV_T_perSQFT_y  NEW_FV_T_perSQFT_y  HousepriceDiffC2  Pop_Den_16  \\\n",
       "0            0.123972            0.139467          0.277246    0.618312   \n",
       "\n",
       "   Median_Household_Income_16  Gini_Index_16  Ave_Commute_Min_16  \\\n",
       "0                    0.180679       0.659363            0.398564   \n",
       "\n",
       "   Unemployed_rate_16  Moved_in_4years_16   Borough  2010CensusTract  PUMA  \\\n",
       "0            0.122178            0.304749  Brooklyn            10400  4012   \n",
       "\n",
       "  NTA_Code          NTA_Name  \n",
       "0     BK34  Sunset Park East  "
      ]
     },
     "execution_count": 231,
     "metadata": {},
     "output_type": "execute_result"
    }
   ],
   "source": [
    "data.head(1)"
   ]
  },
  {
   "cell_type": "markdown",
   "metadata": {},
   "source": [
    "## Outliers"
   ]
  },
  {
   "cell_type": "code",
   "execution_count": 237,
   "metadata": {},
   "outputs": [],
   "source": [
    "\n",
    "def clean(data,columns):\n",
    "    for x in columns:\n",
    "        #data= data[(np.abs(data[x]-np.median(data[x]))/(np.median(np.abs(data[x]-np.median(data[x])))/0.6745)) < 2.24]\n",
    "        data = data[(data[x]<np.mean(data[x])+4*np.std(data[x]))&(data[x]>np.mean(data[x])-4*np.std(data[x]))]\n",
    "    return data"
   ]
  },
  {
   "cell_type": "code",
   "execution_count": 238,
   "metadata": {},
   "outputs": [],
   "source": [
    "data = clean(data,data.columns[9:26])"
   ]
  },
  {
   "cell_type": "code",
   "execution_count": 239,
   "metadata": {},
   "outputs": [
    {
     "data": {
      "text/plain": [
       "(662, 31)"
      ]
     },
     "execution_count": 239,
     "metadata": {},
     "output_type": "execute_result"
    }
   ],
   "source": [
    "data.shape"
   ]
  },
  {
   "cell_type": "code",
   "execution_count": 240,
   "metadata": {},
   "outputs": [
    {
     "data": {
      "text/plain": [
       "<matplotlib.axes._subplots.AxesSubplot at 0x1276377ada0>"
      ]
     },
     "execution_count": 240,
     "metadata": {},
     "output_type": "execute_result"
    },
    {
     "data": {
      "image/png": "[encoded data removed]",
      "text/plain": [
       "<matplotlib.figure.Figure at 0x12764266b70>"
      ]
     },
     "metadata": {},
     "output_type": "display_data"
    }
   ],
   "source": [
    "data.plot()"
   ]
  },
  {
   "cell_type": "code",
   "execution_count": 241,
   "metadata": {},
   "outputs": [
    {
     "data": {
      "text/plain": [
       "Index(['pickups_intract', 'NYPDviolation', 'NYPDmisdemeanor', 'NYPDfelony',\n",
       "       'units', 'CUR_FV_T_perSQFT_x', 'NEW_FV_T_perSQFT_x', 'HousepriceDiffC1',\n",
       "       'CUR_FV_T_perSQFT_y', 'NEW_FV_T_perSQFT_y', 'HousepriceDiffC2',\n",
       "       'Pop_Den_16', 'Median_Household_Income_16', 'Gini_Index_16',\n",
       "       'Ave_Commute_Min_16', 'Unemployed_rate_16', 'Moved_in_4years_16'],\n",
       "      dtype='object')"
      ]
     },
     "execution_count": 241,
     "metadata": {},
     "output_type": "execute_result"
    }
   ],
   "source": [
    "data.columns[9:26]"
   ]
  },
  {
   "cell_type": "markdown",
   "metadata": {},
   "source": [
    "## PCA"
   ]
  },
  {
   "cell_type": "code",
   "execution_count": 242,
   "metadata": {},
   "outputs": [],
   "source": [
    "X_num = data[data.columns[9:26]].drop(['units','CUR_FV_T_perSQFT_x', 'NEW_FV_T_perSQFT_x', 'HousepriceDiffC1',\n",
    "       'CUR_FV_T_perSQFT_y', 'NEW_FV_T_perSQFT_y', 'HousepriceDiffC2'],axis=1)\n",
    "pca = PCA(0.90)\n",
    "Xproj = pca.fit_transform(X_num)"
   ]
  },
  {
   "cell_type": "code",
   "execution_count": 243,
   "metadata": {},
   "outputs": [
    {
     "data": {
      "text/plain": [
       "array([ 0.36829375,  0.21082402,  0.14256356,  0.10986584,  0.05831223,\n",
       "        0.04588564])"
      ]
     },
     "execution_count": 243,
     "metadata": {},
     "output_type": "execute_result"
    }
   ],
   "source": [
    "pca.explained_variance_ratio_"
   ]
  },
  {
   "cell_type": "code",
   "execution_count": 244,
   "metadata": {
    "scrolled": false
   },
   "outputs": [
    {
     "data": {
      "text/html": [
       "<div>\n",
       "<style>\n",
       "    .dataframe thead tr:only-child th {\n",
       "        text-align: right;\n",
       "    }\n",
       "\n",
       "    .dataframe thead th {\n",
       "        text-align: left;\n",
       "    }\n",
       "\n",
       "    .dataframe tbody tr th {\n",
       "        vertical-align: top;\n",
       "    }\n",
       "</style>\n",
       "<table border=\"1\" class=\"dataframe\">\n",
       "  <thead>\n",
       "    <tr style=\"text-align: right;\">\n",
       "      <th></th>\n",
       "      <th>pickups_intract</th>\n",
       "      <th>NYPDviolation</th>\n",
       "      <th>NYPDmisdemeanor</th>\n",
       "      <th>NYPDfelony</th>\n",
       "      <th>Pop_Den_16</th>\n",
       "      <th>Median_Household_Income_16</th>\n",
       "      <th>Gini_Index_16</th>\n",
       "      <th>Ave_Commute_Min_16</th>\n",
       "      <th>Unemployed_rate_16</th>\n",
       "      <th>Moved_in_4years_16</th>\n",
       "    </tr>\n",
       "  </thead>\n",
       "  <tbody>\n",
       "    <tr>\n",
       "      <th>0</th>\n",
       "      <td>0.034429</td>\n",
       "      <td>0.538161</td>\n",
       "      <td>0.266385</td>\n",
       "      <td>0.261188</td>\n",
       "      <td>0.566956</td>\n",
       "      <td>-0.408738</td>\n",
       "      <td>0.163644</td>\n",
       "      <td>0.096516</td>\n",
       "      <td>0.212659</td>\n",
       "      <td>0.013913</td>\n",
       "    </tr>\n",
       "    <tr>\n",
       "      <th>1</th>\n",
       "      <td>0.038894</td>\n",
       "      <td>-0.315501</td>\n",
       "      <td>-0.143848</td>\n",
       "      <td>-0.144958</td>\n",
       "      <td>0.598592</td>\n",
       "      <td>0.020942</td>\n",
       "      <td>0.092050</td>\n",
       "      <td>-0.679664</td>\n",
       "      <td>-0.167546</td>\n",
       "      <td>-0.001350</td>\n",
       "    </tr>\n",
       "    <tr>\n",
       "      <th>2</th>\n",
       "      <td>-0.122166</td>\n",
       "      <td>-0.222119</td>\n",
       "      <td>-0.180774</td>\n",
       "      <td>-0.187112</td>\n",
       "      <td>0.540846</td>\n",
       "      <td>0.155629</td>\n",
       "      <td>-0.393970</td>\n",
       "      <td>0.623139</td>\n",
       "      <td>-0.085698</td>\n",
       "      <td>0.021327</td>\n",
       "    </tr>\n",
       "    <tr>\n",
       "      <th>3</th>\n",
       "      <td>-0.230611</td>\n",
       "      <td>-0.377413</td>\n",
       "      <td>-0.243490</td>\n",
       "      <td>-0.247191</td>\n",
       "      <td>-0.077626</td>\n",
       "      <td>-0.643430</td>\n",
       "      <td>0.451737</td>\n",
       "      <td>0.207191</td>\n",
       "      <td>0.130076</td>\n",
       "      <td>-0.006701</td>\n",
       "    </tr>\n",
       "    <tr>\n",
       "      <th>4</th>\n",
       "      <td>0.159249</td>\n",
       "      <td>0.015351</td>\n",
       "      <td>-0.031540</td>\n",
       "      <td>-0.033951</td>\n",
       "      <td>0.125888</td>\n",
       "      <td>0.541600</td>\n",
       "      <td>0.738479</td>\n",
       "      <td>0.235443</td>\n",
       "      <td>0.030597</td>\n",
       "      <td>0.247703</td>\n",
       "    </tr>\n",
       "    <tr>\n",
       "      <th>5</th>\n",
       "      <td>0.053615</td>\n",
       "      <td>-0.098218</td>\n",
       "      <td>-0.106050</td>\n",
       "      <td>-0.112830</td>\n",
       "      <td>0.011841</td>\n",
       "      <td>0.115680</td>\n",
       "      <td>-0.197020</td>\n",
       "      <td>-0.139422</td>\n",
       "      <td>0.897804</td>\n",
       "      <td>0.292697</td>\n",
       "    </tr>\n",
       "  </tbody>\n",
       "</table>\n",
       "</div>"
      ],
      "text/plain": [
       "   pickups_intract  NYPDviolation  NYPDmisdemeanor  NYPDfelony  Pop_Den_16  \\\n",
       "0         0.034429       0.538161         0.266385    0.261188    0.566956   \n",
       "1         0.038894      -0.315501        -0.143848   -0.144958    0.598592   \n",
       "2        -0.122166      -0.222119        -0.180774   -0.187112    0.540846   \n",
       "3        -0.230611      -0.377413        -0.243490   -0.247191   -0.077626   \n",
       "4         0.159249       0.015351        -0.031540   -0.033951    0.125888   \n",
       "5         0.053615      -0.098218        -0.106050   -0.112830    0.011841   \n",
       "\n",
       "   Median_Household_Income_16  Gini_Index_16  Ave_Commute_Min_16  \\\n",
       "0                   -0.408738       0.163644            0.096516   \n",
       "1                    0.020942       0.092050           -0.679664   \n",
       "2                    0.155629      -0.393970            0.623139   \n",
       "3                   -0.643430       0.451737            0.207191   \n",
       "4                    0.541600       0.738479            0.235443   \n",
       "5                    0.115680      -0.197020           -0.139422   \n",
       "\n",
       "   Unemployed_rate_16  Moved_in_4years_16  \n",
       "0            0.212659            0.013913  \n",
       "1           -0.167546           -0.001350  \n",
       "2           -0.085698            0.021327  \n",
       "3            0.130076           -0.006701  \n",
       "4            0.030597            0.247703  \n",
       "5            0.897804            0.292697  "
      ]
     },
     "execution_count": 244,
     "metadata": {},
     "output_type": "execute_result"
    }
   ],
   "source": [
    "components_explanation = pd.DataFrame(pca.components_,columns = X_num.columns)\n",
    "components_explanation"
   ]
  },
  {
   "cell_type": "markdown",
   "metadata": {},
   "source": [
    "## FA"
   ]
  },
  {
   "cell_type": "code",
   "execution_count": 245,
   "metadata": {},
   "outputs": [],
   "source": [
    "fa = FactorAnalyzer()"
   ]
  },
  {
   "cell_type": "code",
   "execution_count": 246,
   "metadata": {},
   "outputs": [],
   "source": [
    "fa.analyze(X_num,5,rotation='varimax')"
   ]
  },
  {
   "cell_type": "code",
   "execution_count": 247,
   "metadata": {},
   "outputs": [
    {
     "data": {
      "text/html": [
       "<div>\n",
       "<style>\n",
       "    .dataframe thead tr:only-child th {\n",
       "        text-align: right;\n",
       "    }\n",
       "\n",
       "    .dataframe thead th {\n",
       "        text-align: left;\n",
       "    }\n",
       "\n",
       "    .dataframe tbody tr th {\n",
       "        vertical-align: top;\n",
       "    }\n",
       "</style>\n",
       "<table border=\"1\" class=\"dataframe\">\n",
       "  <thead>\n",
       "    <tr style=\"text-align: right;\">\n",
       "      <th></th>\n",
       "      <th>Communalities</th>\n",
       "    </tr>\n",
       "  </thead>\n",
       "  <tbody>\n",
       "    <tr>\n",
       "      <th>pickups_intract</th>\n",
       "      <td>0.394125</td>\n",
       "    </tr>\n",
       "    <tr>\n",
       "      <th>NYPDviolation</th>\n",
       "      <td>0.749171</td>\n",
       "    </tr>\n",
       "    <tr>\n",
       "      <th>NYPDmisdemeanor</th>\n",
       "      <td>0.987219</td>\n",
       "    </tr>\n",
       "    <tr>\n",
       "      <th>NYPDfelony</th>\n",
       "      <td>0.957446</td>\n",
       "    </tr>\n",
       "    <tr>\n",
       "      <th>Pop_Den_16</th>\n",
       "      <td>0.136461</td>\n",
       "    </tr>\n",
       "    <tr>\n",
       "      <th>Median_Household_Income_16</th>\n",
       "      <td>1.020269</td>\n",
       "    </tr>\n",
       "    <tr>\n",
       "      <th>Gini_Index_16</th>\n",
       "      <td>0.218097</td>\n",
       "    </tr>\n",
       "    <tr>\n",
       "      <th>Ave_Commute_Min_16</th>\n",
       "      <td>0.994824</td>\n",
       "    </tr>\n",
       "    <tr>\n",
       "      <th>Unemployed_rate_16</th>\n",
       "      <td>0.364532</td>\n",
       "    </tr>\n",
       "    <tr>\n",
       "      <th>Moved_in_4years_16</th>\n",
       "      <td>0.071707</td>\n",
       "    </tr>\n",
       "  </tbody>\n",
       "</table>\n",
       "</div>"
      ],
      "text/plain": [
       "                            Communalities\n",
       "pickups_intract                  0.394125\n",
       "NYPDviolation                    0.749171\n",
       "NYPDmisdemeanor                  0.987219\n",
       "NYPDfelony                       0.957446\n",
       "Pop_Den_16                       0.136461\n",
       "Median_Household_Income_16       1.020269\n",
       "Gini_Index_16                    0.218097\n",
       "Ave_Commute_Min_16               0.994824\n",
       "Unemployed_rate_16               0.364532\n",
       "Moved_in_4years_16               0.071707"
      ]
     },
     "execution_count": 247,
     "metadata": {},
     "output_type": "execute_result"
    }
   ],
   "source": [
    "fa.get_communalities()"
   ]
  },
  {
   "cell_type": "code",
   "execution_count": 248,
   "metadata": {},
   "outputs": [
    {
     "data": {
      "text/html": [
       "<div>\n",
       "<style>\n",
       "    .dataframe thead tr:only-child th {\n",
       "        text-align: right;\n",
       "    }\n",
       "\n",
       "    .dataframe thead th {\n",
       "        text-align: left;\n",
       "    }\n",
       "\n",
       "    .dataframe tbody tr th {\n",
       "        vertical-align: top;\n",
       "    }\n",
       "</style>\n",
       "<table border=\"1\" class=\"dataframe\">\n",
       "  <thead>\n",
       "    <tr style=\"text-align: right;\">\n",
       "      <th></th>\n",
       "      <th>Factor1</th>\n",
       "      <th>Factor2</th>\n",
       "      <th>Factor3</th>\n",
       "      <th>Factor4</th>\n",
       "      <th>Factor5</th>\n",
       "    </tr>\n",
       "  </thead>\n",
       "  <tbody>\n",
       "    <tr>\n",
       "      <th>pickups_intract</th>\n",
       "      <td>-0.391498</td>\n",
       "      <td>0.407565</td>\n",
       "      <td>0.149938</td>\n",
       "      <td>0.228612</td>\n",
       "      <td>0.0</td>\n",
       "    </tr>\n",
       "    <tr>\n",
       "      <th>NYPDviolation</th>\n",
       "      <td>-0.784661</td>\n",
       "      <td>-0.121463</td>\n",
       "      <td>-0.311121</td>\n",
       "      <td>0.148084</td>\n",
       "      <td>0.0</td>\n",
       "    </tr>\n",
       "    <tr>\n",
       "      <th>NYPDmisdemeanor</th>\n",
       "      <td>-0.967836</td>\n",
       "      <td>0.001127</td>\n",
       "      <td>-0.224500</td>\n",
       "      <td>-0.010555</td>\n",
       "      <td>0.0</td>\n",
       "    </tr>\n",
       "    <tr>\n",
       "      <th>NYPDfelony</th>\n",
       "      <td>-0.955124</td>\n",
       "      <td>0.009742</td>\n",
       "      <td>-0.211949</td>\n",
       "      <td>-0.012951</td>\n",
       "      <td>0.0</td>\n",
       "    </tr>\n",
       "    <tr>\n",
       "      <th>Pop_Den_16</th>\n",
       "      <td>-0.190360</td>\n",
       "      <td>0.068654</td>\n",
       "      <td>-0.307974</td>\n",
       "      <td>0.025753</td>\n",
       "      <td>0.0</td>\n",
       "    </tr>\n",
       "    <tr>\n",
       "      <th>Median_Household_Income_16</th>\n",
       "      <td>0.158027</td>\n",
       "      <td>0.205589</td>\n",
       "      <td>0.965460</td>\n",
       "      <td>0.144628</td>\n",
       "      <td>0.0</td>\n",
       "    </tr>\n",
       "    <tr>\n",
       "      <th>Gini_Index_16</th>\n",
       "      <td>-0.077887</td>\n",
       "      <td>0.147762</td>\n",
       "      <td>-0.408610</td>\n",
       "      <td>0.152430</td>\n",
       "      <td>0.0</td>\n",
       "    </tr>\n",
       "    <tr>\n",
       "      <th>Ave_Commute_Min_16</th>\n",
       "      <td>-0.147889</td>\n",
       "      <td>-0.968950</td>\n",
       "      <td>0.134633</td>\n",
       "      <td>0.126346</td>\n",
       "      <td>0.0</td>\n",
       "    </tr>\n",
       "    <tr>\n",
       "      <th>Unemployed_rate_16</th>\n",
       "      <td>-0.304612</td>\n",
       "      <td>-0.186704</td>\n",
       "      <td>-0.364022</td>\n",
       "      <td>0.323067</td>\n",
       "      <td>0.0</td>\n",
       "    </tr>\n",
       "    <tr>\n",
       "      <th>Moved_in_4years_16</th>\n",
       "      <td>-0.000926</td>\n",
       "      <td>-0.003746</td>\n",
       "      <td>-0.017349</td>\n",
       "      <td>0.267191</td>\n",
       "      <td>0.0</td>\n",
       "    </tr>\n",
       "  </tbody>\n",
       "</table>\n",
       "</div>"
      ],
      "text/plain": [
       "                             Factor1   Factor2   Factor3   Factor4  Factor5\n",
       "pickups_intract            -0.391498  0.407565  0.149938  0.228612      0.0\n",
       "NYPDviolation              -0.784661 -0.121463 -0.311121  0.148084      0.0\n",
       "NYPDmisdemeanor            -0.967836  0.001127 -0.224500 -0.010555      0.0\n",
       "NYPDfelony                 -0.955124  0.009742 -0.211949 -0.012951      0.0\n",
       "Pop_Den_16                 -0.190360  0.068654 -0.307974  0.025753      0.0\n",
       "Median_Household_Income_16  0.158027  0.205589  0.965460  0.144628      0.0\n",
       "Gini_Index_16              -0.077887  0.147762 -0.408610  0.152430      0.0\n",
       "Ave_Commute_Min_16         -0.147889 -0.968950  0.134633  0.126346      0.0\n",
       "Unemployed_rate_16         -0.304612 -0.186704 -0.364022  0.323067      0.0\n",
       "Moved_in_4years_16         -0.000926 -0.003746 -0.017349  0.267191      0.0"
      ]
     },
     "execution_count": 248,
     "metadata": {},
     "output_type": "execute_result"
    }
   ],
   "source": [
    "fa.loadings"
   ]
  },
  {
   "cell_type": "code",
   "execution_count": 249,
   "metadata": {},
   "outputs": [
    {
     "data": {
      "text/html": [
       "<div>\n",
       "<style>\n",
       "    .dataframe thead tr:only-child th {\n",
       "        text-align: right;\n",
       "    }\n",
       "\n",
       "    .dataframe thead th {\n",
       "        text-align: left;\n",
       "    }\n",
       "\n",
       "    .dataframe tbody tr th {\n",
       "        vertical-align: top;\n",
       "    }\n",
       "</style>\n",
       "<table border=\"1\" class=\"dataframe\">\n",
       "  <thead>\n",
       "    <tr style=\"text-align: right;\">\n",
       "      <th></th>\n",
       "      <th>Factor1</th>\n",
       "      <th>Factor2</th>\n",
       "      <th>Factor3</th>\n",
       "      <th>Factor4</th>\n",
       "      <th>Factor5</th>\n",
       "    </tr>\n",
       "  </thead>\n",
       "  <tbody>\n",
       "    <tr>\n",
       "      <th>SS Loadings</th>\n",
       "      <td>2.799867</td>\n",
       "      <td>1.223508</td>\n",
       "      <td>1.559462</td>\n",
       "      <td>0.311014</td>\n",
       "      <td>0.000000</td>\n",
       "    </tr>\n",
       "    <tr>\n",
       "      <th>Proportion Var</th>\n",
       "      <td>0.279987</td>\n",
       "      <td>0.122351</td>\n",
       "      <td>0.155946</td>\n",
       "      <td>0.031101</td>\n",
       "      <td>0.000000</td>\n",
       "    </tr>\n",
       "    <tr>\n",
       "      <th>Cumulative Var</th>\n",
       "      <td>0.279987</td>\n",
       "      <td>0.402337</td>\n",
       "      <td>0.558284</td>\n",
       "      <td>0.589385</td>\n",
       "      <td>0.589385</td>\n",
       "    </tr>\n",
       "  </tbody>\n",
       "</table>\n",
       "</div>"
      ],
      "text/plain": [
       "                 Factor1   Factor2   Factor3   Factor4   Factor5\n",
       "SS Loadings     2.799867  1.223508  1.559462  0.311014  0.000000\n",
       "Proportion Var  0.279987  0.122351  0.155946  0.031101  0.000000\n",
       "Cumulative Var  0.279987  0.402337  0.558284  0.589385  0.589385"
      ]
     },
     "execution_count": 249,
     "metadata": {},
     "output_type": "execute_result"
    }
   ],
   "source": [
    "fa.get_factor_variance()"
   ]
  },
  {
   "cell_type": "code",
   "execution_count": 250,
   "metadata": {},
   "outputs": [
    {
     "data": {
      "text/plain": [
       "NYPDviolation     -0.784661\n",
       "NYPDmisdemeanor   -0.967836\n",
       "NYPDfelony        -0.955124\n",
       "Name: Factor1, dtype: float64"
      ]
     },
     "execution_count": 250,
     "metadata": {},
     "output_type": "execute_result"
    }
   ],
   "source": [
    "fa.loadings[np.abs(fa.loadings['Factor1'])>0.5]['Factor1']"
   ]
  },
  {
   "cell_type": "code",
   "execution_count": 251,
   "metadata": {},
   "outputs": [
    {
     "name": "stdout",
     "output_type": "stream",
     "text": [
      "Factor1:\n",
      "\n",
      "NYPDviolation     -0.784661\n",
      "NYPDmisdemeanor   -0.967836\n",
      "NYPDfelony        -0.955124\n",
      "Name: Factor1, dtype: float64\n",
      "\n",
      "\n",
      "Factor2:\n",
      "\n",
      "Ave_Commute_Min_16   -0.96895\n",
      "Name: Factor2, dtype: float64\n",
      "\n",
      "\n",
      "Factor3:\n",
      "\n",
      "Median_Household_Income_16    0.96546\n",
      "Name: Factor3, dtype: float64\n",
      "\n",
      "\n",
      "Factor4:\n",
      "\n",
      "Series([], Name: Factor4, dtype: float64)\n",
      "\n",
      "\n",
      "Factor5:\n",
      "\n",
      "Series([], Name: Factor5, dtype: float64)\n",
      "\n",
      "\n"
     ]
    }
   ],
   "source": [
    "for column in fa.loadings:\n",
    "    print(column+':\\n')\n",
    "    print(fa.loadings[np.abs(fa.loadings[column])>0.5][column])\n",
    "    print('\\n')"
   ]
  },
  {
   "cell_type": "markdown",
   "metadata": {},
   "source": [
    "## Factor 1: Crime\n",
    "## Factor 2: Income intergration and poverty level\n",
    "## Factor 3: Traffic convenience\n",
    "## Factor 4: New population"
   ]
  },
  {
   "cell_type": "code",
   "execution_count": 252,
   "metadata": {},
   "outputs": [
    {
     "data": {
      "text/html": [
       "<div>\n",
       "<style>\n",
       "    .dataframe thead tr:only-child th {\n",
       "        text-align: right;\n",
       "    }\n",
       "\n",
       "    .dataframe thead th {\n",
       "        text-align: left;\n",
       "    }\n",
       "\n",
       "    .dataframe tbody tr th {\n",
       "        vertical-align: top;\n",
       "    }\n",
       "</style>\n",
       "<table border=\"1\" class=\"dataframe\">\n",
       "  <thead>\n",
       "    <tr style=\"text-align: right;\">\n",
       "      <th></th>\n",
       "      <th>pickups_intract</th>\n",
       "      <th>NYPDviolation</th>\n",
       "      <th>NYPDmisdemeanor</th>\n",
       "      <th>NYPDfelony</th>\n",
       "      <th>Pop_Den_16</th>\n",
       "      <th>Median_Household_Income_16</th>\n",
       "      <th>Gini_Index_16</th>\n",
       "      <th>Ave_Commute_Min_16</th>\n",
       "      <th>Unemployed_rate_16</th>\n",
       "      <th>Moved_in_4years_16</th>\n",
       "    </tr>\n",
       "  </thead>\n",
       "  <tbody>\n",
       "    <tr>\n",
       "      <th>1</th>\n",
       "      <td>0.018984</td>\n",
       "      <td>0.09816</td>\n",
       "      <td>0.071754</td>\n",
       "      <td>0.059701</td>\n",
       "      <td>0.553791</td>\n",
       "      <td>0.169109</td>\n",
       "      <td>0.60298</td>\n",
       "      <td>0.483852</td>\n",
       "      <td>0.113104</td>\n",
       "      <td>0.06791</td>\n",
       "    </tr>\n",
       "  </tbody>\n",
       "</table>\n",
       "</div>"
      ],
      "text/plain": [
       "   pickups_intract  NYPDviolation  NYPDmisdemeanor  NYPDfelony  Pop_Den_16  \\\n",
       "1         0.018984        0.09816         0.071754    0.059701    0.553791   \n",
       "\n",
       "   Median_Household_Income_16  Gini_Index_16  Ave_Commute_Min_16  \\\n",
       "1                    0.169109        0.60298            0.483852   \n",
       "\n",
       "   Unemployed_rate_16  Moved_in_4years_16  \n",
       "1            0.113104             0.06791  "
      ]
     },
     "execution_count": 252,
     "metadata": {},
     "output_type": "execute_result"
    }
   ],
   "source": [
    "X_num.head(1)"
   ]
  },
  {
   "cell_type": "code",
   "execution_count": 253,
   "metadata": {},
   "outputs": [],
   "source": [
    "X_num.to_csv('X_num.csv')"
   ]
  },
  {
   "cell_type": "code",
   "execution_count": 254,
   "metadata": {},
   "outputs": [],
   "source": [
    "X_num1 = pd.read_csv('X_num1.csv')"
   ]
  },
  {
   "cell_type": "code",
   "execution_count": 255,
   "metadata": {},
   "outputs": [],
   "source": [
    "data = data.drop(list(X_num.columns),axis=1)"
   ]
  },
  {
   "cell_type": "code",
   "execution_count": 256,
   "metadata": {},
   "outputs": [
    {
     "data": {
      "text/html": [
       "<div>\n",
       "<style>\n",
       "    .dataframe thead tr:only-child th {\n",
       "        text-align: right;\n",
       "    }\n",
       "\n",
       "    .dataframe thead th {\n",
       "        text-align: left;\n",
       "    }\n",
       "\n",
       "    .dataframe tbody tr th {\n",
       "        vertical-align: top;\n",
       "    }\n",
       "</style>\n",
       "<table border=\"1\" class=\"dataframe\">\n",
       "  <thead>\n",
       "    <tr style=\"text-align: right;\">\n",
       "      <th></th>\n",
       "      <th>GEO_ID</th>\n",
       "      <th>STATE</th>\n",
       "      <th>COUNTY</th>\n",
       "      <th>TRACT</th>\n",
       "      <th>NAME</th>\n",
       "      <th>LSAD</th>\n",
       "      <th>CENSUSAREA</th>\n",
       "      <th>geometry</th>\n",
       "      <th>GEOID</th>\n",
       "      <th>units</th>\n",
       "      <th>CUR_FV_T_perSQFT_x</th>\n",
       "      <th>NEW_FV_T_perSQFT_x</th>\n",
       "      <th>HousepriceDiffC1</th>\n",
       "      <th>CUR_FV_T_perSQFT_y</th>\n",
       "      <th>NEW_FV_T_perSQFT_y</th>\n",
       "      <th>HousepriceDiffC2</th>\n",
       "      <th>Borough</th>\n",
       "      <th>2010CensusTract</th>\n",
       "      <th>PUMA</th>\n",
       "      <th>NTA_Code</th>\n",
       "      <th>NTA_Name</th>\n",
       "    </tr>\n",
       "  </thead>\n",
       "  <tbody>\n",
       "    <tr>\n",
       "      <th>1</th>\n",
       "      <td>36047010600</td>\n",
       "      <td>36</td>\n",
       "      <td>047</td>\n",
       "      <td>10600</td>\n",
       "      <td>106</td>\n",
       "      <td>Tract</td>\n",
       "      <td>0.058</td>\n",
       "      <td>POLYGON ((-74.003838 40.637546, -74.00442 40.6...</td>\n",
       "      <td>36047010600</td>\n",
       "      <td>0.0</td>\n",
       "      <td>0.269671</td>\n",
       "      <td>0.24963</td>\n",
       "      <td>0.233976</td>\n",
       "      <td>0.108513</td>\n",
       "      <td>0.12222</td>\n",
       "      <td>0.25633</td>\n",
       "      <td>Brooklyn</td>\n",
       "      <td>10600</td>\n",
       "      <td>4012</td>\n",
       "      <td>BK34</td>\n",
       "      <td>Sunset Park East</td>\n",
       "    </tr>\n",
       "  </tbody>\n",
       "</table>\n",
       "</div>"
      ],
      "text/plain": [
       "        GEO_ID STATE COUNTY  TRACT NAME   LSAD  CENSUSAREA  \\\n",
       "1  36047010600    36    047  10600  106  Tract       0.058   \n",
       "\n",
       "                                            geometry        GEOID  units  \\\n",
       "1  POLYGON ((-74.003838 40.637546, -74.00442 40.6...  36047010600    0.0   \n",
       "\n",
       "   CUR_FV_T_perSQFT_x  NEW_FV_T_perSQFT_x  HousepriceDiffC1  \\\n",
       "1            0.269671             0.24963          0.233976   \n",
       "\n",
       "   CUR_FV_T_perSQFT_y  NEW_FV_T_perSQFT_y  HousepriceDiffC2   Borough  \\\n",
       "1            0.108513             0.12222           0.25633  Brooklyn   \n",
       "\n",
       "   2010CensusTract  PUMA NTA_Code          NTA_Name  \n",
       "1            10600  4012     BK34  Sunset Park East  "
      ]
     },
     "execution_count": 256,
     "metadata": {},
     "output_type": "execute_result"
    }
   ],
   "source": [
    "data.head(1)"
   ]
  },
  {
   "cell_type": "code",
   "execution_count": 257,
   "metadata": {},
   "outputs": [],
   "source": [
    "data.index = range(len(data.index))"
   ]
  },
  {
   "cell_type": "code",
   "execution_count": 258,
   "metadata": {},
   "outputs": [],
   "source": [
    "X_num1.columns = ['Crime','Income intergration and poverty level','Traffic convenience','New population']"
   ]
  },
  {
   "cell_type": "code",
   "execution_count": 259,
   "metadata": {},
   "outputs": [],
   "source": [
    "for column in X_num1.columns:\n",
    "    data[column] = X_num1[column]"
   ]
  },
  {
   "cell_type": "code",
   "execution_count": 260,
   "metadata": {},
   "outputs": [],
   "source": [
    "columns = []\n",
    "for column in data.columns:\n",
    "    column = column.replace(' ','_' )\n",
    "    columns.append(column)"
   ]
  },
  {
   "cell_type": "code",
   "execution_count": 261,
   "metadata": {},
   "outputs": [],
   "source": [
    "data.columns = columns"
   ]
  },
  {
   "cell_type": "code",
   "execution_count": 262,
   "metadata": {
    "scrolled": true
   },
   "outputs": [
    {
     "data": {
      "text/html": [
       "<div>\n",
       "<style>\n",
       "    .dataframe thead tr:only-child th {\n",
       "        text-align: right;\n",
       "    }\n",
       "\n",
       "    .dataframe thead th {\n",
       "        text-align: left;\n",
       "    }\n",
       "\n",
       "    .dataframe tbody tr th {\n",
       "        vertical-align: top;\n",
       "    }\n",
       "</style>\n",
       "<table border=\"1\" class=\"dataframe\">\n",
       "  <thead>\n",
       "    <tr style=\"text-align: right;\">\n",
       "      <th></th>\n",
       "      <th>GEO_ID</th>\n",
       "      <th>STATE</th>\n",
       "      <th>COUNTY</th>\n",
       "      <th>TRACT</th>\n",
       "      <th>NAME</th>\n",
       "      <th>LSAD</th>\n",
       "      <th>CENSUSAREA</th>\n",
       "      <th>geometry</th>\n",
       "      <th>GEOID</th>\n",
       "      <th>units</th>\n",
       "      <th>CUR_FV_T_perSQFT_x</th>\n",
       "      <th>NEW_FV_T_perSQFT_x</th>\n",
       "      <th>HousepriceDiffC1</th>\n",
       "      <th>CUR_FV_T_perSQFT_y</th>\n",
       "      <th>NEW_FV_T_perSQFT_y</th>\n",
       "      <th>HousepriceDiffC2</th>\n",
       "      <th>Borough</th>\n",
       "      <th>2010CensusTract</th>\n",
       "      <th>PUMA</th>\n",
       "      <th>NTA_Code</th>\n",
       "      <th>NTA_Name</th>\n",
       "      <th>Crime</th>\n",
       "      <th>Income_intergration_and_poverty_level</th>\n",
       "      <th>Traffic_convenience</th>\n",
       "      <th>New_population</th>\n",
       "    </tr>\n",
       "  </thead>\n",
       "  <tbody>\n",
       "    <tr>\n",
       "      <th>0</th>\n",
       "      <td>36047010600</td>\n",
       "      <td>36</td>\n",
       "      <td>047</td>\n",
       "      <td>10600</td>\n",
       "      <td>106</td>\n",
       "      <td>Tract</td>\n",
       "      <td>0.058</td>\n",
       "      <td>POLYGON ((-74.003838 40.637546, -74.00442 40.6...</td>\n",
       "      <td>36047010600</td>\n",
       "      <td>0.0</td>\n",
       "      <td>0.269671</td>\n",
       "      <td>0.24963</td>\n",
       "      <td>0.233976</td>\n",
       "      <td>0.108513</td>\n",
       "      <td>0.12222</td>\n",
       "      <td>0.25633</td>\n",
       "      <td>Brooklyn</td>\n",
       "      <td>10600</td>\n",
       "      <td>4012</td>\n",
       "      <td>BK34</td>\n",
       "      <td>Sunset Park East</td>\n",
       "      <td>-0.207978</td>\n",
       "      <td>1.102963</td>\n",
       "      <td>0.017713</td>\n",
       "      <td>4.554116</td>\n",
       "    </tr>\n",
       "  </tbody>\n",
       "</table>\n",
       "</div>"
      ],
      "text/plain": [
       "        GEO_ID STATE COUNTY  TRACT NAME   LSAD  CENSUSAREA  \\\n",
       "0  36047010600    36    047  10600  106  Tract       0.058   \n",
       "\n",
       "                                            geometry        GEOID  units  \\\n",
       "0  POLYGON ((-74.003838 40.637546, -74.00442 40.6...  36047010600    0.0   \n",
       "\n",
       "   CUR_FV_T_perSQFT_x  NEW_FV_T_perSQFT_x  HousepriceDiffC1  \\\n",
       "0            0.269671             0.24963          0.233976   \n",
       "\n",
       "   CUR_FV_T_perSQFT_y  NEW_FV_T_perSQFT_y  HousepriceDiffC2   Borough  \\\n",
       "0            0.108513             0.12222           0.25633  Brooklyn   \n",
       "\n",
       "   2010CensusTract  PUMA NTA_Code          NTA_Name     Crime  \\\n",
       "0            10600  4012     BK34  Sunset Park East -0.207978   \n",
       "\n",
       "   Income_intergration_and_poverty_level  Traffic_convenience  New_population  \n",
       "0                               1.102963             0.017713        4.554116  "
      ]
     },
     "execution_count": 262,
     "metadata": {},
     "output_type": "execute_result"
    }
   ],
   "source": [
    "data.head(1)"
   ]
  },
  {
   "cell_type": "code",
   "execution_count": 264,
   "metadata": {},
   "outputs": [],
   "source": [
    "#data.units[data.units > 0] =1"
   ]
  },
  {
   "cell_type": "code",
   "execution_count": 265,
   "metadata": {},
   "outputs": [
    {
     "data": {
      "text/plain": [
       "'NEW_FV_T_perSQFT_x~Crime+Income_intergration_and_poverty_level+Traffic_convenience+New_population'"
      ]
     },
     "execution_count": 265,
     "metadata": {},
     "output_type": "execute_result"
    }
   ],
   "source": [
    "'NEW_FV_T_perSQFT_x~'+'+'.join(data.columns[-4:])"
   ]
  },
  {
   "cell_type": "code",
   "execution_count": 182,
   "metadata": {},
   "outputs": [
    {
     "data": {
      "text/html": [
       "<table class=\"simpletable\">\n",
       "<caption>OLS Regression Results</caption>\n",
       "<tr>\n",
       "  <th>Dep. Variable:</th>    <td>HousepriceDiffC1</td> <th>  R-squared:         </th> <td>   0.042</td>\n",
       "</tr>\n",
       "<tr>\n",
       "  <th>Model:</th>                   <td>OLS</td>       <th>  Adj. R-squared:    </th> <td>   0.036</td>\n",
       "</tr>\n",
       "<tr>\n",
       "  <th>Method:</th>             <td>Least Squares</td>  <th>  F-statistic:       </th> <td>   6.850</td>\n",
       "</tr>\n",
       "<tr>\n",
       "  <th>Date:</th>             <td>Fri, 08 Dec 2017</td> <th>  Prob (F-statistic):</th> <td>2.12e-05</td>\n",
       "</tr>\n",
       "<tr>\n",
       "  <th>Time:</th>                 <td>16:29:38</td>     <th>  Log-Likelihood:    </th> <td>  614.87</td>\n",
       "</tr>\n",
       "<tr>\n",
       "  <th>No. Observations:</th>      <td>   634</td>      <th>  AIC:               </th> <td>  -1220.</td>\n",
       "</tr>\n",
       "<tr>\n",
       "  <th>Df Residuals:</th>          <td>   629</td>      <th>  BIC:               </th> <td>  -1197.</td>\n",
       "</tr>\n",
       "<tr>\n",
       "  <th>Df Model:</th>              <td>     4</td>      <th>                     </th>     <td> </td>   \n",
       "</tr>\n",
       "<tr>\n",
       "  <th>Covariance Type:</th>      <td>nonrobust</td>    <th>                     </th>     <td> </td>   \n",
       "</tr>\n",
       "</table>\n",
       "<table class=\"simpletable\">\n",
       "<tr>\n",
       "                    <td></td>                       <th>coef</th>     <th>std err</th>      <th>t</th>      <th>P>|t|</th>  <th>[0.025</th>    <th>0.975]</th>  \n",
       "</tr>\n",
       "<tr>\n",
       "  <th>Intercept</th>                             <td>    0.2209</td> <td>    0.004</td> <td>   60.374</td> <td> 0.000</td> <td>    0.214</td> <td>    0.228</td>\n",
       "</tr>\n",
       "<tr>\n",
       "  <th>Crime</th>                                 <td>   -0.0064</td> <td>    0.004</td> <td>   -1.710</td> <td> 0.088</td> <td>   -0.014</td> <td>    0.001</td>\n",
       "</tr>\n",
       "<tr>\n",
       "  <th>Income_intergration_and_poverty_level</th> <td>    0.0046</td> <td>    0.004</td> <td>    1.278</td> <td> 0.202</td> <td>   -0.002</td> <td>    0.012</td>\n",
       "</tr>\n",
       "<tr>\n",
       "  <th>Traffic_convenience</th>                   <td>    0.0174</td> <td>    0.004</td> <td>    4.684</td> <td> 0.000</td> <td>    0.010</td> <td>    0.025</td>\n",
       "</tr>\n",
       "<tr>\n",
       "  <th>New_population</th>                        <td>    0.0031</td> <td>    0.004</td> <td>    0.847</td> <td> 0.397</td> <td>   -0.004</td> <td>    0.010</td>\n",
       "</tr>\n",
       "</table>\n",
       "<table class=\"simpletable\">\n",
       "<tr>\n",
       "  <th>Omnibus:</th>       <td>107.110</td> <th>  Durbin-Watson:     </th> <td>   1.412</td>\n",
       "</tr>\n",
       "<tr>\n",
       "  <th>Prob(Omnibus):</th> <td> 0.000</td>  <th>  Jarque-Bera (JB):  </th> <td> 183.770</td>\n",
       "</tr>\n",
       "<tr>\n",
       "  <th>Skew:</th>          <td> 1.029</td>  <th>  Prob(JB):          </th> <td>1.24e-40</td>\n",
       "</tr>\n",
       "<tr>\n",
       "  <th>Kurtosis:</th>      <td> 4.650</td>  <th>  Cond. No.          </th> <td>    1.04</td>\n",
       "</tr>\n",
       "</table>"
      ],
      "text/plain": [
       "<class 'statsmodels.iolib.summary.Summary'>\n",
       "\"\"\"\n",
       "                            OLS Regression Results                            \n",
       "==============================================================================\n",
       "Dep. Variable:       HousepriceDiffC1   R-squared:                       0.042\n",
       "Model:                            OLS   Adj. R-squared:                  0.036\n",
       "Method:                 Least Squares   F-statistic:                     6.850\n",
       "Date:                Fri, 08 Dec 2017   Prob (F-statistic):           2.12e-05\n",
       "Time:                        16:29:38   Log-Likelihood:                 614.87\n",
       "No. Observations:                 634   AIC:                            -1220.\n",
       "Df Residuals:                     629   BIC:                            -1197.\n",
       "Df Model:                           4                                         \n",
       "Covariance Type:            nonrobust                                         \n",
       "=========================================================================================================\n",
       "                                            coef    std err          t      P>|t|      [0.025      0.975]\n",
       "---------------------------------------------------------------------------------------------------------\n",
       "Intercept                                 0.2209      0.004     60.374      0.000       0.214       0.228\n",
       "Crime                                    -0.0064      0.004     -1.710      0.088      -0.014       0.001\n",
       "Income_intergration_and_poverty_level     0.0046      0.004      1.278      0.202      -0.002       0.012\n",
       "Traffic_convenience                       0.0174      0.004      4.684      0.000       0.010       0.025\n",
       "New_population                            0.0031      0.004      0.847      0.397      -0.004       0.010\n",
       "==============================================================================\n",
       "Omnibus:                      107.110   Durbin-Watson:                   1.412\n",
       "Prob(Omnibus):                  0.000   Jarque-Bera (JB):              183.770\n",
       "Skew:                           1.029   Prob(JB):                     1.24e-40\n",
       "Kurtosis:                       4.650   Cond. No.                         1.04\n",
       "==============================================================================\n",
       "\n",
       "Warnings:\n",
       "[1] Standard Errors assume that the covariance matrix of the errors is correctly specified.\n",
       "\"\"\""
      ]
     },
     "execution_count": 182,
     "metadata": {},
     "output_type": "execute_result"
    }
   ],
   "source": [
    "lm_no_units = smf.ols(formula='HousepriceDiffC1~'+'+'.join(data.columns[-4:])\n",
    "             ,data=data).fit()\n",
    "lm_no_units.summary()"
   ]
  },
  {
   "cell_type": "code",
   "execution_count": 183,
   "metadata": {},
   "outputs": [
    {
     "data": {
      "text/html": [
       "<table class=\"simpletable\">\n",
       "<caption>OLS Regression Results</caption>\n",
       "<tr>\n",
       "  <th>Dep. Variable:</th>    <td>HousepriceDiffC1</td> <th>  R-squared:         </th> <td>   0.043</td>\n",
       "</tr>\n",
       "<tr>\n",
       "  <th>Model:</th>                   <td>OLS</td>       <th>  Adj. R-squared:    </th> <td>   0.035</td>\n",
       "</tr>\n",
       "<tr>\n",
       "  <th>Method:</th>             <td>Least Squares</td>  <th>  F-statistic:       </th> <td>   5.657</td>\n",
       "</tr>\n",
       "<tr>\n",
       "  <th>Date:</th>             <td>Fri, 08 Dec 2017</td> <th>  Prob (F-statistic):</th> <td>4.10e-05</td>\n",
       "</tr>\n",
       "<tr>\n",
       "  <th>Time:</th>                 <td>16:29:38</td>     <th>  Log-Likelihood:    </th> <td>  615.32</td>\n",
       "</tr>\n",
       "<tr>\n",
       "  <th>No. Observations:</th>      <td>   634</td>      <th>  AIC:               </th> <td>  -1219.</td>\n",
       "</tr>\n",
       "<tr>\n",
       "  <th>Df Residuals:</th>          <td>   628</td>      <th>  BIC:               </th> <td>  -1192.</td>\n",
       "</tr>\n",
       "<tr>\n",
       "  <th>Df Model:</th>              <td>     5</td>      <th>                     </th>     <td> </td>   \n",
       "</tr>\n",
       "<tr>\n",
       "  <th>Covariance Type:</th>      <td>nonrobust</td>    <th>                     </th>     <td> </td>   \n",
       "</tr>\n",
       "</table>\n",
       "<table class=\"simpletable\">\n",
       "<tr>\n",
       "                    <td></td>                       <th>coef</th>     <th>std err</th>      <th>t</th>      <th>P>|t|</th>  <th>[0.025</th>    <th>0.975]</th>  \n",
       "</tr>\n",
       "<tr>\n",
       "  <th>Intercept</th>                             <td>    0.2203</td> <td>    0.004</td> <td>   59.449</td> <td> 0.000</td> <td>    0.213</td> <td>    0.228</td>\n",
       "</tr>\n",
       "<tr>\n",
       "  <th>C(units)[T.1.0]</th>                       <td>    0.0221</td> <td>    0.023</td> <td>    0.944</td> <td> 0.345</td> <td>   -0.024</td> <td>    0.068</td>\n",
       "</tr>\n",
       "<tr>\n",
       "  <th>Crime</th>                                 <td>   -0.0062</td> <td>    0.004</td> <td>   -1.676</td> <td> 0.094</td> <td>   -0.014</td> <td>    0.001</td>\n",
       "</tr>\n",
       "<tr>\n",
       "  <th>Income_intergration_and_poverty_level</th> <td>    0.0047</td> <td>    0.004</td> <td>    1.305</td> <td> 0.192</td> <td>   -0.002</td> <td>    0.012</td>\n",
       "</tr>\n",
       "<tr>\n",
       "  <th>Traffic_convenience</th>                   <td>    0.0172</td> <td>    0.004</td> <td>    4.643</td> <td> 0.000</td> <td>    0.010</td> <td>    0.025</td>\n",
       "</tr>\n",
       "<tr>\n",
       "  <th>New_population</th>                        <td>    0.0030</td> <td>    0.004</td> <td>    0.816</td> <td> 0.415</td> <td>   -0.004</td> <td>    0.010</td>\n",
       "</tr>\n",
       "</table>\n",
       "<table class=\"simpletable\">\n",
       "<tr>\n",
       "  <th>Omnibus:</th>       <td>108.265</td> <th>  Durbin-Watson:     </th> <td>   1.414</td>\n",
       "</tr>\n",
       "<tr>\n",
       "  <th>Prob(Omnibus):</th> <td> 0.000</td>  <th>  Jarque-Bera (JB):  </th> <td> 187.875</td>\n",
       "</tr>\n",
       "<tr>\n",
       "  <th>Skew:</th>          <td> 1.033</td>  <th>  Prob(JB):          </th> <td>1.60e-41</td>\n",
       "</tr>\n",
       "<tr>\n",
       "  <th>Kurtosis:</th>      <td> 4.687</td>  <th>  Cond. No.          </th> <td>    6.48</td>\n",
       "</tr>\n",
       "</table>"
      ],
      "text/plain": [
       "<class 'statsmodels.iolib.summary.Summary'>\n",
       "\"\"\"\n",
       "                            OLS Regression Results                            \n",
       "==============================================================================\n",
       "Dep. Variable:       HousepriceDiffC1   R-squared:                       0.043\n",
       "Model:                            OLS   Adj. R-squared:                  0.035\n",
       "Method:                 Least Squares   F-statistic:                     5.657\n",
       "Date:                Fri, 08 Dec 2017   Prob (F-statistic):           4.10e-05\n",
       "Time:                        16:29:38   Log-Likelihood:                 615.32\n",
       "No. Observations:                 634   AIC:                            -1219.\n",
       "Df Residuals:                     628   BIC:                            -1192.\n",
       "Df Model:                           5                                         \n",
       "Covariance Type:            nonrobust                                         \n",
       "=========================================================================================================\n",
       "                                            coef    std err          t      P>|t|      [0.025      0.975]\n",
       "---------------------------------------------------------------------------------------------------------\n",
       "Intercept                                 0.2203      0.004     59.449      0.000       0.213       0.228\n",
       "C(units)[T.1.0]                           0.0221      0.023      0.944      0.345      -0.024       0.068\n",
       "Crime                                    -0.0062      0.004     -1.676      0.094      -0.014       0.001\n",
       "Income_intergration_and_poverty_level     0.0047      0.004      1.305      0.192      -0.002       0.012\n",
       "Traffic_convenience                       0.0172      0.004      4.643      0.000       0.010       0.025\n",
       "New_population                            0.0030      0.004      0.816      0.415      -0.004       0.010\n",
       "==============================================================================\n",
       "Omnibus:                      108.265   Durbin-Watson:                   1.414\n",
       "Prob(Omnibus):                  0.000   Jarque-Bera (JB):              187.875\n",
       "Skew:                           1.033   Prob(JB):                     1.60e-41\n",
       "Kurtosis:                       4.687   Cond. No.                         6.48\n",
       "==============================================================================\n",
       "\n",
       "Warnings:\n",
       "[1] Standard Errors assume that the covariance matrix of the errors is correctly specified.\n",
       "\"\"\""
      ]
     },
     "execution_count": 183,
     "metadata": {},
     "output_type": "execute_result"
    }
   ],
   "source": [
    "lm_with_units = smf.ols(formula='HousepriceDiffC1~C(units)+'+'+'.join(data.columns[-4:])\n",
    "             ,data=data).fit()\n",
    "lm_with_units.summary()"
   ]
  },
  {
   "cell_type": "code",
   "execution_count": 184,
   "metadata": {},
   "outputs": [
    {
     "name": "stderr",
     "output_type": "stream",
     "text": [
      "C:\\Users\\sddz0\\Anaconda2\\envs\\py36\\lib\\site-packages\\scipy\\stats\\_distn_infrastructure.py:879: RuntimeWarning: invalid value encountered in greater\n",
      "  return (self.a < x) & (x < self.b)\n",
      "C:\\Users\\sddz0\\Anaconda2\\envs\\py36\\lib\\site-packages\\scipy\\stats\\_distn_infrastructure.py:879: RuntimeWarning: invalid value encountered in less\n",
      "  return (self.a < x) & (x < self.b)\n",
      "C:\\Users\\sddz0\\Anaconda2\\envs\\py36\\lib\\site-packages\\scipy\\stats\\_distn_infrastructure.py:1818: RuntimeWarning: invalid value encountered in less_equal\n",
      "  cond2 = cond0 & (x <= self.a)\n"
     ]
    },
    {
     "data": {
      "text/html": [
       "<div>\n",
       "<style>\n",
       "    .dataframe thead tr:only-child th {\n",
       "        text-align: right;\n",
       "    }\n",
       "\n",
       "    .dataframe thead th {\n",
       "        text-align: left;\n",
       "    }\n",
       "\n",
       "    .dataframe tbody tr th {\n",
       "        vertical-align: top;\n",
       "    }\n",
       "</style>\n",
       "<table border=\"1\" class=\"dataframe\">\n",
       "  <thead>\n",
       "    <tr style=\"text-align: right;\">\n",
       "      <th></th>\n",
       "      <th>df_resid</th>\n",
       "      <th>ssr</th>\n",
       "      <th>df_diff</th>\n",
       "      <th>ss_diff</th>\n",
       "      <th>F</th>\n",
       "      <th>Pr(&gt;F)</th>\n",
       "    </tr>\n",
       "  </thead>\n",
       "  <tbody>\n",
       "    <tr>\n",
       "      <th>0</th>\n",
       "      <td>629.0</td>\n",
       "      <td>5.336184</td>\n",
       "      <td>0.0</td>\n",
       "      <td>NaN</td>\n",
       "      <td>NaN</td>\n",
       "      <td>NaN</td>\n",
       "    </tr>\n",
       "    <tr>\n",
       "      <th>1</th>\n",
       "      <td>628.0</td>\n",
       "      <td>5.328617</td>\n",
       "      <td>1.0</td>\n",
       "      <td>0.007567</td>\n",
       "      <td>0.891858</td>\n",
       "      <td>0.345338</td>\n",
       "    </tr>\n",
       "  </tbody>\n",
       "</table>\n",
       "</div>"
      ],
      "text/plain": [
       "   df_resid       ssr  df_diff   ss_diff         F    Pr(>F)\n",
       "0     629.0  5.336184      0.0       NaN       NaN       NaN\n",
       "1     628.0  5.328617      1.0  0.007567  0.891858  0.345338"
      ]
     },
     "execution_count": 184,
     "metadata": {},
     "output_type": "execute_result"
    }
   ],
   "source": [
    "anova = sm.stats.anova_lm(lm_no_units,lm_with_units)\n",
    "anova"
   ]
  },
  {
   "cell_type": "code",
   "execution_count": 185,
   "metadata": {},
   "outputs": [
    {
     "data": {
      "text/html": [
       "<table class=\"simpletable\">\n",
       "<caption>OLS Regression Results</caption>\n",
       "<tr>\n",
       "  <th>Dep. Variable:</th>    <td>HousepriceDiffC2</td> <th>  R-squared:         </th> <td>   0.049</td>\n",
       "</tr>\n",
       "<tr>\n",
       "  <th>Model:</th>                   <td>OLS</td>       <th>  Adj. R-squared:    </th> <td>   0.043</td>\n",
       "</tr>\n",
       "<tr>\n",
       "  <th>Method:</th>             <td>Least Squares</td>  <th>  F-statistic:       </th> <td>   8.036</td>\n",
       "</tr>\n",
       "<tr>\n",
       "  <th>Date:</th>             <td>Fri, 08 Dec 2017</td> <th>  Prob (F-statistic):</th> <td>2.54e-06</td>\n",
       "</tr>\n",
       "<tr>\n",
       "  <th>Time:</th>                 <td>16:29:39</td>     <th>  Log-Likelihood:    </th> <td>  225.18</td>\n",
       "</tr>\n",
       "<tr>\n",
       "  <th>No. Observations:</th>      <td>   634</td>      <th>  AIC:               </th> <td>  -440.4</td>\n",
       "</tr>\n",
       "<tr>\n",
       "  <th>Df Residuals:</th>          <td>   629</td>      <th>  BIC:               </th> <td>  -418.1</td>\n",
       "</tr>\n",
       "<tr>\n",
       "  <th>Df Model:</th>              <td>     4</td>      <th>                     </th>     <td> </td>   \n",
       "</tr>\n",
       "<tr>\n",
       "  <th>Covariance Type:</th>      <td>nonrobust</td>    <th>                     </th>     <td> </td>   \n",
       "</tr>\n",
       "</table>\n",
       "<table class=\"simpletable\">\n",
       "<tr>\n",
       "                    <td></td>                       <th>coef</th>     <th>std err</th>      <th>t</th>      <th>P>|t|</th>  <th>[0.025</th>    <th>0.975]</th>  \n",
       "</tr>\n",
       "<tr>\n",
       "  <th>Intercept</th>                             <td>    0.2812</td> <td>    0.007</td> <td>   41.566</td> <td> 0.000</td> <td>    0.268</td> <td>    0.294</td>\n",
       "</tr>\n",
       "<tr>\n",
       "  <th>Crime</th>                                 <td>    0.0302</td> <td>    0.007</td> <td>    4.390</td> <td> 0.000</td> <td>    0.017</td> <td>    0.044</td>\n",
       "</tr>\n",
       "<tr>\n",
       "  <th>Income_intergration_and_poverty_level</th> <td>    0.0123</td> <td>    0.007</td> <td>    1.835</td> <td> 0.067</td> <td>   -0.001</td> <td>    0.025</td>\n",
       "</tr>\n",
       "<tr>\n",
       "  <th>Traffic_convenience</th>                   <td>   -0.0210</td> <td>    0.007</td> <td>   -3.055</td> <td> 0.002</td> <td>   -0.034</td> <td>   -0.007</td>\n",
       "</tr>\n",
       "<tr>\n",
       "  <th>New_population</th>                        <td>   -0.0030</td> <td>    0.007</td> <td>   -0.440</td> <td> 0.660</td> <td>   -0.016</td> <td>    0.010</td>\n",
       "</tr>\n",
       "</table>\n",
       "<table class=\"simpletable\">\n",
       "<tr>\n",
       "  <th>Omnibus:</th>       <td>78.878</td> <th>  Durbin-Watson:     </th> <td>   1.541</td>\n",
       "</tr>\n",
       "<tr>\n",
       "  <th>Prob(Omnibus):</th> <td> 0.000</td> <th>  Jarque-Bera (JB):  </th> <td> 105.866</td>\n",
       "</tr>\n",
       "<tr>\n",
       "  <th>Skew:</th>          <td> 0.973</td> <th>  Prob(JB):          </th> <td>1.03e-23</td>\n",
       "</tr>\n",
       "<tr>\n",
       "  <th>Kurtosis:</th>      <td> 3.472</td> <th>  Cond. No.          </th> <td>    1.04</td>\n",
       "</tr>\n",
       "</table>"
      ],
      "text/plain": [
       "<class 'statsmodels.iolib.summary.Summary'>\n",
       "\"\"\"\n",
       "                            OLS Regression Results                            \n",
       "==============================================================================\n",
       "Dep. Variable:       HousepriceDiffC2   R-squared:                       0.049\n",
       "Model:                            OLS   Adj. R-squared:                  0.043\n",
       "Method:                 Least Squares   F-statistic:                     8.036\n",
       "Date:                Fri, 08 Dec 2017   Prob (F-statistic):           2.54e-06\n",
       "Time:                        16:29:39   Log-Likelihood:                 225.18\n",
       "No. Observations:                 634   AIC:                            -440.4\n",
       "Df Residuals:                     629   BIC:                            -418.1\n",
       "Df Model:                           4                                         \n",
       "Covariance Type:            nonrobust                                         \n",
       "=========================================================================================================\n",
       "                                            coef    std err          t      P>|t|      [0.025      0.975]\n",
       "---------------------------------------------------------------------------------------------------------\n",
       "Intercept                                 0.2812      0.007     41.566      0.000       0.268       0.294\n",
       "Crime                                     0.0302      0.007      4.390      0.000       0.017       0.044\n",
       "Income_intergration_and_poverty_level     0.0123      0.007      1.835      0.067      -0.001       0.025\n",
       "Traffic_convenience                      -0.0210      0.007     -3.055      0.002      -0.034      -0.007\n",
       "New_population                           -0.0030      0.007     -0.440      0.660      -0.016       0.010\n",
       "==============================================================================\n",
       "Omnibus:                       78.878   Durbin-Watson:                   1.541\n",
       "Prob(Omnibus):                  0.000   Jarque-Bera (JB):              105.866\n",
       "Skew:                           0.973   Prob(JB):                     1.03e-23\n",
       "Kurtosis:                       3.472   Cond. No.                         1.04\n",
       "==============================================================================\n",
       "\n",
       "Warnings:\n",
       "[1] Standard Errors assume that the covariance matrix of the errors is correctly specified.\n",
       "\"\"\""
      ]
     },
     "execution_count": 185,
     "metadata": {},
     "output_type": "execute_result"
    }
   ],
   "source": [
    "lm1_no_units = smf.ols(formula='HousepriceDiffC2~'+'+'.join(data.columns[-4:])\n",
    "             ,data=data).fit()\n",
    "lm1_no_units.summary()"
   ]
  },
  {
   "cell_type": "code",
   "execution_count": 186,
   "metadata": {},
   "outputs": [
    {
     "data": {
      "text/html": [
       "<table class=\"simpletable\">\n",
       "<caption>OLS Regression Results</caption>\n",
       "<tr>\n",
       "  <th>Dep. Variable:</th>    <td>HousepriceDiffC2</td> <th>  R-squared:         </th> <td>   0.051</td>\n",
       "</tr>\n",
       "<tr>\n",
       "  <th>Model:</th>                   <td>OLS</td>       <th>  Adj. R-squared:    </th> <td>   0.043</td>\n",
       "</tr>\n",
       "<tr>\n",
       "  <th>Method:</th>             <td>Least Squares</td>  <th>  F-statistic:       </th> <td>   6.693</td>\n",
       "</tr>\n",
       "<tr>\n",
       "  <th>Date:</th>             <td>Fri, 08 Dec 2017</td> <th>  Prob (F-statistic):</th> <td>4.35e-06</td>\n",
       "</tr>\n",
       "<tr>\n",
       "  <th>Time:</th>                 <td>16:29:39</td>     <th>  Log-Likelihood:    </th> <td>  225.84</td>\n",
       "</tr>\n",
       "<tr>\n",
       "  <th>No. Observations:</th>      <td>   634</td>      <th>  AIC:               </th> <td>  -439.7</td>\n",
       "</tr>\n",
       "<tr>\n",
       "  <th>Df Residuals:</th>          <td>   628</td>      <th>  BIC:               </th> <td>  -413.0</td>\n",
       "</tr>\n",
       "<tr>\n",
       "  <th>Df Model:</th>              <td>     5</td>      <th>                     </th>     <td> </td>   \n",
       "</tr>\n",
       "<tr>\n",
       "  <th>Covariance Type:</th>      <td>nonrobust</td>    <th>                     </th>     <td> </td>   \n",
       "</tr>\n",
       "</table>\n",
       "<table class=\"simpletable\">\n",
       "<tr>\n",
       "                    <td></td>                       <th>coef</th>     <th>std err</th>      <th>t</th>      <th>P>|t|</th>  <th>[0.025</th>    <th>0.975]</th>  \n",
       "</tr>\n",
       "<tr>\n",
       "  <th>Intercept</th>                             <td>    0.2800</td> <td>    0.007</td> <td>   40.863</td> <td> 0.000</td> <td>    0.267</td> <td>    0.293</td>\n",
       "</tr>\n",
       "<tr>\n",
       "  <th>C(units)[T.1.0]</th>                       <td>    0.0494</td> <td>    0.043</td> <td>    1.143</td> <td> 0.253</td> <td>   -0.035</td> <td>    0.134</td>\n",
       "</tr>\n",
       "<tr>\n",
       "  <th>Crime</th>                                 <td>    0.0304</td> <td>    0.007</td> <td>    4.428</td> <td> 0.000</td> <td>    0.017</td> <td>    0.044</td>\n",
       "</tr>\n",
       "<tr>\n",
       "  <th>Income_intergration_and_poverty_level</th> <td>    0.0125</td> <td>    0.007</td> <td>    1.868</td> <td> 0.062</td> <td>   -0.001</td> <td>    0.026</td>\n",
       "</tr>\n",
       "<tr>\n",
       "  <th>Traffic_convenience</th>                   <td>   -0.0213</td> <td>    0.007</td> <td>   -3.098</td> <td> 0.002</td> <td>   -0.035</td> <td>   -0.008</td>\n",
       "</tr>\n",
       "<tr>\n",
       "  <th>New_population</th>                        <td>   -0.0032</td> <td>    0.007</td> <td>   -0.478</td> <td> 0.633</td> <td>   -0.017</td> <td>    0.010</td>\n",
       "</tr>\n",
       "</table>\n",
       "<table class=\"simpletable\">\n",
       "<tr>\n",
       "  <th>Omnibus:</th>       <td>78.933</td> <th>  Durbin-Watson:     </th> <td>   1.540</td>\n",
       "</tr>\n",
       "<tr>\n",
       "  <th>Prob(Omnibus):</th> <td> 0.000</td> <th>  Jarque-Bera (JB):  </th> <td> 105.963</td>\n",
       "</tr>\n",
       "<tr>\n",
       "  <th>Skew:</th>          <td> 0.973</td> <th>  Prob(JB):          </th> <td>9.78e-24</td>\n",
       "</tr>\n",
       "<tr>\n",
       "  <th>Kurtosis:</th>      <td> 3.472</td> <th>  Cond. No.          </th> <td>    6.48</td>\n",
       "</tr>\n",
       "</table>"
      ],
      "text/plain": [
       "<class 'statsmodels.iolib.summary.Summary'>\n",
       "\"\"\"\n",
       "                            OLS Regression Results                            \n",
       "==============================================================================\n",
       "Dep. Variable:       HousepriceDiffC2   R-squared:                       0.051\n",
       "Model:                            OLS   Adj. R-squared:                  0.043\n",
       "Method:                 Least Squares   F-statistic:                     6.693\n",
       "Date:                Fri, 08 Dec 2017   Prob (F-statistic):           4.35e-06\n",
       "Time:                        16:29:39   Log-Likelihood:                 225.84\n",
       "No. Observations:                 634   AIC:                            -439.7\n",
       "Df Residuals:                     628   BIC:                            -413.0\n",
       "Df Model:                           5                                         \n",
       "Covariance Type:            nonrobust                                         \n",
       "=========================================================================================================\n",
       "                                            coef    std err          t      P>|t|      [0.025      0.975]\n",
       "---------------------------------------------------------------------------------------------------------\n",
       "Intercept                                 0.2800      0.007     40.863      0.000       0.267       0.293\n",
       "C(units)[T.1.0]                           0.0494      0.043      1.143      0.253      -0.035       0.134\n",
       "Crime                                     0.0304      0.007      4.428      0.000       0.017       0.044\n",
       "Income_intergration_and_poverty_level     0.0125      0.007      1.868      0.062      -0.001       0.026\n",
       "Traffic_convenience                      -0.0213      0.007     -3.098      0.002      -0.035      -0.008\n",
       "New_population                           -0.0032      0.007     -0.478      0.633      -0.017       0.010\n",
       "==============================================================================\n",
       "Omnibus:                       78.933   Durbin-Watson:                   1.540\n",
       "Prob(Omnibus):                  0.000   Jarque-Bera (JB):              105.963\n",
       "Skew:                           0.973   Prob(JB):                     9.78e-24\n",
       "Kurtosis:                       3.472   Cond. No.                         6.48\n",
       "==============================================================================\n",
       "\n",
       "Warnings:\n",
       "[1] Standard Errors assume that the covariance matrix of the errors is correctly specified.\n",
       "\"\"\""
      ]
     },
     "execution_count": 186,
     "metadata": {},
     "output_type": "execute_result"
    }
   ],
   "source": [
    "lm1_with_units = smf.ols(formula='HousepriceDiffC2~C(units)+'+'+'.join(data.columns[-4:])\n",
    "             ,data=data).fit()\n",
    "lm1_with_units.summary()"
   ]
  },
  {
   "cell_type": "code",
   "execution_count": 187,
   "metadata": {},
   "outputs": [
    {
     "name": "stderr",
     "output_type": "stream",
     "text": [
      "C:\\Users\\sddz0\\Anaconda2\\envs\\py36\\lib\\site-packages\\scipy\\stats\\_distn_infrastructure.py:879: RuntimeWarning: invalid value encountered in greater\n",
      "  return (self.a < x) & (x < self.b)\n",
      "C:\\Users\\sddz0\\Anaconda2\\envs\\py36\\lib\\site-packages\\scipy\\stats\\_distn_infrastructure.py:879: RuntimeWarning: invalid value encountered in less\n",
      "  return (self.a < x) & (x < self.b)\n",
      "C:\\Users\\sddz0\\Anaconda2\\envs\\py36\\lib\\site-packages\\scipy\\stats\\_distn_infrastructure.py:1818: RuntimeWarning: invalid value encountered in less_equal\n",
      "  cond2 = cond0 & (x <= self.a)\n"
     ]
    },
    {
     "data": {
      "text/html": [
       "<div>\n",
       "<style>\n",
       "    .dataframe thead tr:only-child th {\n",
       "        text-align: right;\n",
       "    }\n",
       "\n",
       "    .dataframe thead th {\n",
       "        text-align: left;\n",
       "    }\n",
       "\n",
       "    .dataframe tbody tr th {\n",
       "        vertical-align: top;\n",
       "    }\n",
       "</style>\n",
       "<table border=\"1\" class=\"dataframe\">\n",
       "  <thead>\n",
       "    <tr style=\"text-align: right;\">\n",
       "      <th></th>\n",
       "      <th>df_resid</th>\n",
       "      <th>ssr</th>\n",
       "      <th>df_diff</th>\n",
       "      <th>ss_diff</th>\n",
       "      <th>F</th>\n",
       "      <th>Pr(&gt;F)</th>\n",
       "    </tr>\n",
       "  </thead>\n",
       "  <tbody>\n",
       "    <tr>\n",
       "      <th>0</th>\n",
       "      <td>629.0</td>\n",
       "      <td>18.243515</td>\n",
       "      <td>0.0</td>\n",
       "      <td>NaN</td>\n",
       "      <td>NaN</td>\n",
       "      <td>NaN</td>\n",
       "    </tr>\n",
       "    <tr>\n",
       "      <th>1</th>\n",
       "      <td>628.0</td>\n",
       "      <td>18.205640</td>\n",
       "      <td>1.0</td>\n",
       "      <td>0.037876</td>\n",
       "      <td>1.306511</td>\n",
       "      <td>0.253463</td>\n",
       "    </tr>\n",
       "  </tbody>\n",
       "</table>\n",
       "</div>"
      ],
      "text/plain": [
       "   df_resid        ssr  df_diff   ss_diff         F    Pr(>F)\n",
       "0     629.0  18.243515      0.0       NaN       NaN       NaN\n",
       "1     628.0  18.205640      1.0  0.037876  1.306511  0.253463"
      ]
     },
     "execution_count": 187,
     "metadata": {},
     "output_type": "execute_result"
    }
   ],
   "source": [
    "anova = sm.stats.anova_lm(lm1_no_units,lm1_with_units)\n",
    "anova"
   ]
  },
  {
   "cell_type": "markdown",
   "metadata": {},
   "source": [
    "## Spatial regression"
   ]
  },
  {
   "cell_type": "code",
   "execution_count": 266,
   "metadata": {},
   "outputs": [
    {
     "data": {
      "text/plain": [
       "<matplotlib.axes._subplots.AxesSubplot at 0x127639da668>"
      ]
     },
     "execution_count": 266,
     "metadata": {},
     "output_type": "execute_result"
    },
    {
     "data": {
      "image/png": "[encoded data removed]",
      "text/plain": [
       "<matplotlib.figure.Figure at 0x12763ca11d0>"
      ]
     },
     "metadata": {},
     "output_type": "display_data"
    }
   ],
   "source": [
    "data.plot()"
   ]
  },
  {
   "cell_type": "code",
   "execution_count": 267,
   "metadata": {},
   "outputs": [
    {
     "name": "stderr",
     "output_type": "stream",
     "text": [
      "C:\\Users\\sddz0\\Anaconda2\\envs\\py36\\lib\\site-packages\\pysal\\weights\\weights.py:189: UserWarning: There are 2 disconnected observations\n",
      "  warnings.warn(\"There are %d disconnected observations\" % ni)\n",
      "C:\\Users\\sddz0\\Anaconda2\\envs\\py36\\lib\\site-packages\\pysal\\weights\\weights.py:190: UserWarning: Island ids: 388, 476\n",
      "  warnings.warn(\"Island ids: %s\" % ', '.join(str(island) for island in self.islands))\n"
     ]
    }
   ],
   "source": [
    "W = pysal.weights.Queen.from_dataframe(data)"
   ]
  },
  {
   "cell_type": "code",
   "execution_count": 268,
   "metadata": {},
   "outputs": [
    {
     "data": {
      "text/plain": [
       "[388, 476]"
      ]
     },
     "execution_count": 268,
     "metadata": {},
     "output_type": "execute_result"
    }
   ],
   "source": [
    "W.islands"
   ]
  },
  {
   "cell_type": "code",
   "execution_count": 269,
   "metadata": {},
   "outputs": [],
   "source": [
    "data = data.drop(W.islands)"
   ]
  },
  {
   "cell_type": "code",
   "execution_count": 270,
   "metadata": {},
   "outputs": [],
   "source": [
    "from pysal.spreg import ols"
   ]
  },
  {
   "cell_type": "code",
   "execution_count": 271,
   "metadata": {},
   "outputs": [],
   "source": [
    "W1 = pysal.weights.Queen.from_dataframe(data)"
   ]
  },
  {
   "cell_type": "code",
   "execution_count": 272,
   "metadata": {},
   "outputs": [],
   "source": [
    "lm_no_units = smf.ols(formula='NEW_FV_T_perSQFT_x~units+'+'+'.join(data.columns[-4:])\n",
    "             ,data=data).fit()"
   ]
  },
  {
   "cell_type": "code",
   "execution_count": 273,
   "metadata": {},
   "outputs": [],
   "source": [
    "y = np.array(data['NEW_FV_T_perSQFT_x'])"
   ]
  },
  {
   "cell_type": "code",
   "execution_count": 274,
   "metadata": {},
   "outputs": [],
   "source": [
    "y.shape = (len(y),1)"
   ]
  },
  {
   "cell_type": "code",
   "execution_count": 275,
   "metadata": {},
   "outputs": [],
   "source": [
    "X = np.array(data[list(data.columns[-4:])+['units']]).T"
   ]
  },
  {
   "cell_type": "code",
   "execution_count": 276,
   "metadata": {},
   "outputs": [],
   "source": [
    "X = X.T"
   ]
  },
  {
   "cell_type": "code",
   "execution_count": 277,
   "metadata": {},
   "outputs": [
    {
     "name": "stdout",
     "output_type": "stream",
     "text": [
      "REGRESSION\n",
      "----------\n",
      "SUMMARY OF OUTPUT: ORDINARY LEAST SQUARES\n",
      "-----------------------------------------\n",
      "Data set            :        data\n",
      "Weights matrix      :        None\n",
      "Dependent Variable  :  difference                Number of Observations:         660\n",
      "Mean dependent var  :      0.1646                Number of Variables   :           6\n",
      "S.D. dependent var  :      0.0803                Degrees of Freedom    :         654\n",
      "R-squared           :      0.0987\n",
      "Adjusted R-squared  :      0.0918\n",
      "Sum squared residual:       3.826                F-statistic           :     14.3194\n",
      "Sigma-square        :       0.006                Prob(F-statistic)     :    2.55e-13\n",
      "S.E. of regression  :       0.076                Log likelihood        :     763.097\n",
      "Sigma-square ML     :       0.006                Akaike info criterion :   -1514.194\n",
      "S.E of regression ML:      0.0761                Schwarz criterion     :   -1487.241\n",
      "\n",
      "------------------------------------------------------------------------------------\n",
      "            Variable     Coefficient       Std.Error     t-Statistic     Probability\n",
      "------------------------------------------------------------------------------------\n",
      "            CONSTANT       0.1645708       0.0029844      55.1432464       0.0000000\n",
      "            NTA_Code      -0.0168791       0.0030020      -5.6226177       0.0000000\n",
      "            NTA_Name      -0.0000173       0.0030051      -0.0057678       0.9953997\n",
      "               Crime       0.0186837       0.0029862       6.2567898       0.0000000\n",
      "Income_intergration_and_poverty_level       0.0018303       0.0029908       0.6119947       0.5407539\n",
      "               units      -0.9336564       1.1634020      -0.8025225       0.4225423\n",
      "------------------------------------------------------------------------------------\n",
      "\n",
      "REGRESSION DIAGNOSTICS\n",
      "MULTICOLLINEARITY CONDITION NUMBER            1.120\n",
      "\n",
      "TEST ON NORMALITY OF ERRORS\n",
      "TEST                             DF        VALUE           PROB\n",
      "Jarque-Bera                       2         373.318           0.0000\n",
      "\n",
      "DIAGNOSTICS FOR HETEROSKEDASTICITY\n",
      "RANDOM COEFFICIENTS\n",
      "TEST                             DF        VALUE           PROB\n",
      "Breusch-Pagan test                5           4.401           0.4933\n",
      "Koenker-Bassett test              5           1.979           0.8521\n",
      "================================ END OF REPORT =====================================\n"
     ]
    }
   ],
   "source": [
    "ls = ols.OLS(y, X, name_y = 'difference', name_x = list(data.columns[-6:-2])+['units'], name_ds = 'data')\n",
    "print(ls.summary)"
   ]
  },
  {
   "cell_type": "code",
   "execution_count": 278,
   "metadata": {},
   "outputs": [
    {
     "data": {
      "text/plain": [
       "<pysal.esda.moran.Moran at 0x127642b83c8>"
      ]
     },
     "execution_count": 278,
     "metadata": {},
     "output_type": "execute_result"
    }
   ],
   "source": [
    "pysal.Moran(ls.u, W1, two_tailed=False)"
   ]
  },
  {
   "cell_type": "code",
   "execution_count": 279,
   "metadata": {},
   "outputs": [
    {
     "name": "stdout",
     "output_type": "stream",
     "text": [
      "Observed I: 0.745983991053 \n",
      "Expected I: -0.0015174506828528073 \n",
      "   p-value: 0.0\n"
     ]
    }
   ],
   "source": [
    "mi = pysal.Moran(ls.u, W1, two_tailed=False)\n",
    "print('Observed I:', mi.I, '\\nExpected I:', mi.EI, '\\n   p-value:', mi.p_norm)"
   ]
  },
  {
   "cell_type": "code",
   "execution_count": 281,
   "metadata": {},
   "outputs": [],
   "source": [
    "from pysal.spreg import ml_lag, ml_error"
   ]
  },
  {
   "cell_type": "code",
   "execution_count": 284,
   "metadata": {},
   "outputs": [
    {
     "name": "stdout",
     "output_type": "stream",
     "text": [
      "REGRESSION\n",
      "----------\n",
      "SUMMARY OF OUTPUT: MAXIMUM LIKELIHOOD SPATIAL LAG (METHOD = FULL)\n",
      "-----------------------------------------------------------------\n",
      "Data set            :        data\n",
      "Weights matrix      :          W1\n",
      "Dependent Variable  :       value                Number of Observations:         660\n",
      "Mean dependent var  :      0.1646                Number of Variables   :           7\n",
      "S.D. dependent var  :      0.0803                Degrees of Freedom    :         653\n",
      "Pseudo R-squared    :      0.8354\n",
      "Spatial Pseudo R-squared:  0.2408\n",
      "Sigma-square ML     :       0.001                Log likelihood        :    1225.531\n",
      "S.E of regression   :       0.033                Akaike info criterion :   -2437.061\n",
      "                                                 Schwarz criterion     :   -2405.615\n",
      "\n",
      "------------------------------------------------------------------------------------\n",
      "            Variable     Coefficient       Std.Error     z-Statistic     Probability\n",
      "------------------------------------------------------------------------------------\n",
      "            CONSTANT       0.0178420       0.0030586       5.8334223       0.0000000\n",
      "               Crime      -0.0046725       0.0013155      -3.5519934       0.0003823\n",
      "Income_intergration_and_poverty_level      -0.0007185       0.0013104      -0.5482571       0.5835154\n",
      " Traffic_convenience       0.0015022       0.0013060       1.1502165       0.2500547\n",
      "      New_population       0.0007346       0.0013041       0.5632937       0.5732349\n",
      "               units      -0.2467389       0.5073899      -0.4862906       0.6267612\n",
      "             W_value       0.8935724       0.0165369      54.0350791       0.0000000\n",
      "------------------------------------------------------------------------------------\n",
      "================================ END OF REPORT =====================================\n"
     ]
    },
    {
     "name": "stderr",
     "output_type": "stream",
     "text": [
      "C:\\Users\\sddz0\\Anaconda2\\envs\\py36\\lib\\site-packages\\scipy\\optimize\\_minimize.py:600: RuntimeWarning: Method 'bounded' does not support relative tolerance in x; defaulting to absolute tolerance.\n",
      "  \"defaulting to absolute tolerance.\", RuntimeWarning)\n"
     ]
    }
   ],
   "source": [
    "spat_err = ml_lag.ML_Lag(y, X, W1, \n",
    "                             name_y = 'value', name_x = list(data.columns[-4:])+['units'], \n",
    "                             name_w='W1', name_ds='data')\n",
    "print(spat_err.summary)"
   ]
  },
  {
   "cell_type": "code",
   "execution_count": null,
   "metadata": {},
   "outputs": [],
   "source": []
  }
 ],
 "metadata": {
  "kernelspec": {
   "display_name": "Python 3",
   "language": "python",
   "name": "python3"
  },
  "language_info": {
   "codemirror_mode": {
    "name": "ipython",
    "version": 3
   },
   "file_extension": ".py",
   "mimetype": "text/x-python",
   "name": "python",
   "nbconvert_exporter": "python",
   "pygments_lexer": "ipython3",
   "version": "3.6.2"
  }
 },
 "nbformat": 4,
 "nbformat_minor": 2
}
