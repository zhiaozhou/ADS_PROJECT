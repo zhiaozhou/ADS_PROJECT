{
 "cells": [
  {
   "cell_type": "code",
   "execution_count": 1,
   "metadata": {},
   "outputs": [
    {
     "name": "stdout",
     "output_type": "stream",
     "text": [
      "Populating the interactive namespace from numpy and matplotlib\n"
     ]
    },
    {
     "name": "stderr",
     "output_type": "stream",
     "text": [
      "C:\\Users\\sddz0\\Anaconda2\\envs\\py36\\lib\\site-packages\\statsmodels\\compat\\pandas.py:56: FutureWarning: The pandas.core.datetools module is deprecated and will be removed in a future version. Please use the pandas.tseries module instead.\n",
      "  from pandas.core import datetools\n"
     ]
    }
   ],
   "source": [
    "import pandas as pd\n",
    "import numpy as np\n",
    "import matplotlib.pyplot as plt\n",
    "%pylab inline\n",
    "import scipy.stats\n",
    "import statsmodels.formula.api as smf\n",
    "import statsmodels.api as sm\n",
    "import urllib\n",
    "import requests\n",
    "import zipfile\n",
    "pd.set_option('display.max_rows', 50)\n",
    "pd.set_option('display.max_columns', 50)\n",
    "from sklearn.decomposition import PCA\n",
    "import geopandas as gpd\n",
    "from sklearn.model_selection import train_test_split\n",
    "from sklearn import linear_model\n",
    "from fiona.crs import from_epsg\n",
    "import os\n",
    "from astropy.stats import median_absolute_deviation\n",
    "from sklearn.decomposition import FactorAnalysis\n",
    "from sklearn.model_selection import cross_val_score\n",
    "from factor_analyzer import FactorAnalyzer\n",
    "from sklearn import  preprocessing\n",
    "import pysal"
   ]
  },
  {
   "cell_type": "code",
   "execution_count": 2,
   "metadata": {},
   "outputs": [],
   "source": [
    "data = pd.read_csv('DATA/bk1516.csv')"
   ]
  },
  {
   "cell_type": "code",
   "execution_count": 3,
   "metadata": {},
   "outputs": [
    {
     "data": {
      "text/html": [
       "<div>\n",
       "<style>\n",
       "    .dataframe thead tr:only-child th {\n",
       "        text-align: right;\n",
       "    }\n",
       "\n",
       "    .dataframe thead th {\n",
       "        text-align: left;\n",
       "    }\n",
       "\n",
       "    .dataframe tbody tr th {\n",
       "        vertical-align: top;\n",
       "    }\n",
       "</style>\n",
       "<table border=\"1\" class=\"dataframe\">\n",
       "  <thead>\n",
       "    <tr style=\"text-align: right;\">\n",
       "      <th></th>\n",
       "      <th>Unnamed: 0</th>\n",
       "      <th>GEOID</th>\n",
       "      <th>FHVdiff</th>\n",
       "      <th>NYPDviolationDiff</th>\n",
       "      <th>NYPDmisdemeanorDiff</th>\n",
       "      <th>NYPDfelonyDiff</th>\n",
       "      <th>units</th>\n",
       "      <th>C1Diff</th>\n",
       "      <th>C2Diff</th>\n",
       "      <th>Pop_Den_16DIFF</th>\n",
       "      <th>Median_Household_Income_16DIFF</th>\n",
       "      <th>Gini_Index_16DIFF</th>\n",
       "      <th>Ave_Commute_Min_16DIFF</th>\n",
       "      <th>Unemployed_rate_16DIFF</th>\n",
       "      <th>Moved_in_4years_16DIFF</th>\n",
       "      <th>licenseDiff</th>\n",
       "    </tr>\n",
       "  </thead>\n",
       "  <tbody>\n",
       "    <tr>\n",
       "      <th>0</th>\n",
       "      <td>0</td>\n",
       "      <td>36047000100</td>\n",
       "      <td>53734.26569</td>\n",
       "      <td>10</td>\n",
       "      <td>-24</td>\n",
       "      <td>-17</td>\n",
       "      <td>106.0</td>\n",
       "      <td>268.674349</td>\n",
       "      <td>221.228009</td>\n",
       "      <td>-927.32270</td>\n",
       "      <td>16254</td>\n",
       "      <td>-0.0224</td>\n",
       "      <td>-1.119191</td>\n",
       "      <td>0.002828</td>\n",
       "      <td>0.000000</td>\n",
       "      <td>-2</td>\n",
       "    </tr>\n",
       "    <tr>\n",
       "      <th>1</th>\n",
       "      <td>1</td>\n",
       "      <td>36047000200</td>\n",
       "      <td>12981.97157</td>\n",
       "      <td>2</td>\n",
       "      <td>-45</td>\n",
       "      <td>-2</td>\n",
       "      <td>NaN</td>\n",
       "      <td>70.153287</td>\n",
       "      <td>61.517968</td>\n",
       "      <td>-2046.26377</td>\n",
       "      <td>13653</td>\n",
       "      <td>-0.0072</td>\n",
       "      <td>0.851351</td>\n",
       "      <td>-0.008858</td>\n",
       "      <td>0.000159</td>\n",
       "      <td>0</td>\n",
       "    </tr>\n",
       "    <tr>\n",
       "      <th>2</th>\n",
       "      <td>2</td>\n",
       "      <td>36047000301</td>\n",
       "      <td>50795.12162</td>\n",
       "      <td>-3</td>\n",
       "      <td>16</td>\n",
       "      <td>15</td>\n",
       "      <td>NaN</td>\n",
       "      <td>0.000000</td>\n",
       "      <td>0.000000</td>\n",
       "      <td>3144.94739</td>\n",
       "      <td>10817</td>\n",
       "      <td>0.0052</td>\n",
       "      <td>1.719752</td>\n",
       "      <td>-0.006191</td>\n",
       "      <td>0.003595</td>\n",
       "      <td>0</td>\n",
       "    </tr>\n",
       "    <tr>\n",
       "      <th>3</th>\n",
       "      <td>3</td>\n",
       "      <td>36047000501</td>\n",
       "      <td>20603.51739</td>\n",
       "      <td>2</td>\n",
       "      <td>-19</td>\n",
       "      <td>-10</td>\n",
       "      <td>62.0</td>\n",
       "      <td>0.000000</td>\n",
       "      <td>0.000000</td>\n",
       "      <td>-1917.98480</td>\n",
       "      <td>13505</td>\n",
       "      <td>-0.0156</td>\n",
       "      <td>-0.964950</td>\n",
       "      <td>-0.011073</td>\n",
       "      <td>-0.003782</td>\n",
       "      <td>0</td>\n",
       "    </tr>\n",
       "    <tr>\n",
       "      <th>4</th>\n",
       "      <td>4</td>\n",
       "      <td>36047000502</td>\n",
       "      <td>23863.10789</td>\n",
       "      <td>4</td>\n",
       "      <td>10</td>\n",
       "      <td>0</td>\n",
       "      <td>NaN</td>\n",
       "      <td>211.354329</td>\n",
       "      <td>195.842370</td>\n",
       "      <td>481.54980</td>\n",
       "      <td>8841</td>\n",
       "      <td>-0.0362</td>\n",
       "      <td>-0.019987</td>\n",
       "      <td>-0.021162</td>\n",
       "      <td>0.009077</td>\n",
       "      <td>-4</td>\n",
       "    </tr>\n",
       "  </tbody>\n",
       "</table>\n",
       "</div>"
      ],
      "text/plain": [
       "   Unnamed: 0        GEOID      FHVdiff  NYPDviolationDiff  \\\n",
       "0           0  36047000100  53734.26569                 10   \n",
       "1           1  36047000200  12981.97157                  2   \n",
       "2           2  36047000301  50795.12162                 -3   \n",
       "3           3  36047000501  20603.51739                  2   \n",
       "4           4  36047000502  23863.10789                  4   \n",
       "\n",
       "   NYPDmisdemeanorDiff  NYPDfelonyDiff  units      C1Diff      C2Diff  \\\n",
       "0                  -24             -17  106.0  268.674349  221.228009   \n",
       "1                  -45              -2    NaN   70.153287   61.517968   \n",
       "2                   16              15    NaN    0.000000    0.000000   \n",
       "3                  -19             -10   62.0    0.000000    0.000000   \n",
       "4                   10               0    NaN  211.354329  195.842370   \n",
       "\n",
       "   Pop_Den_16DIFF  Median_Household_Income_16DIFF  Gini_Index_16DIFF  \\\n",
       "0      -927.32270                           16254            -0.0224   \n",
       "1     -2046.26377                           13653            -0.0072   \n",
       "2      3144.94739                           10817             0.0052   \n",
       "3     -1917.98480                           13505            -0.0156   \n",
       "4       481.54980                            8841            -0.0362   \n",
       "\n",
       "   Ave_Commute_Min_16DIFF  Unemployed_rate_16DIFF  Moved_in_4years_16DIFF  \\\n",
       "0               -1.119191                0.002828                0.000000   \n",
       "1                0.851351               -0.008858                0.000159   \n",
       "2                1.719752               -0.006191                0.003595   \n",
       "3               -0.964950               -0.011073               -0.003782   \n",
       "4               -0.019987               -0.021162                0.009077   \n",
       "\n",
       "   licenseDiff  \n",
       "0           -2  \n",
       "1            0  \n",
       "2            0  \n",
       "3            0  \n",
       "4           -4  "
      ]
     },
     "execution_count": 3,
     "metadata": {},
     "output_type": "execute_result"
    }
   ],
   "source": [
    "data.head()"
   ]
  },
  {
   "cell_type": "code",
   "execution_count": 4,
   "metadata": {},
   "outputs": [],
   "source": [
    "data.units = data.units.replace(np.nan,0)"
   ]
  },
  {
   "cell_type": "code",
   "execution_count": 5,
   "metadata": {},
   "outputs": [],
   "source": [
    "data = data.drop(['Unnamed: 0'],axis=1)"
   ]
  },
  {
   "cell_type": "code",
   "execution_count": 6,
   "metadata": {},
   "outputs": [
    {
     "data": {
      "text/html": [
       "<div>\n",
       "<style>\n",
       "    .dataframe thead tr:only-child th {\n",
       "        text-align: right;\n",
       "    }\n",
       "\n",
       "    .dataframe thead th {\n",
       "        text-align: left;\n",
       "    }\n",
       "\n",
       "    .dataframe tbody tr th {\n",
       "        vertical-align: top;\n",
       "    }\n",
       "</style>\n",
       "<table border=\"1\" class=\"dataframe\">\n",
       "  <thead>\n",
       "    <tr style=\"text-align: right;\">\n",
       "      <th></th>\n",
       "      <th>GEOID</th>\n",
       "      <th>FHVdiff</th>\n",
       "      <th>NYPDviolationDiff</th>\n",
       "      <th>NYPDmisdemeanorDiff</th>\n",
       "      <th>NYPDfelonyDiff</th>\n",
       "      <th>units</th>\n",
       "      <th>C1Diff</th>\n",
       "      <th>C2Diff</th>\n",
       "      <th>Pop_Den_16DIFF</th>\n",
       "      <th>Median_Household_Income_16DIFF</th>\n",
       "      <th>Gini_Index_16DIFF</th>\n",
       "      <th>Ave_Commute_Min_16DIFF</th>\n",
       "      <th>Unemployed_rate_16DIFF</th>\n",
       "      <th>Moved_in_4years_16DIFF</th>\n",
       "      <th>licenseDiff</th>\n",
       "    </tr>\n",
       "  </thead>\n",
       "  <tbody>\n",
       "    <tr>\n",
       "      <th>0</th>\n",
       "      <td>36047000100</td>\n",
       "      <td>53734.26569</td>\n",
       "      <td>10</td>\n",
       "      <td>-24</td>\n",
       "      <td>-17</td>\n",
       "      <td>106.0</td>\n",
       "      <td>268.674349</td>\n",
       "      <td>221.228009</td>\n",
       "      <td>-927.32270</td>\n",
       "      <td>16254</td>\n",
       "      <td>-0.0224</td>\n",
       "      <td>-1.119191</td>\n",
       "      <td>0.002828</td>\n",
       "      <td>0.000000</td>\n",
       "      <td>-2</td>\n",
       "    </tr>\n",
       "    <tr>\n",
       "      <th>1</th>\n",
       "      <td>36047000200</td>\n",
       "      <td>12981.97157</td>\n",
       "      <td>2</td>\n",
       "      <td>-45</td>\n",
       "      <td>-2</td>\n",
       "      <td>0.0</td>\n",
       "      <td>70.153287</td>\n",
       "      <td>61.517968</td>\n",
       "      <td>-2046.26377</td>\n",
       "      <td>13653</td>\n",
       "      <td>-0.0072</td>\n",
       "      <td>0.851351</td>\n",
       "      <td>-0.008858</td>\n",
       "      <td>0.000159</td>\n",
       "      <td>0</td>\n",
       "    </tr>\n",
       "    <tr>\n",
       "      <th>2</th>\n",
       "      <td>36047000301</td>\n",
       "      <td>50795.12162</td>\n",
       "      <td>-3</td>\n",
       "      <td>16</td>\n",
       "      <td>15</td>\n",
       "      <td>0.0</td>\n",
       "      <td>0.000000</td>\n",
       "      <td>0.000000</td>\n",
       "      <td>3144.94739</td>\n",
       "      <td>10817</td>\n",
       "      <td>0.0052</td>\n",
       "      <td>1.719752</td>\n",
       "      <td>-0.006191</td>\n",
       "      <td>0.003595</td>\n",
       "      <td>0</td>\n",
       "    </tr>\n",
       "  </tbody>\n",
       "</table>\n",
       "</div>"
      ],
      "text/plain": [
       "         GEOID      FHVdiff  NYPDviolationDiff  NYPDmisdemeanorDiff  \\\n",
       "0  36047000100  53734.26569                 10                  -24   \n",
       "1  36047000200  12981.97157                  2                  -45   \n",
       "2  36047000301  50795.12162                 -3                   16   \n",
       "\n",
       "   NYPDfelonyDiff  units      C1Diff      C2Diff  Pop_Den_16DIFF  \\\n",
       "0             -17  106.0  268.674349  221.228009      -927.32270   \n",
       "1              -2    0.0   70.153287   61.517968     -2046.26377   \n",
       "2              15    0.0    0.000000    0.000000      3144.94739   \n",
       "\n",
       "   Median_Household_Income_16DIFF  Gini_Index_16DIFF  Ave_Commute_Min_16DIFF  \\\n",
       "0                           16254            -0.0224               -1.119191   \n",
       "1                           13653            -0.0072                0.851351   \n",
       "2                           10817             0.0052                1.719752   \n",
       "\n",
       "   Unemployed_rate_16DIFF  Moved_in_4years_16DIFF  licenseDiff  \n",
       "0                0.002828                0.000000           -2  \n",
       "1               -0.008858                0.000159            0  \n",
       "2               -0.006191                0.003595            0  "
      ]
     },
     "execution_count": 6,
     "metadata": {},
     "output_type": "execute_result"
    }
   ],
   "source": [
    "data.head(3)"
   ]
  },
  {
   "cell_type": "code",
   "execution_count": 7,
   "metadata": {},
   "outputs": [],
   "source": [
    "TRACT = gpd.GeoDataFrame.from_file('DATA/gz_2010_36_140_00_500k/gz_2010_36_140_00_500k.shp')"
   ]
  },
  {
   "cell_type": "code",
   "execution_count": 8,
   "metadata": {},
   "outputs": [],
   "source": [
    "TRACT.GEO_ID = TRACT.GEO_ID.str[9:]"
   ]
  },
  {
   "cell_type": "code",
   "execution_count": 9,
   "metadata": {},
   "outputs": [],
   "source": [
    "data.GEOID = data.GEOID.astype('str')"
   ]
  },
  {
   "cell_type": "code",
   "execution_count": 10,
   "metadata": {},
   "outputs": [],
   "source": [
    "data = pd.merge(TRACT,data,left_on='GEO_ID',right_on='GEOID')"
   ]
  },
  {
   "cell_type": "code",
   "execution_count": 11,
   "metadata": {},
   "outputs": [],
   "source": [
    "data.TRACT = data.TRACT.astype('int64')"
   ]
  },
  {
   "cell_type": "code",
   "execution_count": 12,
   "metadata": {},
   "outputs": [],
   "source": [
    "NTA = pd.read_csv('DATA/2010CensusTract_PUMA_NTA(1).csv')"
   ]
  },
  {
   "cell_type": "code",
   "execution_count": 13,
   "metadata": {},
   "outputs": [],
   "source": [
    "NTA = NTA[NTA['Borough'] == 'Brooklyn']"
   ]
  },
  {
   "cell_type": "code",
   "execution_count": 14,
   "metadata": {
    "scrolled": false
   },
   "outputs": [],
   "source": [
    "data = pd.merge(data,NTA,left_on='TRACT',right_on='2010CensusTract')"
   ]
  },
  {
   "cell_type": "code",
   "execution_count": 16,
   "metadata": {
    "scrolled": true
   },
   "outputs": [
    {
     "data": {
      "text/plain": [
       "26933.47539"
      ]
     },
     "execution_count": 16,
     "metadata": {},
     "output_type": "execute_result"
    }
   ],
   "source": [
    "data.groupby('PUMA').median()['FHVdiff'][4001]"
   ]
  },
  {
   "cell_type": "code",
   "execution_count": 17,
   "metadata": {
    "scrolled": false
   },
   "outputs": [],
   "source": [
    "def median_interpolation(data,columns):\n",
    "    for column in columns:\n",
    "        for i in range(len(data.index)):\n",
    "            if np.isnan(data[column][i]):\n",
    "                data[column][i] = data.groupby('PUMA').median()[column][data['PUMA'][i]] \n",
    "    return data"
   ]
  },
  {
   "cell_type": "code",
   "execution_count": 24,
   "metadata": {},
   "outputs": [
    {
     "data": {
      "text/plain": [
       "Index(['FHVdiff', 'NYPDviolationDiff', 'NYPDmisdemeanorDiff', 'NYPDfelonyDiff',\n",
       "       'units', 'C1Diff', 'C2Diff', 'Pop_Den_16DIFF',\n",
       "       'Median_Household_Income_16DIFF', 'Gini_Index_16DIFF',\n",
       "       'Ave_Commute_Min_16DIFF', 'Unemployed_rate_16DIFF',\n",
       "       'Moved_in_4years_16DIFF', 'licenseDiff'],\n",
       "      dtype='object')"
      ]
     },
     "execution_count": 24,
     "metadata": {},
     "output_type": "execute_result"
    }
   ],
   "source": [
    "data.columns[9:23]"
   ]
  },
  {
   "cell_type": "code",
   "execution_count": 25,
   "metadata": {},
   "outputs": [],
   "source": [
    "data = median_interpolation(data,data.columns[9:23])"
   ]
  },
  {
   "cell_type": "code",
   "execution_count": 26,
   "metadata": {},
   "outputs": [
    {
     "data": {
      "text/plain": [
       "GEO_ID                            0\n",
       "STATE                             0\n",
       "COUNTY                            0\n",
       "TRACT                             0\n",
       "NAME                              0\n",
       "LSAD                              0\n",
       "CENSUSAREA                        0\n",
       "geometry                          0\n",
       "GEOID                             0\n",
       "FHVdiff                           0\n",
       "NYPDviolationDiff                 0\n",
       "NYPDmisdemeanorDiff               0\n",
       "NYPDfelonyDiff                    0\n",
       "units                             0\n",
       "C1Diff                            0\n",
       "C2Diff                            0\n",
       "Pop_Den_16DIFF                    0\n",
       "Median_Household_Income_16DIFF    0\n",
       "Gini_Index_16DIFF                 0\n",
       "Ave_Commute_Min_16DIFF            0\n",
       "Unemployed_rate_16DIFF            0\n",
       "Moved_in_4years_16DIFF            0\n",
       "licenseDiff                       0\n",
       "Borough                           0\n",
       "2010CensusTract                   0\n",
       "PUMA                              0\n",
       "NTA_Code                          0\n",
       "NTA_Name                          0\n",
       "dtype: int64"
      ]
     },
     "execution_count": 26,
     "metadata": {},
     "output_type": "execute_result"
    }
   ],
   "source": [
    "data.isnull().sum()"
   ]
  },
  {
   "cell_type": "markdown",
   "metadata": {},
   "source": [
    "## Normalization"
   ]
  },
  {
   "cell_type": "code",
   "execution_count": 27,
   "metadata": {},
   "outputs": [
    {
     "data": {
      "text/plain": [
       "Index(['FHVdiff', 'NYPDviolationDiff', 'NYPDmisdemeanorDiff', 'NYPDfelonyDiff',\n",
       "       'units', 'C1Diff', 'C2Diff', 'Pop_Den_16DIFF',\n",
       "       'Median_Household_Income_16DIFF', 'Gini_Index_16DIFF',\n",
       "       'Ave_Commute_Min_16DIFF', 'Unemployed_rate_16DIFF',\n",
       "       'Moved_in_4years_16DIFF', 'licenseDiff'],\n",
       "      dtype='object')"
      ]
     },
     "execution_count": 27,
     "metadata": {},
     "output_type": "execute_result"
    }
   ],
   "source": [
    "data.columns[9:23]"
   ]
  },
  {
   "cell_type": "code",
   "execution_count": 28,
   "metadata": {},
   "outputs": [],
   "source": [
    "def norm(data,columns):\n",
    "    for x in columns:\n",
    "        data[x] = (data[x]-np.min(data[x]))/(np.max(data[x])-np.min(data[x]))\n",
    "    return data"
   ]
  },
  {
   "cell_type": "code",
   "execution_count": 29,
   "metadata": {},
   "outputs": [],
   "source": [
    "data = norm(data,data.columns[9:23])"
   ]
  },
  {
   "cell_type": "code",
   "execution_count": 30,
   "metadata": {},
   "outputs": [
    {
     "data": {
      "text/html": [
       "<div>\n",
       "<style>\n",
       "    .dataframe thead tr:only-child th {\n",
       "        text-align: right;\n",
       "    }\n",
       "\n",
       "    .dataframe thead th {\n",
       "        text-align: left;\n",
       "    }\n",
       "\n",
       "    .dataframe tbody tr th {\n",
       "        vertical-align: top;\n",
       "    }\n",
       "</style>\n",
       "<table border=\"1\" class=\"dataframe\">\n",
       "  <thead>\n",
       "    <tr style=\"text-align: right;\">\n",
       "      <th></th>\n",
       "      <th>GEO_ID</th>\n",
       "      <th>STATE</th>\n",
       "      <th>COUNTY</th>\n",
       "      <th>TRACT</th>\n",
       "      <th>NAME</th>\n",
       "      <th>LSAD</th>\n",
       "      <th>CENSUSAREA</th>\n",
       "      <th>geometry</th>\n",
       "      <th>GEOID</th>\n",
       "      <th>FHVdiff</th>\n",
       "      <th>NYPDviolationDiff</th>\n",
       "      <th>NYPDmisdemeanorDiff</th>\n",
       "      <th>NYPDfelonyDiff</th>\n",
       "      <th>units</th>\n",
       "      <th>C1Diff</th>\n",
       "      <th>C2Diff</th>\n",
       "      <th>Pop_Den_16DIFF</th>\n",
       "      <th>Median_Household_Income_16DIFF</th>\n",
       "      <th>Gini_Index_16DIFF</th>\n",
       "      <th>Ave_Commute_Min_16DIFF</th>\n",
       "      <th>Unemployed_rate_16DIFF</th>\n",
       "      <th>Moved_in_4years_16DIFF</th>\n",
       "      <th>licenseDiff</th>\n",
       "      <th>Borough</th>\n",
       "      <th>2010CensusTract</th>\n",
       "      <th>PUMA</th>\n",
       "      <th>NTA_Code</th>\n",
       "      <th>NTA_Name</th>\n",
       "    </tr>\n",
       "  </thead>\n",
       "  <tbody>\n",
       "    <tr>\n",
       "      <th>0</th>\n",
       "      <td>36047010400</td>\n",
       "      <td>36</td>\n",
       "      <td>047</td>\n",
       "      <td>10400</td>\n",
       "      <td>104</td>\n",
       "      <td>Tract</td>\n",
       "      <td>0.059</td>\n",
       "      <td>POLYGON ((-74.01115399999999 40.637404, -74.01...</td>\n",
       "      <td>36047010400</td>\n",
       "      <td>0.021357</td>\n",
       "      <td>0.633803</td>\n",
       "      <td>0.661538</td>\n",
       "      <td>0.735294</td>\n",
       "      <td>0.0</td>\n",
       "      <td>0.146359</td>\n",
       "      <td>0.277246</td>\n",
       "      <td>0.416344</td>\n",
       "      <td>0.512024</td>\n",
       "      <td>0.420905</td>\n",
       "      <td>0.4917</td>\n",
       "      <td>0.373334</td>\n",
       "      <td>0.50664</td>\n",
       "      <td>0.846154</td>\n",
       "      <td>Brooklyn</td>\n",
       "      <td>10400</td>\n",
       "      <td>4012</td>\n",
       "      <td>BK34</td>\n",
       "      <td>Sunset Park East</td>\n",
       "    </tr>\n",
       "  </tbody>\n",
       "</table>\n",
       "</div>"
      ],
      "text/plain": [
       "        GEO_ID STATE COUNTY  TRACT NAME   LSAD  CENSUSAREA  \\\n",
       "0  36047010400    36    047  10400  104  Tract       0.059   \n",
       "\n",
       "                                            geometry        GEOID   FHVdiff  \\\n",
       "0  POLYGON ((-74.01115399999999 40.637404, -74.01...  36047010400  0.021357   \n",
       "\n",
       "   NYPDviolationDiff  NYPDmisdemeanorDiff  NYPDfelonyDiff  units    C1Diff  \\\n",
       "0           0.633803             0.661538        0.735294    0.0  0.146359   \n",
       "\n",
       "     C2Diff  Pop_Den_16DIFF  Median_Household_Income_16DIFF  \\\n",
       "0  0.277246        0.416344                        0.512024   \n",
       "\n",
       "   Gini_Index_16DIFF  Ave_Commute_Min_16DIFF  Unemployed_rate_16DIFF  \\\n",
       "0           0.420905                  0.4917                0.373334   \n",
       "\n",
       "   Moved_in_4years_16DIFF  licenseDiff   Borough  2010CensusTract  PUMA  \\\n",
       "0                 0.50664     0.846154  Brooklyn            10400  4012   \n",
       "\n",
       "  NTA_Code          NTA_Name  \n",
       "0     BK34  Sunset Park East  "
      ]
     },
     "execution_count": 30,
     "metadata": {},
     "output_type": "execute_result"
    }
   ],
   "source": [
    "data.head(1)"
   ]
  },
  {
   "cell_type": "markdown",
   "metadata": {},
   "source": [
    "## Outliers"
   ]
  },
  {
   "cell_type": "code",
   "execution_count": 31,
   "metadata": {},
   "outputs": [],
   "source": [
    "\n",
    "def clean(data,columns):\n",
    "    for x in columns:\n",
    "        #data= data[(np.abs(data[x]-np.median(data[x]))/(np.median(np.abs(data[x]-np.median(data[x])))/0.6745)) < 2.24]\n",
    "        data = data[(data[x]<np.mean(data[x])+4*np.std(data[x]))&(data[x]>np.mean(data[x])-4*np.std(data[x]))]\n",
    "    return data"
   ]
  },
  {
   "cell_type": "code",
   "execution_count": 32,
   "metadata": {},
   "outputs": [],
   "source": [
    "data = clean(data,data.columns[9:23])"
   ]
  },
  {
   "cell_type": "code",
   "execution_count": 33,
   "metadata": {},
   "outputs": [
    {
     "data": {
      "text/plain": [
       "(697, 28)"
      ]
     },
     "execution_count": 33,
     "metadata": {},
     "output_type": "execute_result"
    }
   ],
   "source": [
    "data.shape"
   ]
  },
  {
   "cell_type": "code",
   "execution_count": 34,
   "metadata": {},
   "outputs": [
    {
     "data": {
      "text/plain": [
       "<matplotlib.axes._subplots.AxesSubplot at 0x1cd85b3be80>"
      ]
     },
     "execution_count": 34,
     "metadata": {},
     "output_type": "execute_result"
    },
    {
     "data": {
      "image/png": "[encoded data removed]",
      "text/plain": [
       "<matplotlib.figure.Figure at 0x1cd85b39be0>"
      ]
     },
     "metadata": {},
     "output_type": "display_data"
    }
   ],
   "source": [
    "data.plot()"
   ]
  },
  {
   "cell_type": "code",
   "execution_count": 35,
   "metadata": {},
   "outputs": [
    {
     "data": {
      "text/plain": [
       "Index(['FHVdiff', 'NYPDviolationDiff', 'NYPDmisdemeanorDiff', 'NYPDfelonyDiff',\n",
       "       'units', 'C1Diff', 'C2Diff', 'Pop_Den_16DIFF',\n",
       "       'Median_Household_Income_16DIFF', 'Gini_Index_16DIFF',\n",
       "       'Ave_Commute_Min_16DIFF', 'Unemployed_rate_16DIFF',\n",
       "       'Moved_in_4years_16DIFF', 'licenseDiff'],\n",
       "      dtype='object')"
      ]
     },
     "execution_count": 35,
     "metadata": {},
     "output_type": "execute_result"
    }
   ],
   "source": [
    "data.columns[9:23]"
   ]
  },
  {
   "cell_type": "markdown",
   "metadata": {},
   "source": [
    "## PCA"
   ]
  },
  {
   "cell_type": "code",
   "execution_count": 36,
   "metadata": {},
   "outputs": [],
   "source": [
    "X_num = data[data.columns[9:23]].drop(['units', 'C1Diff', 'C2Diff'],axis=1)\n",
    "pca = PCA(0.90)\n",
    "Xproj = pca.fit_transform(X_num)"
   ]
  },
  {
   "cell_type": "code",
   "execution_count": 37,
   "metadata": {},
   "outputs": [
    {
     "data": {
      "text/plain": [
       "array([ 0.21314695,  0.15565868,  0.13817229,  0.12700581,  0.09367777,\n",
       "        0.09097759,  0.06723054,  0.04819477])"
      ]
     },
     "execution_count": 37,
     "metadata": {},
     "output_type": "execute_result"
    }
   ],
   "source": [
    "pca.explained_variance_ratio_"
   ]
  },
  {
   "cell_type": "code",
   "execution_count": 38,
   "metadata": {
    "scrolled": false
   },
   "outputs": [
    {
     "data": {
      "text/html": [
       "<div>\n",
       "<style>\n",
       "    .dataframe thead tr:only-child th {\n",
       "        text-align: right;\n",
       "    }\n",
       "\n",
       "    .dataframe thead th {\n",
       "        text-align: left;\n",
       "    }\n",
       "\n",
       "    .dataframe tbody tr th {\n",
       "        vertical-align: top;\n",
       "    }\n",
       "</style>\n",
       "<table border=\"1\" class=\"dataframe\">\n",
       "  <thead>\n",
       "    <tr style=\"text-align: right;\">\n",
       "      <th></th>\n",
       "      <th>FHVdiff</th>\n",
       "      <th>NYPDviolationDiff</th>\n",
       "      <th>NYPDmisdemeanorDiff</th>\n",
       "      <th>NYPDfelonyDiff</th>\n",
       "      <th>Pop_Den_16DIFF</th>\n",
       "      <th>Median_Household_Income_16DIFF</th>\n",
       "      <th>Gini_Index_16DIFF</th>\n",
       "      <th>Ave_Commute_Min_16DIFF</th>\n",
       "      <th>Unemployed_rate_16DIFF</th>\n",
       "      <th>Moved_in_4years_16DIFF</th>\n",
       "      <th>licenseDiff</th>\n",
       "    </tr>\n",
       "  </thead>\n",
       "  <tbody>\n",
       "    <tr>\n",
       "      <th>0</th>\n",
       "      <td>0.028093</td>\n",
       "      <td>0.068579</td>\n",
       "      <td>0.635877</td>\n",
       "      <td>0.698005</td>\n",
       "      <td>0.008364</td>\n",
       "      <td>0.076804</td>\n",
       "      <td>-0.009742</td>\n",
       "      <td>-0.103286</td>\n",
       "      <td>-0.073201</td>\n",
       "      <td>-0.009154</td>\n",
       "      <td>0.284223</td>\n",
       "    </tr>\n",
       "    <tr>\n",
       "      <th>1</th>\n",
       "      <td>-0.013016</td>\n",
       "      <td>-0.615021</td>\n",
       "      <td>-0.126723</td>\n",
       "      <td>-0.129761</td>\n",
       "      <td>0.335607</td>\n",
       "      <td>0.144291</td>\n",
       "      <td>-0.044817</td>\n",
       "      <td>-0.064409</td>\n",
       "      <td>-0.034641</td>\n",
       "      <td>0.002963</td>\n",
       "      <td>0.669228</td>\n",
       "    </tr>\n",
       "    <tr>\n",
       "      <th>2</th>\n",
       "      <td>0.027984</td>\n",
       "      <td>-0.315769</td>\n",
       "      <td>0.129874</td>\n",
       "      <td>0.116727</td>\n",
       "      <td>0.608387</td>\n",
       "      <td>0.305750</td>\n",
       "      <td>-0.114676</td>\n",
       "      <td>-0.027061</td>\n",
       "      <td>-0.027109</td>\n",
       "      <td>-0.001539</td>\n",
       "      <td>-0.625121</td>\n",
       "    </tr>\n",
       "    <tr>\n",
       "      <th>3</th>\n",
       "      <td>-0.076413</td>\n",
       "      <td>-0.711718</td>\n",
       "      <td>0.119985</td>\n",
       "      <td>0.137788</td>\n",
       "      <td>-0.495497</td>\n",
       "      <td>-0.327795</td>\n",
       "      <td>0.123876</td>\n",
       "      <td>0.094752</td>\n",
       "      <td>0.073223</td>\n",
       "      <td>0.029812</td>\n",
       "      <td>-0.265886</td>\n",
       "    </tr>\n",
       "    <tr>\n",
       "      <th>4</th>\n",
       "      <td>0.081724</td>\n",
       "      <td>-0.084412</td>\n",
       "      <td>-0.046755</td>\n",
       "      <td>-0.048288</td>\n",
       "      <td>-0.500040</td>\n",
       "      <td>0.687602</td>\n",
       "      <td>-0.395193</td>\n",
       "      <td>-0.013329</td>\n",
       "      <td>-0.318113</td>\n",
       "      <td>0.000609</td>\n",
       "      <td>-0.035909</td>\n",
       "    </tr>\n",
       "    <tr>\n",
       "      <th>5</th>\n",
       "      <td>-0.002898</td>\n",
       "      <td>-0.026118</td>\n",
       "      <td>-0.051254</td>\n",
       "      <td>-0.052928</td>\n",
       "      <td>-0.081821</td>\n",
       "      <td>-0.058897</td>\n",
       "      <td>0.039019</td>\n",
       "      <td>-0.987387</td>\n",
       "      <td>0.025152</td>\n",
       "      <td>0.000634</td>\n",
       "      <td>-0.081414</td>\n",
       "    </tr>\n",
       "    <tr>\n",
       "      <th>6</th>\n",
       "      <td>0.050765</td>\n",
       "      <td>-0.006362</td>\n",
       "      <td>-0.009626</td>\n",
       "      <td>-0.041509</td>\n",
       "      <td>0.099166</td>\n",
       "      <td>-0.310698</td>\n",
       "      <td>0.108019</td>\n",
       "      <td>-0.003320</td>\n",
       "      <td>-0.934777</td>\n",
       "      <td>-0.047032</td>\n",
       "      <td>-0.038735</td>\n",
       "    </tr>\n",
       "    <tr>\n",
       "      <th>7</th>\n",
       "      <td>0.349270</td>\n",
       "      <td>-0.022155</td>\n",
       "      <td>-0.026315</td>\n",
       "      <td>-0.011516</td>\n",
       "      <td>-0.066353</td>\n",
       "      <td>0.385609</td>\n",
       "      <td>0.850191</td>\n",
       "      <td>0.018272</td>\n",
       "      <td>-0.016500</td>\n",
       "      <td>-0.001901</td>\n",
       "      <td>-0.012800</td>\n",
       "    </tr>\n",
       "  </tbody>\n",
       "</table>\n",
       "</div>"
      ],
      "text/plain": [
       "    FHVdiff  NYPDviolationDiff  NYPDmisdemeanorDiff  NYPDfelonyDiff  \\\n",
       "0  0.028093           0.068579             0.635877        0.698005   \n",
       "1 -0.013016          -0.615021            -0.126723       -0.129761   \n",
       "2  0.027984          -0.315769             0.129874        0.116727   \n",
       "3 -0.076413          -0.711718             0.119985        0.137788   \n",
       "4  0.081724          -0.084412            -0.046755       -0.048288   \n",
       "5 -0.002898          -0.026118            -0.051254       -0.052928   \n",
       "6  0.050765          -0.006362            -0.009626       -0.041509   \n",
       "7  0.349270          -0.022155            -0.026315       -0.011516   \n",
       "\n",
       "   Pop_Den_16DIFF  Median_Household_Income_16DIFF  Gini_Index_16DIFF  \\\n",
       "0        0.008364                        0.076804          -0.009742   \n",
       "1        0.335607                        0.144291          -0.044817   \n",
       "2        0.608387                        0.305750          -0.114676   \n",
       "3       -0.495497                       -0.327795           0.123876   \n",
       "4       -0.500040                        0.687602          -0.395193   \n",
       "5       -0.081821                       -0.058897           0.039019   \n",
       "6        0.099166                       -0.310698           0.108019   \n",
       "7       -0.066353                        0.385609           0.850191   \n",
       "\n",
       "   Ave_Commute_Min_16DIFF  Unemployed_rate_16DIFF  Moved_in_4years_16DIFF  \\\n",
       "0               -0.103286               -0.073201               -0.009154   \n",
       "1               -0.064409               -0.034641                0.002963   \n",
       "2               -0.027061               -0.027109               -0.001539   \n",
       "3                0.094752                0.073223                0.029812   \n",
       "4               -0.013329               -0.318113                0.000609   \n",
       "5               -0.987387                0.025152                0.000634   \n",
       "6               -0.003320               -0.934777               -0.047032   \n",
       "7                0.018272               -0.016500               -0.001901   \n",
       "\n",
       "   licenseDiff  \n",
       "0     0.284223  \n",
       "1     0.669228  \n",
       "2    -0.625121  \n",
       "3    -0.265886  \n",
       "4    -0.035909  \n",
       "5    -0.081414  \n",
       "6    -0.038735  \n",
       "7    -0.012800  "
      ]
     },
     "execution_count": 38,
     "metadata": {},
     "output_type": "execute_result"
    }
   ],
   "source": [
    "components_explanation = pd.DataFrame(pca.components_,columns = X_num.columns)\n",
    "components_explanation"
   ]
  },
  {
   "cell_type": "markdown",
   "metadata": {},
   "source": [
    "## FA"
   ]
  },
  {
   "cell_type": "code",
   "execution_count": 39,
   "metadata": {},
   "outputs": [],
   "source": [
    "fa = FactorAnalyzer()"
   ]
  },
  {
   "cell_type": "code",
   "execution_count": 40,
   "metadata": {},
   "outputs": [],
   "source": [
    "fa.analyze(X_num,5,rotation='varimax')"
   ]
  },
  {
   "cell_type": "code",
   "execution_count": 41,
   "metadata": {},
   "outputs": [
    {
     "data": {
      "text/html": [
       "<div>\n",
       "<style>\n",
       "    .dataframe thead tr:only-child th {\n",
       "        text-align: right;\n",
       "    }\n",
       "\n",
       "    .dataframe thead th {\n",
       "        text-align: left;\n",
       "    }\n",
       "\n",
       "    .dataframe tbody tr th {\n",
       "        vertical-align: top;\n",
       "    }\n",
       "</style>\n",
       "<table border=\"1\" class=\"dataframe\">\n",
       "  <thead>\n",
       "    <tr style=\"text-align: right;\">\n",
       "      <th></th>\n",
       "      <th>Communalities</th>\n",
       "    </tr>\n",
       "  </thead>\n",
       "  <tbody>\n",
       "    <tr>\n",
       "      <th>FHVdiff</th>\n",
       "      <td>0.106010</td>\n",
       "    </tr>\n",
       "    <tr>\n",
       "      <th>NYPDviolationDiff</th>\n",
       "      <td>0.061073</td>\n",
       "    </tr>\n",
       "    <tr>\n",
       "      <th>NYPDmisdemeanorDiff</th>\n",
       "      <td>0.798952</td>\n",
       "    </tr>\n",
       "    <tr>\n",
       "      <th>NYPDfelonyDiff</th>\n",
       "      <td>0.803219</td>\n",
       "    </tr>\n",
       "    <tr>\n",
       "      <th>Pop_Den_16DIFF</th>\n",
       "      <td>0.107393</td>\n",
       "    </tr>\n",
       "    <tr>\n",
       "      <th>Median_Household_Income_16DIFF</th>\n",
       "      <td>0.409195</td>\n",
       "    </tr>\n",
       "    <tr>\n",
       "      <th>Gini_Index_16DIFF</th>\n",
       "      <td>0.250129</td>\n",
       "    </tr>\n",
       "    <tr>\n",
       "      <th>Ave_Commute_Min_16DIFF</th>\n",
       "      <td>0.024140</td>\n",
       "    </tr>\n",
       "    <tr>\n",
       "      <th>Unemployed_rate_16DIFF</th>\n",
       "      <td>0.057464</td>\n",
       "    </tr>\n",
       "    <tr>\n",
       "      <th>Moved_in_4years_16DIFF</th>\n",
       "      <td>0.031677</td>\n",
       "    </tr>\n",
       "    <tr>\n",
       "      <th>licenseDiff</th>\n",
       "      <td>0.040555</td>\n",
       "    </tr>\n",
       "  </tbody>\n",
       "</table>\n",
       "</div>"
      ],
      "text/plain": [
       "                                Communalities\n",
       "FHVdiff                              0.106010\n",
       "NYPDviolationDiff                    0.061073\n",
       "NYPDmisdemeanorDiff                  0.798952\n",
       "NYPDfelonyDiff                       0.803219\n",
       "Pop_Den_16DIFF                       0.107393\n",
       "Median_Household_Income_16DIFF       0.409195\n",
       "Gini_Index_16DIFF                    0.250129\n",
       "Ave_Commute_Min_16DIFF               0.024140\n",
       "Unemployed_rate_16DIFF               0.057464\n",
       "Moved_in_4years_16DIFF               0.031677\n",
       "licenseDiff                          0.040555"
      ]
     },
     "execution_count": 41,
     "metadata": {},
     "output_type": "execute_result"
    }
   ],
   "source": [
    "fa.get_communalities()"
   ]
  },
  {
   "cell_type": "code",
   "execution_count": 42,
   "metadata": {},
   "outputs": [
    {
     "data": {
      "text/html": [
       "<div>\n",
       "<style>\n",
       "    .dataframe thead tr:only-child th {\n",
       "        text-align: right;\n",
       "    }\n",
       "\n",
       "    .dataframe thead th {\n",
       "        text-align: left;\n",
       "    }\n",
       "\n",
       "    .dataframe tbody tr th {\n",
       "        vertical-align: top;\n",
       "    }\n",
       "</style>\n",
       "<table border=\"1\" class=\"dataframe\">\n",
       "  <thead>\n",
       "    <tr style=\"text-align: right;\">\n",
       "      <th></th>\n",
       "      <th>Factor1</th>\n",
       "      <th>Factor2</th>\n",
       "      <th>Factor3</th>\n",
       "      <th>Factor4</th>\n",
       "      <th>Factor5</th>\n",
       "    </tr>\n",
       "  </thead>\n",
       "  <tbody>\n",
       "    <tr>\n",
       "      <th>FHVdiff</th>\n",
       "      <td>-0.013484</td>\n",
       "      <td>-0.039524</td>\n",
       "      <td>-0.317200</td>\n",
       "      <td>-0.060420</td>\n",
       "      <td>0.0</td>\n",
       "    </tr>\n",
       "    <tr>\n",
       "      <th>NYPDviolationDiff</th>\n",
       "      <td>-0.053916</td>\n",
       "      <td>0.023053</td>\n",
       "      <td>-0.167673</td>\n",
       "      <td>0.171816</td>\n",
       "      <td>0.0</td>\n",
       "    </tr>\n",
       "    <tr>\n",
       "      <th>NYPDmisdemeanorDiff</th>\n",
       "      <td>-0.882171</td>\n",
       "      <td>-0.018092</td>\n",
       "      <td>-0.094488</td>\n",
       "      <td>-0.107099</td>\n",
       "      <td>0.0</td>\n",
       "    </tr>\n",
       "    <tr>\n",
       "      <th>NYPDfelonyDiff</th>\n",
       "      <td>-0.886250</td>\n",
       "      <td>-0.006024</td>\n",
       "      <td>-0.068858</td>\n",
       "      <td>-0.114029</td>\n",
       "      <td>0.0</td>\n",
       "    </tr>\n",
       "    <tr>\n",
       "      <th>Pop_Den_16DIFF</th>\n",
       "      <td>0.052838</td>\n",
       "      <td>-0.138090</td>\n",
       "      <td>-0.051771</td>\n",
       "      <td>-0.287840</td>\n",
       "      <td>0.0</td>\n",
       "    </tr>\n",
       "    <tr>\n",
       "      <th>Median_Household_Income_16DIFF</th>\n",
       "      <td>-0.001541</td>\n",
       "      <td>-0.556508</td>\n",
       "      <td>-0.221890</td>\n",
       "      <td>-0.224180</td>\n",
       "      <td>0.0</td>\n",
       "    </tr>\n",
       "    <tr>\n",
       "      <th>Gini_Index_16DIFF</th>\n",
       "      <td>-0.001528</td>\n",
       "      <td>0.498549</td>\n",
       "      <td>-0.033039</td>\n",
       "      <td>-0.021990</td>\n",
       "      <td>0.0</td>\n",
       "    </tr>\n",
       "    <tr>\n",
       "      <th>Ave_Commute_Min_16DIFF</th>\n",
       "      <td>0.065510</td>\n",
       "      <td>0.002814</td>\n",
       "      <td>0.042438</td>\n",
       "      <td>0.134310</td>\n",
       "      <td>0.0</td>\n",
       "    </tr>\n",
       "    <tr>\n",
       "      <th>Unemployed_rate_16DIFF</th>\n",
       "      <td>0.057497</td>\n",
       "      <td>0.130466</td>\n",
       "      <td>0.191718</td>\n",
       "      <td>0.019511</td>\n",
       "      <td>0.0</td>\n",
       "    </tr>\n",
       "    <tr>\n",
       "      <th>Moved_in_4years_16DIFF</th>\n",
       "      <td>0.004592</td>\n",
       "      <td>-0.003877</td>\n",
       "      <td>0.177674</td>\n",
       "      <td>0.008540</td>\n",
       "      <td>0.0</td>\n",
       "    </tr>\n",
       "    <tr>\n",
       "      <th>licenseDiff</th>\n",
       "      <td>-0.091378</td>\n",
       "      <td>0.015232</td>\n",
       "      <td>0.002092</td>\n",
       "      <td>-0.178797</td>\n",
       "      <td>0.0</td>\n",
       "    </tr>\n",
       "  </tbody>\n",
       "</table>\n",
       "</div>"
      ],
      "text/plain": [
       "                                 Factor1   Factor2   Factor3   Factor4  \\\n",
       "FHVdiff                        -0.013484 -0.039524 -0.317200 -0.060420   \n",
       "NYPDviolationDiff              -0.053916  0.023053 -0.167673  0.171816   \n",
       "NYPDmisdemeanorDiff            -0.882171 -0.018092 -0.094488 -0.107099   \n",
       "NYPDfelonyDiff                 -0.886250 -0.006024 -0.068858 -0.114029   \n",
       "Pop_Den_16DIFF                  0.052838 -0.138090 -0.051771 -0.287840   \n",
       "Median_Household_Income_16DIFF -0.001541 -0.556508 -0.221890 -0.224180   \n",
       "Gini_Index_16DIFF              -0.001528  0.498549 -0.033039 -0.021990   \n",
       "Ave_Commute_Min_16DIFF          0.065510  0.002814  0.042438  0.134310   \n",
       "Unemployed_rate_16DIFF          0.057497  0.130466  0.191718  0.019511   \n",
       "Moved_in_4years_16DIFF          0.004592 -0.003877  0.177674  0.008540   \n",
       "licenseDiff                    -0.091378  0.015232  0.002092 -0.178797   \n",
       "\n",
       "                                Factor5  \n",
       "FHVdiff                             0.0  \n",
       "NYPDviolationDiff                   0.0  \n",
       "NYPDmisdemeanorDiff                 0.0  \n",
       "NYPDfelonyDiff                      0.0  \n",
       "Pop_Den_16DIFF                      0.0  \n",
       "Median_Household_Income_16DIFF      0.0  \n",
       "Gini_Index_16DIFF                   0.0  \n",
       "Ave_Commute_Min_16DIFF              0.0  \n",
       "Unemployed_rate_16DIFF              0.0  \n",
       "Moved_in_4years_16DIFF              0.0  \n",
       "licenseDiff                         0.0  "
      ]
     },
     "execution_count": 42,
     "metadata": {},
     "output_type": "execute_result"
    }
   ],
   "source": [
    "fa.loadings"
   ]
  },
  {
   "cell_type": "code",
   "execution_count": 43,
   "metadata": {},
   "outputs": [
    {
     "data": {
      "text/html": [
       "<div>\n",
       "<style>\n",
       "    .dataframe thead tr:only-child th {\n",
       "        text-align: right;\n",
       "    }\n",
       "\n",
       "    .dataframe thead th {\n",
       "        text-align: left;\n",
       "    }\n",
       "\n",
       "    .dataframe tbody tr th {\n",
       "        vertical-align: top;\n",
       "    }\n",
       "</style>\n",
       "<table border=\"1\" class=\"dataframe\">\n",
       "  <thead>\n",
       "    <tr style=\"text-align: right;\">\n",
       "      <th></th>\n",
       "      <th>Factor1</th>\n",
       "      <th>Factor2</th>\n",
       "      <th>Factor3</th>\n",
       "      <th>Factor4</th>\n",
       "      <th>Factor5</th>\n",
       "    </tr>\n",
       "  </thead>\n",
       "  <tbody>\n",
       "    <tr>\n",
       "      <th>SS Loadings</th>\n",
       "      <td>1.585519</td>\n",
       "      <td>0.597055</td>\n",
       "      <td>0.265536</td>\n",
       "      <td>0.241697</td>\n",
       "      <td>0.000000</td>\n",
       "    </tr>\n",
       "    <tr>\n",
       "      <th>Proportion Var</th>\n",
       "      <td>0.144138</td>\n",
       "      <td>0.054278</td>\n",
       "      <td>0.024140</td>\n",
       "      <td>0.021972</td>\n",
       "      <td>0.000000</td>\n",
       "    </tr>\n",
       "    <tr>\n",
       "      <th>Cumulative Var</th>\n",
       "      <td>0.144138</td>\n",
       "      <td>0.198416</td>\n",
       "      <td>0.222555</td>\n",
       "      <td>0.244528</td>\n",
       "      <td>0.244528</td>\n",
       "    </tr>\n",
       "  </tbody>\n",
       "</table>\n",
       "</div>"
      ],
      "text/plain": [
       "                 Factor1   Factor2   Factor3   Factor4   Factor5\n",
       "SS Loadings     1.585519  0.597055  0.265536  0.241697  0.000000\n",
       "Proportion Var  0.144138  0.054278  0.024140  0.021972  0.000000\n",
       "Cumulative Var  0.144138  0.198416  0.222555  0.244528  0.244528"
      ]
     },
     "execution_count": 43,
     "metadata": {},
     "output_type": "execute_result"
    }
   ],
   "source": [
    "fa.get_factor_variance()"
   ]
  },
  {
   "cell_type": "code",
   "execution_count": 44,
   "metadata": {},
   "outputs": [
    {
     "data": {
      "text/plain": [
       "NYPDmisdemeanorDiff   -0.882171\n",
       "NYPDfelonyDiff        -0.886250\n",
       "Name: Factor1, dtype: float64"
      ]
     },
     "execution_count": 44,
     "metadata": {},
     "output_type": "execute_result"
    }
   ],
   "source": [
    "fa.loadings[np.abs(fa.loadings['Factor1'])>0.5]['Factor1']"
   ]
  },
  {
   "cell_type": "code",
   "execution_count": 45,
   "metadata": {},
   "outputs": [
    {
     "name": "stdout",
     "output_type": "stream",
     "text": [
      "Factor1:\n",
      "\n",
      "NYPDmisdemeanorDiff   -0.882171\n",
      "NYPDfelonyDiff        -0.886250\n",
      "Name: Factor1, dtype: float64\n",
      "\n",
      "\n",
      "Factor2:\n",
      "\n",
      "Median_Household_Income_16DIFF   -0.556508\n",
      "Name: Factor2, dtype: float64\n",
      "\n",
      "\n",
      "Factor3:\n",
      "\n",
      "Series([], Name: Factor3, dtype: float64)\n",
      "\n",
      "\n",
      "Factor4:\n",
      "\n",
      "Series([], Name: Factor4, dtype: float64)\n",
      "\n",
      "\n",
      "Factor5:\n",
      "\n",
      "Series([], Name: Factor5, dtype: float64)\n",
      "\n",
      "\n"
     ]
    }
   ],
   "source": [
    "for column in fa.loadings:\n",
    "    print(column+':\\n')\n",
    "    print(fa.loadings[np.abs(fa.loadings[column])>0.5][column])\n",
    "    print('\\n')"
   ]
  },
  {
   "cell_type": "markdown",
   "metadata": {},
   "source": [
    "## Factor 1: Crime\n",
    "## Factor 2: Income intergration and poverty level\n",
    "## Factor 3: Traffic convenience\n",
    "## Factor 4: New population"
   ]
  },
  {
   "cell_type": "code",
   "execution_count": 46,
   "metadata": {},
   "outputs": [
    {
     "data": {
      "text/html": [
       "<div>\n",
       "<style>\n",
       "    .dataframe thead tr:only-child th {\n",
       "        text-align: right;\n",
       "    }\n",
       "\n",
       "    .dataframe thead th {\n",
       "        text-align: left;\n",
       "    }\n",
       "\n",
       "    .dataframe tbody tr th {\n",
       "        vertical-align: top;\n",
       "    }\n",
       "</style>\n",
       "<table border=\"1\" class=\"dataframe\">\n",
       "  <thead>\n",
       "    <tr style=\"text-align: right;\">\n",
       "      <th></th>\n",
       "      <th>FHVdiff</th>\n",
       "      <th>NYPDviolationDiff</th>\n",
       "      <th>NYPDmisdemeanorDiff</th>\n",
       "      <th>NYPDfelonyDiff</th>\n",
       "      <th>Pop_Den_16DIFF</th>\n",
       "      <th>Median_Household_Income_16DIFF</th>\n",
       "      <th>Gini_Index_16DIFF</th>\n",
       "      <th>Ave_Commute_Min_16DIFF</th>\n",
       "      <th>Unemployed_rate_16DIFF</th>\n",
       "      <th>Moved_in_4years_16DIFF</th>\n",
       "      <th>licenseDiff</th>\n",
       "    </tr>\n",
       "  </thead>\n",
       "  <tbody>\n",
       "    <tr>\n",
       "      <th>0</th>\n",
       "      <td>0.021357</td>\n",
       "      <td>0.633803</td>\n",
       "      <td>0.661538</td>\n",
       "      <td>0.735294</td>\n",
       "      <td>0.416344</td>\n",
       "      <td>0.512024</td>\n",
       "      <td>0.420905</td>\n",
       "      <td>0.4917</td>\n",
       "      <td>0.373334</td>\n",
       "      <td>0.50664</td>\n",
       "      <td>0.846154</td>\n",
       "    </tr>\n",
       "  </tbody>\n",
       "</table>\n",
       "</div>"
      ],
      "text/plain": [
       "    FHVdiff  NYPDviolationDiff  NYPDmisdemeanorDiff  NYPDfelonyDiff  \\\n",
       "0  0.021357           0.633803             0.661538        0.735294   \n",
       "\n",
       "   Pop_Den_16DIFF  Median_Household_Income_16DIFF  Gini_Index_16DIFF  \\\n",
       "0        0.416344                        0.512024           0.420905   \n",
       "\n",
       "   Ave_Commute_Min_16DIFF  Unemployed_rate_16DIFF  Moved_in_4years_16DIFF  \\\n",
       "0                  0.4917                0.373334                 0.50664   \n",
       "\n",
       "   licenseDiff  \n",
       "0     0.846154  "
      ]
     },
     "execution_count": 46,
     "metadata": {},
     "output_type": "execute_result"
    }
   ],
   "source": [
    "X_num.head(1)"
   ]
  },
  {
   "cell_type": "code",
   "execution_count": 47,
   "metadata": {},
   "outputs": [],
   "source": [
    "X_num.to_csv('X_num.csv')"
   ]
  },
  {
   "cell_type": "code",
   "execution_count": 48,
   "metadata": {},
   "outputs": [],
   "source": [
    "X_num1 = pd.read_csv('X_num3.csv')"
   ]
  },
  {
   "cell_type": "code",
   "execution_count": 49,
   "metadata": {},
   "outputs": [],
   "source": [
    "data = data.drop(list(X_num.columns),axis=1)"
   ]
  },
  {
   "cell_type": "code",
   "execution_count": 50,
   "metadata": {},
   "outputs": [
    {
     "data": {
      "text/html": [
       "<div>\n",
       "<style>\n",
       "    .dataframe thead tr:only-child th {\n",
       "        text-align: right;\n",
       "    }\n",
       "\n",
       "    .dataframe thead th {\n",
       "        text-align: left;\n",
       "    }\n",
       "\n",
       "    .dataframe tbody tr th {\n",
       "        vertical-align: top;\n",
       "    }\n",
       "</style>\n",
       "<table border=\"1\" class=\"dataframe\">\n",
       "  <thead>\n",
       "    <tr style=\"text-align: right;\">\n",
       "      <th></th>\n",
       "      <th>GEO_ID</th>\n",
       "      <th>STATE</th>\n",
       "      <th>COUNTY</th>\n",
       "      <th>TRACT</th>\n",
       "      <th>NAME</th>\n",
       "      <th>LSAD</th>\n",
       "      <th>CENSUSAREA</th>\n",
       "      <th>geometry</th>\n",
       "      <th>GEOID</th>\n",
       "      <th>units</th>\n",
       "      <th>C1Diff</th>\n",
       "      <th>C2Diff</th>\n",
       "      <th>Borough</th>\n",
       "      <th>2010CensusTract</th>\n",
       "      <th>PUMA</th>\n",
       "      <th>NTA_Code</th>\n",
       "      <th>NTA_Name</th>\n",
       "    </tr>\n",
       "  </thead>\n",
       "  <tbody>\n",
       "    <tr>\n",
       "      <th>0</th>\n",
       "      <td>36047010400</td>\n",
       "      <td>36</td>\n",
       "      <td>047</td>\n",
       "      <td>10400</td>\n",
       "      <td>104</td>\n",
       "      <td>Tract</td>\n",
       "      <td>0.059</td>\n",
       "      <td>POLYGON ((-74.01115399999999 40.637404, -74.01...</td>\n",
       "      <td>36047010400</td>\n",
       "      <td>0.0</td>\n",
       "      <td>0.146359</td>\n",
       "      <td>0.277246</td>\n",
       "      <td>Brooklyn</td>\n",
       "      <td>10400</td>\n",
       "      <td>4012</td>\n",
       "      <td>BK34</td>\n",
       "      <td>Sunset Park East</td>\n",
       "    </tr>\n",
       "  </tbody>\n",
       "</table>\n",
       "</div>"
      ],
      "text/plain": [
       "        GEO_ID STATE COUNTY  TRACT NAME   LSAD  CENSUSAREA  \\\n",
       "0  36047010400    36    047  10400  104  Tract       0.059   \n",
       "\n",
       "                                            geometry        GEOID  units  \\\n",
       "0  POLYGON ((-74.01115399999999 40.637404, -74.01...  36047010400    0.0   \n",
       "\n",
       "     C1Diff    C2Diff   Borough  2010CensusTract  PUMA NTA_Code  \\\n",
       "0  0.146359  0.277246  Brooklyn            10400  4012     BK34   \n",
       "\n",
       "           NTA_Name  \n",
       "0  Sunset Park East  "
      ]
     },
     "execution_count": 50,
     "metadata": {},
     "output_type": "execute_result"
    }
   ],
   "source": [
    "data.head(1)"
   ]
  },
  {
   "cell_type": "code",
   "execution_count": 51,
   "metadata": {},
   "outputs": [],
   "source": [
    "data.index = range(len(data.index))"
   ]
  },
  {
   "cell_type": "code",
   "execution_count": 258,
   "metadata": {},
   "outputs": [],
   "source": [
    "#X_num1.columns = ['Crime','Income intergration and poverty level','Traffic convenience','New population']"
   ]
  },
  {
   "cell_type": "code",
   "execution_count": 52,
   "metadata": {},
   "outputs": [],
   "source": [
    "for column in X_num1.columns:\n",
    "    data[column] = X_num1[column]"
   ]
  },
  {
   "cell_type": "code",
   "execution_count": 53,
   "metadata": {},
   "outputs": [],
   "source": [
    "columns = []\n",
    "for column in data.columns:\n",
    "    column = column.replace(' ','_' )\n",
    "    columns.append(column)"
   ]
  },
  {
   "cell_type": "code",
   "execution_count": 54,
   "metadata": {},
   "outputs": [],
   "source": [
    "data.columns = columns"
   ]
  },
  {
   "cell_type": "code",
   "execution_count": 55,
   "metadata": {
    "scrolled": true
   },
   "outputs": [
    {
     "data": {
      "text/html": [
       "<div>\n",
       "<style>\n",
       "    .dataframe thead tr:only-child th {\n",
       "        text-align: right;\n",
       "    }\n",
       "\n",
       "    .dataframe thead th {\n",
       "        text-align: left;\n",
       "    }\n",
       "\n",
       "    .dataframe tbody tr th {\n",
       "        vertical-align: top;\n",
       "    }\n",
       "</style>\n",
       "<table border=\"1\" class=\"dataframe\">\n",
       "  <thead>\n",
       "    <tr style=\"text-align: right;\">\n",
       "      <th></th>\n",
       "      <th>GEO_ID</th>\n",
       "      <th>STATE</th>\n",
       "      <th>COUNTY</th>\n",
       "      <th>TRACT</th>\n",
       "      <th>NAME</th>\n",
       "      <th>LSAD</th>\n",
       "      <th>CENSUSAREA</th>\n",
       "      <th>geometry</th>\n",
       "      <th>GEOID</th>\n",
       "      <th>units</th>\n",
       "      <th>C1Diff</th>\n",
       "      <th>C2Diff</th>\n",
       "      <th>Borough</th>\n",
       "      <th>2010CensusTract</th>\n",
       "      <th>PUMA</th>\n",
       "      <th>NTA_Code</th>\n",
       "      <th>NTA_Name</th>\n",
       "      <th>FAC1_1</th>\n",
       "      <th>FAC2_1</th>\n",
       "      <th>FAC3_1</th>\n",
       "      <th>FAC4_1</th>\n",
       "      <th>FAC5_1</th>\n",
       "    </tr>\n",
       "  </thead>\n",
       "  <tbody>\n",
       "    <tr>\n",
       "      <th>0</th>\n",
       "      <td>36047010400</td>\n",
       "      <td>36</td>\n",
       "      <td>047</td>\n",
       "      <td>10400</td>\n",
       "      <td>104</td>\n",
       "      <td>Tract</td>\n",
       "      <td>0.059</td>\n",
       "      <td>POLYGON ((-74.01115399999999 40.637404, -74.01...</td>\n",
       "      <td>36047010400</td>\n",
       "      <td>0.0</td>\n",
       "      <td>0.146359</td>\n",
       "      <td>0.277246</td>\n",
       "      <td>Brooklyn</td>\n",
       "      <td>10400</td>\n",
       "      <td>4012</td>\n",
       "      <td>BK34</td>\n",
       "      <td>Sunset Park East</td>\n",
       "      <td>2.155093</td>\n",
       "      <td>-0.360688</td>\n",
       "      <td>-0.714466</td>\n",
       "      <td>0.065551</td>\n",
       "      <td>-2.27309</td>\n",
       "    </tr>\n",
       "  </tbody>\n",
       "</table>\n",
       "</div>"
      ],
      "text/plain": [
       "        GEO_ID STATE COUNTY  TRACT NAME   LSAD  CENSUSAREA  \\\n",
       "0  36047010400    36    047  10400  104  Tract       0.059   \n",
       "\n",
       "                                            geometry        GEOID  units  \\\n",
       "0  POLYGON ((-74.01115399999999 40.637404, -74.01...  36047010400    0.0   \n",
       "\n",
       "     C1Diff    C2Diff   Borough  2010CensusTract  PUMA NTA_Code  \\\n",
       "0  0.146359  0.277246  Brooklyn            10400  4012     BK34   \n",
       "\n",
       "           NTA_Name    FAC1_1    FAC2_1    FAC3_1    FAC4_1   FAC5_1  \n",
       "0  Sunset Park East  2.155093 -0.360688 -0.714466  0.065551 -2.27309  "
      ]
     },
     "execution_count": 55,
     "metadata": {},
     "output_type": "execute_result"
    }
   ],
   "source": [
    "data.head(1)"
   ]
  },
  {
   "cell_type": "code",
   "execution_count": 64,
   "metadata": {},
   "outputs": [
    {
     "name": "stderr",
     "output_type": "stream",
     "text": [
      "C:\\Users\\sddz0\\Anaconda2\\envs\\py36\\lib\\site-packages\\ipykernel_launcher.py:1: SettingWithCopyWarning: \n",
      "A value is trying to be set on a copy of a slice from a DataFrame\n",
      "\n",
      "See the caveats in the documentation: http://pandas.pydata.org/pandas-docs/stable/indexing.html#indexing-view-versus-copy\n",
      "  \"\"\"Entry point for launching an IPython kernel.\n"
     ]
    }
   ],
   "source": [
    "data.units[data.units > 0] =1"
   ]
  },
  {
   "cell_type": "code",
   "execution_count": 102,
   "metadata": {},
   "outputs": [],
   "source": [
    "from patsy import dmatrices"
   ]
  },
  {
   "cell_type": "code",
   "execution_count": 103,
   "metadata": {},
   "outputs": [],
   "source": [
    "y, X = dmatrices('C1Diff~C(units)+'+'+'.join(data.columns[-5:]),data,return_type='dataframe')\n",
    "y = np.ravel(y)"
   ]
  },
  {
   "cell_type": "code",
   "execution_count": 112,
   "metadata": {},
   "outputs": [],
   "source": [
    "data['units'] = X['C(units)[T.1.0]']"
   ]
  },
  {
   "cell_type": "code",
   "execution_count": 113,
   "metadata": {},
   "outputs": [
    {
     "data": {
      "text/plain": [
       "'C1Diff~FAC1_1+FAC2_1+FAC3_1+FAC4_1+FAC5_1'"
      ]
     },
     "execution_count": 113,
     "metadata": {},
     "output_type": "execute_result"
    }
   ],
   "source": [
    "'C1Diff~'+'+'.join(data.columns[-5:])"
   ]
  },
  {
   "cell_type": "code",
   "execution_count": 114,
   "metadata": {},
   "outputs": [
    {
     "data": {
      "text/html": [
       "<table class=\"simpletable\">\n",
       "<caption>OLS Regression Results</caption>\n",
       "<tr>\n",
       "  <th>Dep. Variable:</th>         <td>C1Diff</td>      <th>  R-squared:         </th> <td>   0.096</td>\n",
       "</tr>\n",
       "<tr>\n",
       "  <th>Model:</th>                   <td>OLS</td>       <th>  Adj. R-squared:    </th> <td>   0.090</td>\n",
       "</tr>\n",
       "<tr>\n",
       "  <th>Method:</th>             <td>Least Squares</td>  <th>  F-statistic:       </th> <td>   14.70</td>\n",
       "</tr>\n",
       "<tr>\n",
       "  <th>Date:</th>             <td>Fri, 08 Dec 2017</td> <th>  Prob (F-statistic):</th> <td>1.03e-13</td>\n",
       "</tr>\n",
       "<tr>\n",
       "  <th>Time:</th>                 <td>21:23:35</td>     <th>  Log-Likelihood:    </th> <td>  647.63</td>\n",
       "</tr>\n",
       "<tr>\n",
       "  <th>No. Observations:</th>      <td>   697</td>      <th>  AIC:               </th> <td>  -1283.</td>\n",
       "</tr>\n",
       "<tr>\n",
       "  <th>Df Residuals:</th>          <td>   691</td>      <th>  BIC:               </th> <td>  -1256.</td>\n",
       "</tr>\n",
       "<tr>\n",
       "  <th>Df Model:</th>              <td>     5</td>      <th>                     </th>     <td> </td>   \n",
       "</tr>\n",
       "<tr>\n",
       "  <th>Covariance Type:</th>      <td>nonrobust</td>    <th>                     </th>     <td> </td>   \n",
       "</tr>\n",
       "</table>\n",
       "<table class=\"simpletable\">\n",
       "<tr>\n",
       "      <td></td>         <th>coef</th>     <th>std err</th>      <th>t</th>      <th>P>|t|</th>  <th>[0.025</th>    <th>0.975]</th>  \n",
       "</tr>\n",
       "<tr>\n",
       "  <th>Intercept</th> <td>    0.2165</td> <td>    0.004</td> <td>   59.564</td> <td> 0.000</td> <td>    0.209</td> <td>    0.224</td>\n",
       "</tr>\n",
       "<tr>\n",
       "  <th>FAC1_1</th>    <td>    0.0105</td> <td>    0.004</td> <td>    2.885</td> <td> 0.004</td> <td>    0.003</td> <td>    0.018</td>\n",
       "</tr>\n",
       "<tr>\n",
       "  <th>FAC2_1</th>    <td>   -0.0046</td> <td>    0.004</td> <td>   -1.254</td> <td> 0.210</td> <td>   -0.012</td> <td>    0.003</td>\n",
       "</tr>\n",
       "<tr>\n",
       "  <th>FAC3_1</th>    <td>    0.0236</td> <td>    0.004</td> <td>    6.498</td> <td> 0.000</td> <td>    0.016</td> <td>    0.031</td>\n",
       "</tr>\n",
       "<tr>\n",
       "  <th>FAC4_1</th>    <td>   -0.0049</td> <td>    0.004</td> <td>   -1.343</td> <td> 0.180</td> <td>   -0.012</td> <td>    0.002</td>\n",
       "</tr>\n",
       "<tr>\n",
       "  <th>FAC5_1</th>    <td>    0.0161</td> <td>    0.004</td> <td>    4.422</td> <td> 0.000</td> <td>    0.009</td> <td>    0.023</td>\n",
       "</tr>\n",
       "</table>\n",
       "<table class=\"simpletable\">\n",
       "<tr>\n",
       "  <th>Omnibus:</th>       <td>114.418</td> <th>  Durbin-Watson:     </th> <td>   1.397</td>\n",
       "</tr>\n",
       "<tr>\n",
       "  <th>Prob(Omnibus):</th> <td> 0.000</td>  <th>  Jarque-Bera (JB):  </th> <td> 206.760</td>\n",
       "</tr>\n",
       "<tr>\n",
       "  <th>Skew:</th>          <td> 0.982</td>  <th>  Prob(JB):          </th> <td>1.27e-45</td>\n",
       "</tr>\n",
       "<tr>\n",
       "  <th>Kurtosis:</th>      <td> 4.805</td>  <th>  Cond. No.          </th> <td>    1.00</td>\n",
       "</tr>\n",
       "</table>"
      ],
      "text/plain": [
       "<class 'statsmodels.iolib.summary.Summary'>\n",
       "\"\"\"\n",
       "                            OLS Regression Results                            \n",
       "==============================================================================\n",
       "Dep. Variable:                 C1Diff   R-squared:                       0.096\n",
       "Model:                            OLS   Adj. R-squared:                  0.090\n",
       "Method:                 Least Squares   F-statistic:                     14.70\n",
       "Date:                Fri, 08 Dec 2017   Prob (F-statistic):           1.03e-13\n",
       "Time:                        21:23:35   Log-Likelihood:                 647.63\n",
       "No. Observations:                 697   AIC:                            -1283.\n",
       "Df Residuals:                     691   BIC:                            -1256.\n",
       "Df Model:                           5                                         \n",
       "Covariance Type:            nonrobust                                         \n",
       "==============================================================================\n",
       "                 coef    std err          t      P>|t|      [0.025      0.975]\n",
       "------------------------------------------------------------------------------\n",
       "Intercept      0.2165      0.004     59.564      0.000       0.209       0.224\n",
       "FAC1_1         0.0105      0.004      2.885      0.004       0.003       0.018\n",
       "FAC2_1        -0.0046      0.004     -1.254      0.210      -0.012       0.003\n",
       "FAC3_1         0.0236      0.004      6.498      0.000       0.016       0.031\n",
       "FAC4_1        -0.0049      0.004     -1.343      0.180      -0.012       0.002\n",
       "FAC5_1         0.0161      0.004      4.422      0.000       0.009       0.023\n",
       "==============================================================================\n",
       "Omnibus:                      114.418   Durbin-Watson:                   1.397\n",
       "Prob(Omnibus):                  0.000   Jarque-Bera (JB):              206.760\n",
       "Skew:                           0.982   Prob(JB):                     1.27e-45\n",
       "Kurtosis:                       4.805   Cond. No.                         1.00\n",
       "==============================================================================\n",
       "\n",
       "Warnings:\n",
       "[1] Standard Errors assume that the covariance matrix of the errors is correctly specified.\n",
       "\"\"\""
      ]
     },
     "execution_count": 114,
     "metadata": {},
     "output_type": "execute_result"
    }
   ],
   "source": [
    "lm_no_units = smf.ols(formula='C1Diff~'+'+'.join(data.columns[-5:])\n",
    "             ,data=data).fit()\n",
    "lm_no_units.summary()"
   ]
  },
  {
   "cell_type": "code",
   "execution_count": 115,
   "metadata": {},
   "outputs": [
    {
     "data": {
      "text/html": [
       "<table class=\"simpletable\">\n",
       "<caption>OLS Regression Results</caption>\n",
       "<tr>\n",
       "  <th>Dep. Variable:</th>         <td>C1Diff</td>      <th>  R-squared:         </th> <td>   0.096</td>\n",
       "</tr>\n",
       "<tr>\n",
       "  <th>Model:</th>                   <td>OLS</td>       <th>  Adj. R-squared:    </th> <td>   0.088</td>\n",
       "</tr>\n",
       "<tr>\n",
       "  <th>Method:</th>             <td>Least Squares</td>  <th>  F-statistic:       </th> <td>   12.23</td>\n",
       "</tr>\n",
       "<tr>\n",
       "  <th>Date:</th>             <td>Fri, 08 Dec 2017</td> <th>  Prob (F-statistic):</th> <td>4.21e-13</td>\n",
       "</tr>\n",
       "<tr>\n",
       "  <th>Time:</th>                 <td>21:23:38</td>     <th>  Log-Likelihood:    </th> <td>  647.64</td>\n",
       "</tr>\n",
       "<tr>\n",
       "  <th>No. Observations:</th>      <td>   697</td>      <th>  AIC:               </th> <td>  -1281.</td>\n",
       "</tr>\n",
       "<tr>\n",
       "  <th>Df Residuals:</th>          <td>   690</td>      <th>  BIC:               </th> <td>  -1249.</td>\n",
       "</tr>\n",
       "<tr>\n",
       "  <th>Df Model:</th>              <td>     6</td>      <th>                     </th>     <td> </td>   \n",
       "</tr>\n",
       "<tr>\n",
       "  <th>Covariance Type:</th>      <td>nonrobust</td>    <th>                     </th>     <td> </td>   \n",
       "</tr>\n",
       "</table>\n",
       "<table class=\"simpletable\">\n",
       "<tr>\n",
       "         <td></td>            <th>coef</th>     <th>std err</th>      <th>t</th>      <th>P>|t|</th>  <th>[0.025</th>    <th>0.975]</th>  \n",
       "</tr>\n",
       "<tr>\n",
       "  <th>Intercept</th>       <td>    0.2165</td> <td>    0.004</td> <td>   58.711</td> <td> 0.000</td> <td>    0.209</td> <td>    0.224</td>\n",
       "</tr>\n",
       "<tr>\n",
       "  <th>C(units)[T.1.0]</th> <td>    0.0019</td> <td>    0.025</td> <td>    0.079</td> <td> 0.937</td> <td>   -0.046</td> <td>    0.050</td>\n",
       "</tr>\n",
       "<tr>\n",
       "  <th>FAC1_1</th>          <td>    0.0105</td> <td>    0.004</td> <td>    2.881</td> <td> 0.004</td> <td>    0.003</td> <td>    0.018</td>\n",
       "</tr>\n",
       "<tr>\n",
       "  <th>FAC2_1</th>          <td>   -0.0045</td> <td>    0.004</td> <td>   -1.246</td> <td> 0.213</td> <td>   -0.012</td> <td>    0.003</td>\n",
       "</tr>\n",
       "<tr>\n",
       "  <th>FAC3_1</th>          <td>    0.0236</td> <td>    0.004</td> <td>    6.406</td> <td> 0.000</td> <td>    0.016</td> <td>    0.031</td>\n",
       "</tr>\n",
       "<tr>\n",
       "  <th>FAC4_1</th>          <td>   -0.0049</td> <td>    0.004</td> <td>   -1.329</td> <td> 0.184</td> <td>   -0.012</td> <td>    0.002</td>\n",
       "</tr>\n",
       "<tr>\n",
       "  <th>FAC5_1</th>          <td>    0.0160</td> <td>    0.004</td> <td>    4.280</td> <td> 0.000</td> <td>    0.009</td> <td>    0.023</td>\n",
       "</tr>\n",
       "</table>\n",
       "<table class=\"simpletable\">\n",
       "<tr>\n",
       "  <th>Omnibus:</th>       <td>114.438</td> <th>  Durbin-Watson:     </th> <td>   1.397</td>\n",
       "</tr>\n",
       "<tr>\n",
       "  <th>Prob(Omnibus):</th> <td> 0.000</td>  <th>  Jarque-Bera (JB):  </th> <td> 206.839</td>\n",
       "</tr>\n",
       "<tr>\n",
       "  <th>Skew:</th>          <td> 0.982</td>  <th>  Prob(JB):          </th> <td>1.22e-45</td>\n",
       "</tr>\n",
       "<tr>\n",
       "  <th>Kurtosis:</th>      <td> 4.806</td>  <th>  Cond. No.          </th> <td>    6.80</td>\n",
       "</tr>\n",
       "</table>"
      ],
      "text/plain": [
       "<class 'statsmodels.iolib.summary.Summary'>\n",
       "\"\"\"\n",
       "                            OLS Regression Results                            \n",
       "==============================================================================\n",
       "Dep. Variable:                 C1Diff   R-squared:                       0.096\n",
       "Model:                            OLS   Adj. R-squared:                  0.088\n",
       "Method:                 Least Squares   F-statistic:                     12.23\n",
       "Date:                Fri, 08 Dec 2017   Prob (F-statistic):           4.21e-13\n",
       "Time:                        21:23:38   Log-Likelihood:                 647.64\n",
       "No. Observations:                 697   AIC:                            -1281.\n",
       "Df Residuals:                     690   BIC:                            -1249.\n",
       "Df Model:                           6                                         \n",
       "Covariance Type:            nonrobust                                         \n",
       "===================================================================================\n",
       "                      coef    std err          t      P>|t|      [0.025      0.975]\n",
       "-----------------------------------------------------------------------------------\n",
       "Intercept           0.2165      0.004     58.711      0.000       0.209       0.224\n",
       "C(units)[T.1.0]     0.0019      0.025      0.079      0.937      -0.046       0.050\n",
       "FAC1_1              0.0105      0.004      2.881      0.004       0.003       0.018\n",
       "FAC2_1             -0.0045      0.004     -1.246      0.213      -0.012       0.003\n",
       "FAC3_1              0.0236      0.004      6.406      0.000       0.016       0.031\n",
       "FAC4_1             -0.0049      0.004     -1.329      0.184      -0.012       0.002\n",
       "FAC5_1              0.0160      0.004      4.280      0.000       0.009       0.023\n",
       "==============================================================================\n",
       "Omnibus:                      114.438   Durbin-Watson:                   1.397\n",
       "Prob(Omnibus):                  0.000   Jarque-Bera (JB):              206.839\n",
       "Skew:                           0.982   Prob(JB):                     1.22e-45\n",
       "Kurtosis:                       4.806   Cond. No.                         6.80\n",
       "==============================================================================\n",
       "\n",
       "Warnings:\n",
       "[1] Standard Errors assume that the covariance matrix of the errors is correctly specified.\n",
       "\"\"\""
      ]
     },
     "execution_count": 115,
     "metadata": {},
     "output_type": "execute_result"
    }
   ],
   "source": [
    "lm_with_units = smf.ols(formula='C1Diff~C(units)+'+'+'.join(data.columns[-5:])\n",
    "             ,data=data).fit()\n",
    "lm_with_units.summary()"
   ]
  },
  {
   "cell_type": "code",
   "execution_count": 116,
   "metadata": {},
   "outputs": [
    {
     "name": "stderr",
     "output_type": "stream",
     "text": [
      "C:\\Users\\sddz0\\Anaconda2\\envs\\py36\\lib\\site-packages\\scipy\\stats\\_distn_infrastructure.py:879: RuntimeWarning: invalid value encountered in greater\n",
      "  return (self.a < x) & (x < self.b)\n",
      "C:\\Users\\sddz0\\Anaconda2\\envs\\py36\\lib\\site-packages\\scipy\\stats\\_distn_infrastructure.py:879: RuntimeWarning: invalid value encountered in less\n",
      "  return (self.a < x) & (x < self.b)\n",
      "C:\\Users\\sddz0\\Anaconda2\\envs\\py36\\lib\\site-packages\\scipy\\stats\\_distn_infrastructure.py:1818: RuntimeWarning: invalid value encountered in less_equal\n",
      "  cond2 = cond0 & (x <= self.a)\n"
     ]
    },
    {
     "data": {
      "text/html": [
       "<div>\n",
       "<style>\n",
       "    .dataframe thead tr:only-child th {\n",
       "        text-align: right;\n",
       "    }\n",
       "\n",
       "    .dataframe thead th {\n",
       "        text-align: left;\n",
       "    }\n",
       "\n",
       "    .dataframe tbody tr th {\n",
       "        vertical-align: top;\n",
       "    }\n",
       "</style>\n",
       "<table border=\"1\" class=\"dataframe\">\n",
       "  <thead>\n",
       "    <tr style=\"text-align: right;\">\n",
       "      <th></th>\n",
       "      <th>df_resid</th>\n",
       "      <th>ssr</th>\n",
       "      <th>df_diff</th>\n",
       "      <th>ss_diff</th>\n",
       "      <th>F</th>\n",
       "      <th>Pr(&gt;F)</th>\n",
       "    </tr>\n",
       "  </thead>\n",
       "  <tbody>\n",
       "    <tr>\n",
       "      <th>0</th>\n",
       "      <td>691.0</td>\n",
       "      <td>6.363386</td>\n",
       "      <td>0.0</td>\n",
       "      <td>NaN</td>\n",
       "      <td>NaN</td>\n",
       "      <td>NaN</td>\n",
       "    </tr>\n",
       "    <tr>\n",
       "      <th>1</th>\n",
       "      <td>690.0</td>\n",
       "      <td>6.363328</td>\n",
       "      <td>1.0</td>\n",
       "      <td>0.000057</td>\n",
       "      <td>0.006212</td>\n",
       "      <td>0.937201</td>\n",
       "    </tr>\n",
       "  </tbody>\n",
       "</table>\n",
       "</div>"
      ],
      "text/plain": [
       "   df_resid       ssr  df_diff   ss_diff         F    Pr(>F)\n",
       "0     691.0  6.363386      0.0       NaN       NaN       NaN\n",
       "1     690.0  6.363328      1.0  0.000057  0.006212  0.937201"
      ]
     },
     "execution_count": 116,
     "metadata": {},
     "output_type": "execute_result"
    }
   ],
   "source": [
    "anova = sm.stats.anova_lm(lm_no_units,lm_with_units)\n",
    "anova"
   ]
  },
  {
   "cell_type": "code",
   "execution_count": 117,
   "metadata": {},
   "outputs": [
    {
     "data": {
      "text/html": [
       "<table class=\"simpletable\">\n",
       "<caption>OLS Regression Results</caption>\n",
       "<tr>\n",
       "  <th>Dep. Variable:</th>         <td>C2Diff</td>      <th>  R-squared:         </th> <td>   0.113</td>\n",
       "</tr>\n",
       "<tr>\n",
       "  <th>Model:</th>                   <td>OLS</td>       <th>  Adj. R-squared:    </th> <td>   0.106</td>\n",
       "</tr>\n",
       "<tr>\n",
       "  <th>Method:</th>             <td>Least Squares</td>  <th>  F-statistic:       </th> <td>   17.58</td>\n",
       "</tr>\n",
       "<tr>\n",
       "  <th>Date:</th>             <td>Fri, 08 Dec 2017</td> <th>  Prob (F-statistic):</th> <td>2.07e-16</td>\n",
       "</tr>\n",
       "<tr>\n",
       "  <th>Time:</th>                 <td>21:23:40</td>     <th>  Log-Likelihood:    </th> <td>  248.60</td>\n",
       "</tr>\n",
       "<tr>\n",
       "  <th>No. Observations:</th>      <td>   697</td>      <th>  AIC:               </th> <td>  -485.2</td>\n",
       "</tr>\n",
       "<tr>\n",
       "  <th>Df Residuals:</th>          <td>   691</td>      <th>  BIC:               </th> <td>  -457.9</td>\n",
       "</tr>\n",
       "<tr>\n",
       "  <th>Df Model:</th>              <td>     5</td>      <th>                     </th>     <td> </td>   \n",
       "</tr>\n",
       "<tr>\n",
       "  <th>Covariance Type:</th>      <td>nonrobust</td>    <th>                     </th>     <td> </td>   \n",
       "</tr>\n",
       "</table>\n",
       "<table class=\"simpletable\">\n",
       "<tr>\n",
       "      <td></td>         <th>coef</th>     <th>std err</th>      <th>t</th>      <th>P>|t|</th>  <th>[0.025</th>    <th>0.975]</th>  \n",
       "</tr>\n",
       "<tr>\n",
       "  <th>Intercept</th> <td>    0.2853</td> <td>    0.006</td> <td>   44.283</td> <td> 0.000</td> <td>    0.273</td> <td>    0.298</td>\n",
       "</tr>\n",
       "<tr>\n",
       "  <th>FAC1_1</th>    <td>   -0.0121</td> <td>    0.006</td> <td>   -1.871</td> <td> 0.062</td> <td>   -0.025</td> <td>    0.001</td>\n",
       "</tr>\n",
       "<tr>\n",
       "  <th>FAC2_1</th>    <td>    0.0096</td> <td>    0.006</td> <td>    1.495</td> <td> 0.135</td> <td>   -0.003</td> <td>    0.022</td>\n",
       "</tr>\n",
       "<tr>\n",
       "  <th>FAC3_1</th>    <td>    0.0393</td> <td>    0.006</td> <td>    6.095</td> <td> 0.000</td> <td>    0.027</td> <td>    0.052</td>\n",
       "</tr>\n",
       "<tr>\n",
       "  <th>FAC4_1</th>    <td>   -0.0311</td> <td>    0.006</td> <td>   -4.819</td> <td> 0.000</td> <td>   -0.044</td> <td>   -0.018</td>\n",
       "</tr>\n",
       "<tr>\n",
       "  <th>FAC5_1</th>    <td>    0.0301</td> <td>    0.006</td> <td>    4.666</td> <td> 0.000</td> <td>    0.017</td> <td>    0.043</td>\n",
       "</tr>\n",
       "</table>\n",
       "<table class=\"simpletable\">\n",
       "<tr>\n",
       "  <th>Omnibus:</th>       <td>109.586</td> <th>  Durbin-Watson:     </th> <td>   1.350</td>\n",
       "</tr>\n",
       "<tr>\n",
       "  <th>Prob(Omnibus):</th> <td> 0.000</td>  <th>  Jarque-Bera (JB):  </th> <td> 160.897</td>\n",
       "</tr>\n",
       "<tr>\n",
       "  <th>Skew:</th>          <td> 1.100</td>  <th>  Prob(JB):          </th> <td>1.15e-35</td>\n",
       "</tr>\n",
       "<tr>\n",
       "  <th>Kurtosis:</th>      <td> 3.838</td>  <th>  Cond. No.          </th> <td>    1.00</td>\n",
       "</tr>\n",
       "</table>"
      ],
      "text/plain": [
       "<class 'statsmodels.iolib.summary.Summary'>\n",
       "\"\"\"\n",
       "                            OLS Regression Results                            \n",
       "==============================================================================\n",
       "Dep. Variable:                 C2Diff   R-squared:                       0.113\n",
       "Model:                            OLS   Adj. R-squared:                  0.106\n",
       "Method:                 Least Squares   F-statistic:                     17.58\n",
       "Date:                Fri, 08 Dec 2017   Prob (F-statistic):           2.07e-16\n",
       "Time:                        21:23:40   Log-Likelihood:                 248.60\n",
       "No. Observations:                 697   AIC:                            -485.2\n",
       "Df Residuals:                     691   BIC:                            -457.9\n",
       "Df Model:                           5                                         \n",
       "Covariance Type:            nonrobust                                         \n",
       "==============================================================================\n",
       "                 coef    std err          t      P>|t|      [0.025      0.975]\n",
       "------------------------------------------------------------------------------\n",
       "Intercept      0.2853      0.006     44.283      0.000       0.273       0.298\n",
       "FAC1_1        -0.0121      0.006     -1.871      0.062      -0.025       0.001\n",
       "FAC2_1         0.0096      0.006      1.495      0.135      -0.003       0.022\n",
       "FAC3_1         0.0393      0.006      6.095      0.000       0.027       0.052\n",
       "FAC4_1        -0.0311      0.006     -4.819      0.000      -0.044      -0.018\n",
       "FAC5_1         0.0301      0.006      4.666      0.000       0.017       0.043\n",
       "==============================================================================\n",
       "Omnibus:                      109.586   Durbin-Watson:                   1.350\n",
       "Prob(Omnibus):                  0.000   Jarque-Bera (JB):              160.897\n",
       "Skew:                           1.100   Prob(JB):                     1.15e-35\n",
       "Kurtosis:                       3.838   Cond. No.                         1.00\n",
       "==============================================================================\n",
       "\n",
       "Warnings:\n",
       "[1] Standard Errors assume that the covariance matrix of the errors is correctly specified.\n",
       "\"\"\""
      ]
     },
     "execution_count": 117,
     "metadata": {},
     "output_type": "execute_result"
    }
   ],
   "source": [
    "lm1_no_units = smf.ols(formula='C2Diff~'+'+'.join(data.columns[-5:])\n",
    "             ,data=data).fit()\n",
    "lm1_no_units.summary()"
   ]
  },
  {
   "cell_type": "code",
   "execution_count": 118,
   "metadata": {},
   "outputs": [
    {
     "data": {
      "text/html": [
       "<table class=\"simpletable\">\n",
       "<caption>OLS Regression Results</caption>\n",
       "<tr>\n",
       "  <th>Dep. Variable:</th>         <td>C2Diff</td>      <th>  R-squared:         </th> <td>   0.114</td>\n",
       "</tr>\n",
       "<tr>\n",
       "  <th>Model:</th>                   <td>OLS</td>       <th>  Adj. R-squared:    </th> <td>   0.106</td>\n",
       "</tr>\n",
       "<tr>\n",
       "  <th>Method:</th>             <td>Least Squares</td>  <th>  F-statistic:       </th> <td>   14.73</td>\n",
       "</tr>\n",
       "<tr>\n",
       "  <th>Date:</th>             <td>Fri, 08 Dec 2017</td> <th>  Prob (F-statistic):</th> <td>7.15e-16</td>\n",
       "</tr>\n",
       "<tr>\n",
       "  <th>Time:</th>                 <td>21:23:41</td>     <th>  Log-Likelihood:    </th> <td>  248.87</td>\n",
       "</tr>\n",
       "<tr>\n",
       "  <th>No. Observations:</th>      <td>   697</td>      <th>  AIC:               </th> <td>  -483.7</td>\n",
       "</tr>\n",
       "<tr>\n",
       "  <th>Df Residuals:</th>          <td>   690</td>      <th>  BIC:               </th> <td>  -451.9</td>\n",
       "</tr>\n",
       "<tr>\n",
       "  <th>Df Model:</th>              <td>     6</td>      <th>                     </th>     <td> </td>   \n",
       "</tr>\n",
       "<tr>\n",
       "  <th>Covariance Type:</th>      <td>nonrobust</td>    <th>                     </th>     <td> </td>   \n",
       "</tr>\n",
       "</table>\n",
       "<table class=\"simpletable\">\n",
       "<tr>\n",
       "         <td></td>            <th>coef</th>     <th>std err</th>      <th>t</th>      <th>P>|t|</th>  <th>[0.025</th>    <th>0.975]</th>  \n",
       "</tr>\n",
       "<tr>\n",
       "  <th>Intercept</th>       <td>    0.2861</td> <td>    0.007</td> <td>   43.794</td> <td> 0.000</td> <td>    0.273</td> <td>    0.299</td>\n",
       "</tr>\n",
       "<tr>\n",
       "  <th>C(units)[T.1.0]</th> <td>   -0.0320</td> <td>    0.044</td> <td>   -0.733</td> <td> 0.464</td> <td>   -0.118</td> <td>    0.054</td>\n",
       "</tr>\n",
       "<tr>\n",
       "  <th>FAC1_1</th>          <td>   -0.0120</td> <td>    0.006</td> <td>   -1.853</td> <td> 0.064</td> <td>   -0.025</td> <td>    0.001</td>\n",
       "</tr>\n",
       "<tr>\n",
       "  <th>FAC2_1</th>          <td>    0.0093</td> <td>    0.006</td> <td>    1.445</td> <td> 0.149</td> <td>   -0.003</td> <td>    0.022</td>\n",
       "</tr>\n",
       "<tr>\n",
       "  <th>FAC3_1</th>          <td>    0.0400</td> <td>    0.007</td> <td>    6.134</td> <td> 0.000</td> <td>    0.027</td> <td>    0.053</td>\n",
       "</tr>\n",
       "<tr>\n",
       "  <th>FAC4_1</th>          <td>   -0.0315</td> <td>    0.006</td> <td>   -4.865</td> <td> 0.000</td> <td>   -0.044</td> <td>   -0.019</td>\n",
       "</tr>\n",
       "<tr>\n",
       "  <th>FAC5_1</th>          <td>    0.0312</td> <td>    0.007</td> <td>    4.707</td> <td> 0.000</td> <td>    0.018</td> <td>    0.044</td>\n",
       "</tr>\n",
       "</table>\n",
       "<table class=\"simpletable\">\n",
       "<tr>\n",
       "  <th>Omnibus:</th>       <td>111.363</td> <th>  Durbin-Watson:     </th> <td>   1.349</td>\n",
       "</tr>\n",
       "<tr>\n",
       "  <th>Prob(Omnibus):</th> <td> 0.000</td>  <th>  Jarque-Bera (JB):  </th> <td> 164.661</td>\n",
       "</tr>\n",
       "<tr>\n",
       "  <th>Skew:</th>          <td> 1.110</td>  <th>  Prob(JB):          </th> <td>1.76e-36</td>\n",
       "</tr>\n",
       "<tr>\n",
       "  <th>Kurtosis:</th>      <td> 3.863</td>  <th>  Cond. No.          </th> <td>    6.80</td>\n",
       "</tr>\n",
       "</table>"
      ],
      "text/plain": [
       "<class 'statsmodels.iolib.summary.Summary'>\n",
       "\"\"\"\n",
       "                            OLS Regression Results                            \n",
       "==============================================================================\n",
       "Dep. Variable:                 C2Diff   R-squared:                       0.114\n",
       "Model:                            OLS   Adj. R-squared:                  0.106\n",
       "Method:                 Least Squares   F-statistic:                     14.73\n",
       "Date:                Fri, 08 Dec 2017   Prob (F-statistic):           7.15e-16\n",
       "Time:                        21:23:41   Log-Likelihood:                 248.87\n",
       "No. Observations:                 697   AIC:                            -483.7\n",
       "Df Residuals:                     690   BIC:                            -451.9\n",
       "Df Model:                           6                                         \n",
       "Covariance Type:            nonrobust                                         \n",
       "===================================================================================\n",
       "                      coef    std err          t      P>|t|      [0.025      0.975]\n",
       "-----------------------------------------------------------------------------------\n",
       "Intercept           0.2861      0.007     43.794      0.000       0.273       0.299\n",
       "C(units)[T.1.0]    -0.0320      0.044     -0.733      0.464      -0.118       0.054\n",
       "FAC1_1             -0.0120      0.006     -1.853      0.064      -0.025       0.001\n",
       "FAC2_1              0.0093      0.006      1.445      0.149      -0.003       0.022\n",
       "FAC3_1              0.0400      0.007      6.134      0.000       0.027       0.053\n",
       "FAC4_1             -0.0315      0.006     -4.865      0.000      -0.044      -0.019\n",
       "FAC5_1              0.0312      0.007      4.707      0.000       0.018       0.044\n",
       "==============================================================================\n",
       "Omnibus:                      111.363   Durbin-Watson:                   1.349\n",
       "Prob(Omnibus):                  0.000   Jarque-Bera (JB):              164.661\n",
       "Skew:                           1.110   Prob(JB):                     1.76e-36\n",
       "Kurtosis:                       3.863   Cond. No.                         6.80\n",
       "==============================================================================\n",
       "\n",
       "Warnings:\n",
       "[1] Standard Errors assume that the covariance matrix of the errors is correctly specified.\n",
       "\"\"\""
      ]
     },
     "execution_count": 118,
     "metadata": {},
     "output_type": "execute_result"
    }
   ],
   "source": [
    "lm1_with_units = smf.ols(formula='C2Diff~C(units)+'+'+'.join(data.columns[-5:])\n",
    "             ,data=data).fit()\n",
    "lm1_with_units.summary()"
   ]
  },
  {
   "cell_type": "code",
   "execution_count": 119,
   "metadata": {},
   "outputs": [
    {
     "name": "stderr",
     "output_type": "stream",
     "text": [
      "C:\\Users\\sddz0\\Anaconda2\\envs\\py36\\lib\\site-packages\\scipy\\stats\\_distn_infrastructure.py:879: RuntimeWarning: invalid value encountered in greater\n",
      "  return (self.a < x) & (x < self.b)\n",
      "C:\\Users\\sddz0\\Anaconda2\\envs\\py36\\lib\\site-packages\\scipy\\stats\\_distn_infrastructure.py:879: RuntimeWarning: invalid value encountered in less\n",
      "  return (self.a < x) & (x < self.b)\n",
      "C:\\Users\\sddz0\\Anaconda2\\envs\\py36\\lib\\site-packages\\scipy\\stats\\_distn_infrastructure.py:1818: RuntimeWarning: invalid value encountered in less_equal\n",
      "  cond2 = cond0 & (x <= self.a)\n"
     ]
    },
    {
     "data": {
      "text/html": [
       "<div>\n",
       "<style>\n",
       "    .dataframe thead tr:only-child th {\n",
       "        text-align: right;\n",
       "    }\n",
       "\n",
       "    .dataframe thead th {\n",
       "        text-align: left;\n",
       "    }\n",
       "\n",
       "    .dataframe tbody tr th {\n",
       "        vertical-align: top;\n",
       "    }\n",
       "</style>\n",
       "<table border=\"1\" class=\"dataframe\">\n",
       "  <thead>\n",
       "    <tr style=\"text-align: right;\">\n",
       "      <th></th>\n",
       "      <th>df_resid</th>\n",
       "      <th>ssr</th>\n",
       "      <th>df_diff</th>\n",
       "      <th>ss_diff</th>\n",
       "      <th>F</th>\n",
       "      <th>Pr(&gt;F)</th>\n",
       "    </tr>\n",
       "  </thead>\n",
       "  <tbody>\n",
       "    <tr>\n",
       "      <th>0</th>\n",
       "      <td>691.0</td>\n",
       "      <td>19.996519</td>\n",
       "      <td>0.0</td>\n",
       "      <td>NaN</td>\n",
       "      <td>NaN</td>\n",
       "      <td>NaN</td>\n",
       "    </tr>\n",
       "    <tr>\n",
       "      <th>1</th>\n",
       "      <td>690.0</td>\n",
       "      <td>19.980948</td>\n",
       "      <td>1.0</td>\n",
       "      <td>0.015571</td>\n",
       "      <td>0.537712</td>\n",
       "      <td>0.463632</td>\n",
       "    </tr>\n",
       "  </tbody>\n",
       "</table>\n",
       "</div>"
      ],
      "text/plain": [
       "   df_resid        ssr  df_diff   ss_diff         F    Pr(>F)\n",
       "0     691.0  19.996519      0.0       NaN       NaN       NaN\n",
       "1     690.0  19.980948      1.0  0.015571  0.537712  0.463632"
      ]
     },
     "execution_count": 119,
     "metadata": {},
     "output_type": "execute_result"
    }
   ],
   "source": [
    "anova = sm.stats.anova_lm(lm1_no_units,lm1_with_units)\n",
    "anova"
   ]
  },
  {
   "cell_type": "markdown",
   "metadata": {},
   "source": [
    "## Spatial regression"
   ]
  },
  {
   "cell_type": "code",
   "execution_count": 120,
   "metadata": {},
   "outputs": [
    {
     "data": {
      "text/plain": [
       "<matplotlib.axes._subplots.AxesSubplot at 0x1cd86543d68>"
      ]
     },
     "execution_count": 120,
     "metadata": {},
     "output_type": "execute_result"
    },
    {
     "data": {
      "image/png": "[encoded data removed]",
      "text/plain": [
       "<matplotlib.figure.Figure at 0x1cd864e8668>"
      ]
     },
     "metadata": {},
     "output_type": "display_data"
    }
   ],
   "source": [
    "data.plot()"
   ]
  },
  {
   "cell_type": "code",
   "execution_count": 121,
   "metadata": {},
   "outputs": [],
   "source": [
    "W = pysal.weights.Queen.from_dataframe(data)"
   ]
  },
  {
   "cell_type": "code",
   "execution_count": 122,
   "metadata": {},
   "outputs": [
    {
     "data": {
      "text/plain": [
       "[]"
      ]
     },
     "execution_count": 122,
     "metadata": {},
     "output_type": "execute_result"
    }
   ],
   "source": [
    "W.islands"
   ]
  },
  {
   "cell_type": "code",
   "execution_count": 123,
   "metadata": {},
   "outputs": [],
   "source": [
    "data = data.drop(W.islands)"
   ]
  },
  {
   "cell_type": "code",
   "execution_count": 124,
   "metadata": {},
   "outputs": [],
   "source": [
    "from pysal.spreg import ols"
   ]
  },
  {
   "cell_type": "code",
   "execution_count": 125,
   "metadata": {},
   "outputs": [],
   "source": [
    "W1 = pysal.weights.Queen.from_dataframe(data)"
   ]
  },
  {
   "cell_type": "code",
   "execution_count": 126,
   "metadata": {},
   "outputs": [
    {
     "data": {
      "text/plain": [
       "'C1Diff~FAC1_1+FAC2_1+FAC3_1+FAC4_1+FAC5_1'"
      ]
     },
     "execution_count": 126,
     "metadata": {},
     "output_type": "execute_result"
    }
   ],
   "source": [
    "'C1Diff~'+'+'.join(data.columns[-5:])"
   ]
  },
  {
   "cell_type": "code",
   "execution_count": 127,
   "metadata": {},
   "outputs": [],
   "source": [
    "y = np.array(data['C1Diff'])"
   ]
  },
  {
   "cell_type": "code",
   "execution_count": 128,
   "metadata": {},
   "outputs": [],
   "source": [
    "y.shape = (len(y),1)"
   ]
  },
  {
   "cell_type": "code",
   "execution_count": 129,
   "metadata": {},
   "outputs": [],
   "source": [
    "X = np.array(data[list(data.columns[-5:])+['units']]).T"
   ]
  },
  {
   "cell_type": "code",
   "execution_count": 130,
   "metadata": {},
   "outputs": [],
   "source": [
    "X = X.T"
   ]
  },
  {
   "cell_type": "code",
   "execution_count": 131,
   "metadata": {},
   "outputs": [
    {
     "name": "stdout",
     "output_type": "stream",
     "text": [
      "REGRESSION\n",
      "----------\n",
      "SUMMARY OF OUTPUT: ORDINARY LEAST SQUARES\n",
      "-----------------------------------------\n",
      "Data set            :        data\n",
      "Weights matrix      :        None\n",
      "Dependent Variable  :      C1Diff                Number of Observations:         697\n",
      "Mean dependent var  :      0.2165                Number of Variables   :           7\n",
      "S.D. dependent var  :      0.1006                Degrees of Freedom    :         690\n",
      "R-squared           :      0.0961\n",
      "Adjusted R-squared  :      0.0883\n",
      "Sum squared residual:       6.363                F-statistic           :     12.2307\n",
      "Sigma-square        :       0.009                Prob(F-statistic)     :    4.21e-13\n",
      "S.E. of regression  :       0.096                Log likelihood        :     647.637\n",
      "Sigma-square ML     :       0.009                Akaike info criterion :   -1281.275\n",
      "S.E of regression ML:      0.0955                Schwarz criterion     :   -1249.447\n",
      "\n",
      "------------------------------------------------------------------------------------\n",
      "            Variable     Coefficient       Std.Error     t-Statistic     Probability\n",
      "------------------------------------------------------------------------------------\n",
      "            CONSTANT       0.2164610       0.0036869      58.7109761       0.0000000\n",
      "              FAC1_1       0.0104882       0.0036410       2.8805640       0.0040928\n",
      "              FAC2_1      -0.0045445       0.0036476      -1.2459001       0.2132240\n",
      "              FAC3_1       0.0235923       0.0036828       6.4060106       0.0000000\n",
      "              FAC4_1      -0.0048600       0.0036557      -1.3294271       0.1841464\n",
      "              FAC5_1       0.0160174       0.0037426       4.2797003       0.0000214\n",
      "               units       0.0019439       0.0246637       0.0788174       0.9372007\n",
      "------------------------------------------------------------------------------------\n",
      "\n",
      "REGRESSION DIAGNOSTICS\n",
      "MULTICOLLINEARITY CONDITION NUMBER            1.407\n",
      "\n",
      "TEST ON NORMALITY OF ERRORS\n",
      "TEST                             DF        VALUE           PROB\n",
      "Jarque-Bera                       2         206.839           0.0000\n",
      "\n",
      "DIAGNOSTICS FOR HETEROSKEDASTICITY\n",
      "RANDOM COEFFICIENTS\n",
      "TEST                             DF        VALUE           PROB\n",
      "Breusch-Pagan test                6           5.326           0.5027\n",
      "Koenker-Bassett test              6           2.799           0.8336\n",
      "================================ END OF REPORT =====================================\n"
     ]
    }
   ],
   "source": [
    "ls = ols.OLS(y, X, name_y = 'C1Diff', name_x = list(data.columns[-5:])+['units'], name_ds = 'data')\n",
    "print(ls.summary)"
   ]
  },
  {
   "cell_type": "code",
   "execution_count": 132,
   "metadata": {},
   "outputs": [
    {
     "data": {
      "text/plain": [
       "<pysal.esda.moran.Moran at 0x1cd8658db00>"
      ]
     },
     "execution_count": 132,
     "metadata": {},
     "output_type": "execute_result"
    }
   ],
   "source": [
    "pysal.Moran(ls.u, W1, two_tailed=False)"
   ]
  },
  {
   "cell_type": "code",
   "execution_count": 133,
   "metadata": {},
   "outputs": [
    {
     "name": "stdout",
     "output_type": "stream",
     "text": [
      "Observed I: 0.527729121559 \n",
      "Expected I: -0.0014367816091954023 \n",
      "   p-value: 0.0\n"
     ]
    }
   ],
   "source": [
    "mi = pysal.Moran(ls.u, W1, two_tailed=False)\n",
    "print('Observed I:', mi.I, '\\nExpected I:', mi.EI, '\\n   p-value:', mi.p_norm)"
   ]
  },
  {
   "cell_type": "code",
   "execution_count": 134,
   "metadata": {},
   "outputs": [],
   "source": [
    "from pysal.spreg import ml_lag, ml_error"
   ]
  },
  {
   "cell_type": "code",
   "execution_count": 135,
   "metadata": {},
   "outputs": [
    {
     "name": "stdout",
     "output_type": "stream",
     "text": [
      "REGRESSION\n",
      "----------\n",
      "SUMMARY OF OUTPUT: MAXIMUM LIKELIHOOD SPATIAL LAG (METHOD = FULL)\n",
      "-----------------------------------------------------------------\n",
      "Data set            :        data\n",
      "Weights matrix      :          W1\n",
      "Dependent Variable  :      C1Diff                Number of Observations:         697\n",
      "Mean dependent var  :      0.2165                Number of Variables   :           8\n",
      "S.D. dependent var  :      0.1006                Degrees of Freedom    :         689\n",
      "Pseudo R-squared    :      0.6501\n",
      "Spatial Pseudo R-squared:  0.1044\n",
      "Sigma-square ML     :       0.004                Log likelihood        :     898.420\n",
      "S.E of regression   :       0.061                Akaike info criterion :   -1780.840\n",
      "                                                 Schwarz criterion     :   -1744.465\n",
      "\n",
      "------------------------------------------------------------------------------------\n",
      "            Variable     Coefficient       Std.Error     z-Statistic     Probability\n",
      "------------------------------------------------------------------------------------\n",
      "            CONSTANT       0.0428197       0.0059586       7.1862651       0.0000000\n",
      "              FAC1_1       0.0036403       0.0023177       1.5706595       0.1162618\n",
      "              FAC2_1      -0.0030194       0.0023210      -1.3009347       0.1932808\n",
      "              FAC3_1       0.0036854       0.0023442       1.5720968       0.1159281\n",
      "              FAC4_1       0.0015933       0.0023261       0.6849593       0.4933696\n",
      "              FAC5_1       0.0030415       0.0023823       1.2766795       0.2017154\n",
      "               units      -0.0425550       0.0156976      -2.7109275       0.0067095\n",
      "            W_C1Diff       0.8099493       0.0248818      32.5518692       0.0000000\n",
      "------------------------------------------------------------------------------------\n",
      "================================ END OF REPORT =====================================\n"
     ]
    },
    {
     "name": "stderr",
     "output_type": "stream",
     "text": [
      "C:\\Users\\sddz0\\Anaconda2\\envs\\py36\\lib\\site-packages\\scipy\\optimize\\_minimize.py:600: RuntimeWarning: Method 'bounded' does not support relative tolerance in x; defaulting to absolute tolerance.\n",
      "  \"defaulting to absolute tolerance.\", RuntimeWarning)\n"
     ]
    }
   ],
   "source": [
    "spat_err = ml_lag.ML_Lag(y, X, W1, \n",
    "                             name_y = 'C1Diff', name_x = list(data.columns[-5:])+['units'], \n",
    "                             name_w='W1', name_ds='data')\n",
    "print(spat_err.summary)"
   ]
  },
  {
   "cell_type": "code",
   "execution_count": 136,
   "metadata": {},
   "outputs": [
    {
     "data": {
      "text/plain": [
       "0.650136360474926"
      ]
     },
     "execution_count": 136,
     "metadata": {},
     "output_type": "execute_result"
    }
   ],
   "source": [
    "spat_err.pr2"
   ]
  },
  {
   "cell_type": "code",
   "execution_count": 137,
   "metadata": {},
   "outputs": [
    {
     "data": {
      "text/plain": [
       "0.10440581407170173"
      ]
     },
     "execution_count": 137,
     "metadata": {},
     "output_type": "execute_result"
    }
   ],
   "source": [
    "spat_err.pr2_e"
   ]
  },
  {
   "cell_type": "code",
   "execution_count": 89,
   "metadata": {},
   "outputs": [],
   "source": [
    "y = np.array(data['C2Diff'])"
   ]
  },
  {
   "cell_type": "code",
   "execution_count": 90,
   "metadata": {},
   "outputs": [],
   "source": [
    "y.shape = (len(y),1)"
   ]
  },
  {
   "cell_type": "code",
   "execution_count": 91,
   "metadata": {},
   "outputs": [],
   "source": [
    "X = np.array(data[list(data.columns[-5:])+['units']]).T"
   ]
  },
  {
   "cell_type": "code",
   "execution_count": 92,
   "metadata": {},
   "outputs": [],
   "source": [
    "X = X.T"
   ]
  },
  {
   "cell_type": "code",
   "execution_count": 94,
   "metadata": {},
   "outputs": [
    {
     "name": "stdout",
     "output_type": "stream",
     "text": [
      "REGRESSION\n",
      "----------\n",
      "SUMMARY OF OUTPUT: ORDINARY LEAST SQUARES\n",
      "-----------------------------------------\n",
      "Data set            :        data\n",
      "Weights matrix      :        None\n",
      "Dependent Variable  :      C2Diff                Number of Observations:         697\n",
      "Mean dependent var  :      0.2853                Number of Variables   :           7\n",
      "S.D. dependent var  :      0.1800                Degrees of Freedom    :         690\n",
      "R-squared           :      0.1135\n",
      "Adjusted R-squared  :      0.1058\n",
      "Sum squared residual:      19.981                F-statistic           :     14.7264\n",
      "Sigma-square        :       0.029                Prob(F-statistic)     :   7.146e-16\n",
      "S.E. of regression  :       0.170                Log likelihood        :     248.874\n",
      "Sigma-square ML     :       0.029                Akaike info criterion :    -483.748\n",
      "S.E of regression ML:      0.1693                Schwarz criterion     :    -451.920\n",
      "\n",
      "------------------------------------------------------------------------------------\n",
      "            Variable     Coefficient       Std.Error     t-Statistic     Probability\n",
      "------------------------------------------------------------------------------------\n",
      "            CONSTANT       0.2861170       0.0065332      43.7942954       0.0000000\n",
      "              FAC1_1      -0.0119559       0.0064519      -1.8530639       0.0642999\n",
      "              FAC2_1       0.0093368       0.0064635       1.4445321       0.1490433\n",
      "              FAC3_1       0.0400301       0.0065260       6.1339177       0.0000000\n",
      "              FAC4_1      -0.0315125       0.0064779      -4.8646080       0.0000014\n",
      "              FAC5_1       0.0312152       0.0066320       4.7067529       0.0000030\n",
      "               units      -0.0320479       0.0437043      -0.7332883       0.4636317\n",
      "------------------------------------------------------------------------------------\n",
      "\n",
      "REGRESSION DIAGNOSTICS\n",
      "MULTICOLLINEARITY CONDITION NUMBER            1.407\n",
      "\n",
      "TEST ON NORMALITY OF ERRORS\n",
      "TEST                             DF        VALUE           PROB\n",
      "Jarque-Bera                       2         164.661           0.0000\n",
      "\n",
      "DIAGNOSTICS FOR HETEROSKEDASTICITY\n",
      "RANDOM COEFFICIENTS\n",
      "TEST                             DF        VALUE           PROB\n",
      "Breusch-Pagan test                6          17.834           0.0067\n",
      "Koenker-Bassett test              6          12.457           0.0525\n",
      "================================ END OF REPORT =====================================\n"
     ]
    }
   ],
   "source": [
    "ls = ols.OLS(y, X, name_y = 'C2Diff', name_x = list(data.columns[-5:])+['units'], name_ds = 'data')\n",
    "print(ls.summary)"
   ]
  },
  {
   "cell_type": "code",
   "execution_count": 95,
   "metadata": {},
   "outputs": [
    {
     "data": {
      "text/plain": [
       "<pysal.esda.moran.Moran at 0x1cd85f9b390>"
      ]
     },
     "execution_count": 95,
     "metadata": {},
     "output_type": "execute_result"
    }
   ],
   "source": [
    "pysal.Moran(ls.u, W1, two_tailed=False)"
   ]
  },
  {
   "cell_type": "code",
   "execution_count": 96,
   "metadata": {},
   "outputs": [
    {
     "name": "stdout",
     "output_type": "stream",
     "text": [
      "Observed I: 0.66224656934 \n",
      "Expected I: -0.0014367816091954023 \n",
      "   p-value: 0.0\n"
     ]
    }
   ],
   "source": [
    "mi = pysal.Moran(ls.u, W1, two_tailed=False)\n",
    "print('Observed I:', mi.I, '\\nExpected I:', mi.EI, '\\n   p-value:', mi.p_norm)"
   ]
  },
  {
   "cell_type": "code",
   "execution_count": 97,
   "metadata": {},
   "outputs": [],
   "source": [
    "from pysal.spreg import ml_lag, ml_error"
   ]
  },
  {
   "cell_type": "code",
   "execution_count": 144,
   "metadata": {},
   "outputs": [
    {
     "data": {
      "text/plain": [
       "(697, 5)"
      ]
     },
     "execution_count": 144,
     "metadata": {},
     "output_type": "execute_result"
    }
   ],
   "source": [
    "X[:,:5]"
   ]
  },
  {
   "cell_type": "code",
   "execution_count": 161,
   "metadata": {},
   "outputs": [
    {
     "name": "stdout",
     "output_type": "stream",
     "text": [
      "REGRESSION\n",
      "----------\n",
      "SUMMARY OF OUTPUT: MAXIMUM LIKELIHOOD SPATIAL LAG (METHOD = FULL)\n",
      "-----------------------------------------------------------------\n",
      "Data set            :        data\n",
      "Weights matrix      :          W1\n",
      "Dependent Variable  :      C2Diff                Number of Observations:         697\n",
      "Mean dependent var  :      0.2165                Number of Variables   :           7\n",
      "S.D. dependent var  :      0.1006                Degrees of Freedom    :         690\n",
      "Pseudo R-squared    :      0.6440\n",
      "Spatial Pseudo R-squared:  0.2402\n",
      "Sigma-square ML     :       0.004                Log likelihood        :     894.803\n",
      "S.E of regression   :       0.062                Akaike info criterion :   -1775.606\n",
      "                                                 Schwarz criterion     :   -1743.778\n",
      "\n",
      "------------------------------------------------------------------------------------\n",
      "            Variable     Coefficient       Std.Error     z-Statistic     Probability\n",
      "------------------------------------------------------------------------------------\n",
      "            CONSTANT       0.0432731       0.0060551       7.1465255       0.0000000\n",
      "              FAC1_1       0.0035574       0.0023343       1.5239753       0.1275149\n",
      "              FAC2_1      -0.0026331       0.0023334      -1.1284708       0.2591212\n",
      "              FAC3_1       0.0028986       0.0023353       1.2412035       0.2145306\n",
      "              FAC4_1       0.0021149       0.0023332       0.9064123       0.3647176\n",
      "              FAC5_1       0.0016643       0.0023347       0.7128623       0.4759310\n",
      "            W_C2Diff       0.8030365       0.0254797      31.5167779       0.0000000\n",
      "------------------------------------------------------------------------------------\n",
      "================================ END OF REPORT =====================================\n"
     ]
    },
    {
     "name": "stderr",
     "output_type": "stream",
     "text": [
      "C:\\Users\\sddz0\\Anaconda2\\envs\\py36\\lib\\site-packages\\scipy\\optimize\\_minimize.py:600: RuntimeWarning: Method 'bounded' does not support relative tolerance in x; defaulting to absolute tolerance.\n",
      "  \"defaulting to absolute tolerance.\", RuntimeWarning)\n"
     ]
    }
   ],
   "source": [
    "spat_err0 = ml_lag.ML_Lag(y, X[:,:5], W1, \n",
    "                             name_y = 'C2Diff', name_x = list(data.columns[-5:]), \n",
    "                             name_w='W1', name_ds='data')\n",
    "print(spat_err0.summary)"
   ]
  },
  {
   "cell_type": "code",
   "execution_count": 162,
   "metadata": {},
   "outputs": [
    {
     "name": "stderr",
     "output_type": "stream",
     "text": [
      "C:\\Users\\sddz0\\Anaconda2\\envs\\py36\\lib\\site-packages\\scipy\\optimize\\_minimize.py:600: RuntimeWarning: Method 'bounded' does not support relative tolerance in x; defaulting to absolute tolerance.\n",
      "  \"defaulting to absolute tolerance.\", RuntimeWarning)\n"
     ]
    },
    {
     "name": "stdout",
     "output_type": "stream",
     "text": [
      "REGRESSION\n",
      "----------\n",
      "SUMMARY OF OUTPUT: MAXIMUM LIKELIHOOD SPATIAL LAG (METHOD = FULL)\n",
      "-----------------------------------------------------------------\n",
      "Data set            :        data\n",
      "Weights matrix      :          W1\n",
      "Dependent Variable  :      C2Diff                Number of Observations:         697\n",
      "Mean dependent var  :      0.2165                Number of Variables   :           8\n",
      "S.D. dependent var  :      0.1006                Degrees of Freedom    :         689\n",
      "Pseudo R-squared    :      0.6501\n",
      "Spatial Pseudo R-squared:  0.1044\n",
      "Sigma-square ML     :       0.004                Log likelihood        :     898.420\n",
      "S.E of regression   :       0.061                Akaike info criterion :   -1780.840\n",
      "                                                 Schwarz criterion     :   -1744.465\n",
      "\n",
      "------------------------------------------------------------------------------------\n",
      "            Variable     Coefficient       Std.Error     z-Statistic     Probability\n",
      "------------------------------------------------------------------------------------\n",
      "            CONSTANT       0.0428197       0.0059586       7.1862651       0.0000000\n",
      "              FAC1_1       0.0036403       0.0023177       1.5706595       0.1162618\n",
      "              FAC2_1      -0.0030194       0.0023210      -1.3009347       0.1932808\n",
      "              FAC3_1       0.0036854       0.0023442       1.5720968       0.1159281\n",
      "              FAC4_1       0.0015933       0.0023261       0.6849593       0.4933696\n",
      "              FAC5_1       0.0030415       0.0023823       1.2766795       0.2017154\n",
      "               units      -0.0425550       0.0156976      -2.7109275       0.0067095\n",
      "            W_C2Diff       0.8099493       0.0248818      32.5518692       0.0000000\n",
      "------------------------------------------------------------------------------------\n",
      "================================ END OF REPORT =====================================\n"
     ]
    }
   ],
   "source": [
    "spat_err = ml_lag.ML_Lag(y, X, W1, \n",
    "                             name_y = 'C2Diff', name_x = list(data.columns[-5:])+['units'], \n",
    "                             name_w='W1', name_ds='data')\n",
    "print(spat_err.summary)"
   ]
  },
  {
   "cell_type": "code",
   "execution_count": 163,
   "metadata": {},
   "outputs": [
    {
     "data": {
      "text/plain": [
       "0.650136360474926"
      ]
     },
     "execution_count": 163,
     "metadata": {},
     "output_type": "execute_result"
    }
   ],
   "source": [
    "spat_err.pr2"
   ]
  },
  {
   "cell_type": "code",
   "execution_count": 164,
   "metadata": {},
   "outputs": [
    {
     "data": {
      "text/plain": [
       "0.10440581407170173"
      ]
     },
     "execution_count": 164,
     "metadata": {},
     "output_type": "execute_result"
    }
   ],
   "source": [
    "spat_err.pr2_e"
   ]
  }
 ],
 "metadata": {
  "kernelspec": {
   "display_name": "Python 3",
   "language": "python",
   "name": "python3"
  },
  "language_info": {
   "codemirror_mode": {
    "name": "ipython",
    "version": 3
   },
   "file_extension": ".py",
   "mimetype": "text/x-python",
   "name": "python",
   "nbconvert_exporter": "python",
   "pygments_lexer": "ipython3",
   "version": "3.6.2"
  }
 },
 "nbformat": 4,
 "nbformat_minor": 2
}
