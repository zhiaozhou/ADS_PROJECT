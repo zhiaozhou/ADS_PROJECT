{
 "cells": [
  {
   "cell_type": "code",
   "execution_count": 3,
   "metadata": {},
   "outputs": [
    {
     "name": "stdout",
     "output_type": "stream",
     "text": [
      "Populating the interactive namespace from numpy and matplotlib\n"
     ]
    }
   ],
   "source": [
    "import pandas as pd\n",
    "import numpy as np\n",
    "import matplotlib.pyplot as plt\n",
    "%pylab inline\n",
    "import scipy.stats\n",
    "import statsmodels.formula.api as smf\n",
    "import statsmodels.api as sm\n",
    "import urllib\n",
    "import requests\n",
    "import zipfile\n",
    "pd.set_option('display.max_rows', 50)\n",
    "pd.set_option('display.max_columns', 50)\n",
    "from sklearn.decomposition import PCA\n",
    "import geopandas as gpd\n",
    "from sklearn.model_selection import train_test_split\n",
    "from sklearn import linear_model\n",
    "from fiona.crs import from_epsg\n",
    "import os\n",
    "from astropy.stats import median_absolute_deviation\n",
    "from sklearn.decomposition import FactorAnalysis\n",
    "from sklearn.model_selection import cross_val_score\n",
    "from factor_analyzer import FactorAnalyzer"
   ]
  },
  {
   "cell_type": "code",
   "execution_count": 4,
   "metadata": {},
   "outputs": [],
   "source": [
    "data = pd.read_csv('DATA/BKtotalv2class1.csv')"
   ]
  },
  {
   "cell_type": "code",
   "execution_count": 5,
   "metadata": {},
   "outputs": [
    {
     "data": {
      "text/html": [
       "<div>\n",
       "<style>\n",
       "    .dataframe thead tr:only-child th {\n",
       "        text-align: right;\n",
       "    }\n",
       "\n",
       "    .dataframe thead th {\n",
       "        text-align: left;\n",
       "    }\n",
       "\n",
       "    .dataframe tbody tr th {\n",
       "        vertical-align: top;\n",
       "    }\n",
       "</style>\n",
       "<table border=\"1\" class=\"dataframe\">\n",
       "  <thead>\n",
       "    <tr style=\"text-align: right;\">\n",
       "      <th></th>\n",
       "      <th>Unnamed: 0</th>\n",
       "      <th>GEOID</th>\n",
       "      <th>pickups_intract</th>\n",
       "      <th>NYPDfelony</th>\n",
       "      <th>units</th>\n",
       "      <th>perSQFTvalueC1</th>\n",
       "      <th>newperSQFTvalueC1</th>\n",
       "      <th>Pop_Den</th>\n",
       "      <th>Median_Household_Income</th>\n",
       "      <th>Gini_Index</th>\n",
       "      <th>Ave_Commute_Min</th>\n",
       "      <th>Unemployed_rate_16</th>\n",
       "      <th>Moved_after_2010</th>\n",
       "    </tr>\n",
       "  </thead>\n",
       "  <tbody>\n",
       "    <tr>\n",
       "      <th>0</th>\n",
       "      <td>1</td>\n",
       "      <td>36047000100</td>\n",
       "      <td>102138.80700</td>\n",
       "      <td>26</td>\n",
       "      <td>106.0</td>\n",
       "      <td>1190.616338</td>\n",
       "      <td>1459.290687</td>\n",
       "      <td>49889.94</td>\n",
       "      <td>70938</td>\n",
       "      <td>0.5568</td>\n",
       "      <td>33</td>\n",
       "      <td>0.041451</td>\n",
       "      <td>0.267808</td>\n",
       "    </tr>\n",
       "    <tr>\n",
       "      <th>1</th>\n",
       "      <td>2</td>\n",
       "      <td>36047000200</td>\n",
       "      <td>21497.86679</td>\n",
       "      <td>84</td>\n",
       "      <td>NaN</td>\n",
       "      <td>243.786509</td>\n",
       "      <td>313.939797</td>\n",
       "      <td>16619.20</td>\n",
       "      <td>34740</td>\n",
       "      <td>0.4267</td>\n",
       "      <td>38</td>\n",
       "      <td>0.079075</td>\n",
       "      <td>0.254157</td>\n",
       "    </tr>\n",
       "    <tr>\n",
       "      <th>2</th>\n",
       "      <td>3</td>\n",
       "      <td>36047000301</td>\n",
       "      <td>96582.50072</td>\n",
       "      <td>46</td>\n",
       "      <td>NaN</td>\n",
       "      <td>NaN</td>\n",
       "      <td>NaN</td>\n",
       "      <td>48017.63</td>\n",
       "      <td>101544</td>\n",
       "      <td>0.5830</td>\n",
       "      <td>31</td>\n",
       "      <td>0.030144</td>\n",
       "      <td>0.319527</td>\n",
       "    </tr>\n",
       "    <tr>\n",
       "      <th>3</th>\n",
       "      <td>4</td>\n",
       "      <td>36047000501</td>\n",
       "      <td>39175.79425</td>\n",
       "      <td>17</td>\n",
       "      <td>62.0</td>\n",
       "      <td>NaN</td>\n",
       "      <td>NaN</td>\n",
       "      <td>147218.90</td>\n",
       "      <td>110700</td>\n",
       "      <td>0.5084</td>\n",
       "      <td>30</td>\n",
       "      <td>0.070352</td>\n",
       "      <td>0.369855</td>\n",
       "    </tr>\n",
       "    <tr>\n",
       "      <th>4</th>\n",
       "      <td>5</td>\n",
       "      <td>36047000502</td>\n",
       "      <td>45341.36746</td>\n",
       "      <td>38</td>\n",
       "      <td>NaN</td>\n",
       "      <td>1317.588974</td>\n",
       "      <td>1528.943303</td>\n",
       "      <td>69557.17</td>\n",
       "      <td>91964</td>\n",
       "      <td>0.5410</td>\n",
       "      <td>30</td>\n",
       "      <td>0.078696</td>\n",
       "      <td>0.304762</td>\n",
       "    </tr>\n",
       "  </tbody>\n",
       "</table>\n",
       "</div>"
      ],
      "text/plain": [
       "   Unnamed: 0        GEOID  pickups_intract  NYPDfelony  units  \\\n",
       "0           1  36047000100     102138.80700          26  106.0   \n",
       "1           2  36047000200      21497.86679          84    NaN   \n",
       "2           3  36047000301      96582.50072          46    NaN   \n",
       "3           4  36047000501      39175.79425          17   62.0   \n",
       "4           5  36047000502      45341.36746          38    NaN   \n",
       "\n",
       "   perSQFTvalueC1  newperSQFTvalueC1    Pop_Den  Median_Household_Income  \\\n",
       "0     1190.616338        1459.290687   49889.94                    70938   \n",
       "1      243.786509         313.939797   16619.20                    34740   \n",
       "2             NaN                NaN   48017.63                   101544   \n",
       "3             NaN                NaN  147218.90                   110700   \n",
       "4     1317.588974        1528.943303   69557.17                    91964   \n",
       "\n",
       "   Gini_Index  Ave_Commute_Min  Unemployed_rate_16  Moved_after_2010  \n",
       "0      0.5568               33            0.041451          0.267808  \n",
       "1      0.4267               38            0.079075          0.254157  \n",
       "2      0.5830               31            0.030144          0.319527  \n",
       "3      0.5084               30            0.070352          0.369855  \n",
       "4      0.5410               30            0.078696          0.304762  "
      ]
     },
     "execution_count": 5,
     "metadata": {},
     "output_type": "execute_result"
    }
   ],
   "source": [
    "data.head()"
   ]
  },
  {
   "cell_type": "code",
   "execution_count": 6,
   "metadata": {},
   "outputs": [],
   "source": [
    "data.units = data.units.replace(np.nan,0)"
   ]
  },
  {
   "cell_type": "code",
   "execution_count": 7,
   "metadata": {},
   "outputs": [],
   "source": [
    "data = data.drop(['Unnamed: 0'],axis=1)"
   ]
  },
  {
   "cell_type": "code",
   "execution_count": 8,
   "metadata": {},
   "outputs": [
    {
     "data": {
      "text/html": [
       "<div>\n",
       "<style>\n",
       "    .dataframe thead tr:only-child th {\n",
       "        text-align: right;\n",
       "    }\n",
       "\n",
       "    .dataframe thead th {\n",
       "        text-align: left;\n",
       "    }\n",
       "\n",
       "    .dataframe tbody tr th {\n",
       "        vertical-align: top;\n",
       "    }\n",
       "</style>\n",
       "<table border=\"1\" class=\"dataframe\">\n",
       "  <thead>\n",
       "    <tr style=\"text-align: right;\">\n",
       "      <th></th>\n",
       "      <th>GEOID</th>\n",
       "      <th>pickups_intract</th>\n",
       "      <th>NYPDfelony</th>\n",
       "      <th>units</th>\n",
       "      <th>perSQFTvalueC1</th>\n",
       "      <th>newperSQFTvalueC1</th>\n",
       "      <th>Pop_Den</th>\n",
       "      <th>Median_Household_Income</th>\n",
       "      <th>Gini_Index</th>\n",
       "      <th>Ave_Commute_Min</th>\n",
       "      <th>Unemployed_rate_16</th>\n",
       "      <th>Moved_after_2010</th>\n",
       "    </tr>\n",
       "  </thead>\n",
       "  <tbody>\n",
       "    <tr>\n",
       "      <th>0</th>\n",
       "      <td>36047000100</td>\n",
       "      <td>102138.80700</td>\n",
       "      <td>26</td>\n",
       "      <td>106.0</td>\n",
       "      <td>1190.616338</td>\n",
       "      <td>1459.290687</td>\n",
       "      <td>49889.94</td>\n",
       "      <td>70938</td>\n",
       "      <td>0.5568</td>\n",
       "      <td>33</td>\n",
       "      <td>0.041451</td>\n",
       "      <td>0.267808</td>\n",
       "    </tr>\n",
       "    <tr>\n",
       "      <th>1</th>\n",
       "      <td>36047000200</td>\n",
       "      <td>21497.86679</td>\n",
       "      <td>84</td>\n",
       "      <td>0.0</td>\n",
       "      <td>243.786509</td>\n",
       "      <td>313.939797</td>\n",
       "      <td>16619.20</td>\n",
       "      <td>34740</td>\n",
       "      <td>0.4267</td>\n",
       "      <td>38</td>\n",
       "      <td>0.079075</td>\n",
       "      <td>0.254157</td>\n",
       "    </tr>\n",
       "    <tr>\n",
       "      <th>2</th>\n",
       "      <td>36047000301</td>\n",
       "      <td>96582.50072</td>\n",
       "      <td>46</td>\n",
       "      <td>0.0</td>\n",
       "      <td>NaN</td>\n",
       "      <td>NaN</td>\n",
       "      <td>48017.63</td>\n",
       "      <td>101544</td>\n",
       "      <td>0.5830</td>\n",
       "      <td>31</td>\n",
       "      <td>0.030144</td>\n",
       "      <td>0.319527</td>\n",
       "    </tr>\n",
       "  </tbody>\n",
       "</table>\n",
       "</div>"
      ],
      "text/plain": [
       "         GEOID  pickups_intract  NYPDfelony  units  perSQFTvalueC1  \\\n",
       "0  36047000100     102138.80700          26  106.0     1190.616338   \n",
       "1  36047000200      21497.86679          84    0.0      243.786509   \n",
       "2  36047000301      96582.50072          46    0.0             NaN   \n",
       "\n",
       "   newperSQFTvalueC1   Pop_Den  Median_Household_Income  Gini_Index  \\\n",
       "0        1459.290687  49889.94                    70938      0.5568   \n",
       "1         313.939797  16619.20                    34740      0.4267   \n",
       "2                NaN  48017.63                   101544      0.5830   \n",
       "\n",
       "   Ave_Commute_Min  Unemployed_rate_16  Moved_after_2010  \n",
       "0               33            0.041451          0.267808  \n",
       "1               38            0.079075          0.254157  \n",
       "2               31            0.030144          0.319527  "
      ]
     },
     "execution_count": 8,
     "metadata": {},
     "output_type": "execute_result"
    }
   ],
   "source": [
    "data.head(3)"
   ]
  },
  {
   "cell_type": "code",
   "execution_count": 9,
   "metadata": {},
   "outputs": [],
   "source": [
    "TRACT = gpd.GeoDataFrame.from_file('DATA/gz_2010_36_140_00_500k/gz_2010_36_140_00_500k.shp')"
   ]
  },
  {
   "cell_type": "code",
   "execution_count": 10,
   "metadata": {},
   "outputs": [],
   "source": [
    "TRACT.GEO_ID = TRACT.GEO_ID.str[9:]"
   ]
  },
  {
   "cell_type": "code",
   "execution_count": 11,
   "metadata": {},
   "outputs": [],
   "source": [
    "data.GEOID = data.GEOID.astype('str')"
   ]
  },
  {
   "cell_type": "code",
   "execution_count": 12,
   "metadata": {},
   "outputs": [],
   "source": [
    "data = pd.merge(TRACT,data,left_on='GEO_ID',right_on='GEOID')"
   ]
  },
  {
   "cell_type": "code",
   "execution_count": 13,
   "metadata": {},
   "outputs": [],
   "source": [
    "data.TRACT = data.TRACT.astype('int64')"
   ]
  },
  {
   "cell_type": "code",
   "execution_count": 14,
   "metadata": {},
   "outputs": [],
   "source": [
    "NTA = pd.read_csv('DATA/2010CensusTract_PUMA_NTA(1).csv')"
   ]
  },
  {
   "cell_type": "code",
   "execution_count": 15,
   "metadata": {},
   "outputs": [],
   "source": [
    "NTA = NTA[NTA['Borough'] == 'Brooklyn']"
   ]
  },
  {
   "cell_type": "code",
   "execution_count": 16,
   "metadata": {
    "scrolled": false
   },
   "outputs": [],
   "source": [
    "data = pd.merge(data,NTA,left_on='TRACT',right_on='2010CensusTract')"
   ]
  },
  {
   "cell_type": "code",
   "execution_count": 17,
   "metadata": {
    "scrolled": true
   },
   "outputs": [
    {
     "data": {
      "text/plain": [
       "50115.333734999993"
      ]
     },
     "execution_count": 17,
     "metadata": {},
     "output_type": "execute_result"
    }
   ],
   "source": [
    "data.groupby('PUMA').median()['pickups_intract'][4001]"
   ]
  },
  {
   "cell_type": "code",
   "execution_count": 18,
   "metadata": {
    "scrolled": false
   },
   "outputs": [],
   "source": [
    "def median_interpolation(data,columns):\n",
    "    for column in columns:\n",
    "        for i in range(len(data.index)):\n",
    "            if np.isnan(data[column][i]):\n",
    "                data[column][i] = data.groupby('PUMA').median()[column][data['PUMA'][i]] \n",
    "    return data"
   ]
  },
  {
   "cell_type": "code",
   "execution_count": 19,
   "metadata": {},
   "outputs": [
    {
     "data": {
      "text/plain": [
       "Index(['pickups_intract', 'NYPDfelony', 'units', 'perSQFTvalueC1',\n",
       "       'newperSQFTvalueC1', 'Pop_Den', 'Median_Household_Income', 'Gini_Index',\n",
       "       'Ave_Commute_Min', 'Unemployed_rate_16', 'Moved_after_2010'],\n",
       "      dtype='object')"
      ]
     },
     "execution_count": 19,
     "metadata": {},
     "output_type": "execute_result"
    }
   ],
   "source": [
    "data.columns[9:20]"
   ]
  },
  {
   "cell_type": "code",
   "execution_count": 20,
   "metadata": {},
   "outputs": [
    {
     "name": "stderr",
     "output_type": "stream",
     "text": [
      "C:\\Users\\sddz0\\Anaconda2\\envs\\py36\\lib\\site-packages\\ipykernel_launcher.py:5: SettingWithCopyWarning: \n",
      "A value is trying to be set on a copy of a slice from a DataFrame\n",
      "\n",
      "See the caveats in the documentation: http://pandas.pydata.org/pandas-docs/stable/indexing.html#indexing-view-versus-copy\n",
      "  \"\"\"\n"
     ]
    }
   ],
   "source": [
    "data = median_interpolation(data,data.columns[9:20])"
   ]
  },
  {
   "cell_type": "code",
   "execution_count": 21,
   "metadata": {},
   "outputs": [
    {
     "data": {
      "text/plain": [
       "GEO_ID                     0\n",
       "STATE                      0\n",
       "COUNTY                     0\n",
       "TRACT                      0\n",
       "NAME                       0\n",
       "LSAD                       0\n",
       "CENSUSAREA                 0\n",
       "geometry                   0\n",
       "GEOID                      0\n",
       "pickups_intract            0\n",
       "NYPDfelony                 0\n",
       "units                      0\n",
       "perSQFTvalueC1             0\n",
       "newperSQFTvalueC1          0\n",
       "Pop_Den                    0\n",
       "Median_Household_Income    0\n",
       "Gini_Index                 0\n",
       "Ave_Commute_Min            0\n",
       "Unemployed_rate_16         0\n",
       "Moved_after_2010           0\n",
       "Borough                    0\n",
       "2010CensusTract            0\n",
       "PUMA                       0\n",
       "NTA_Code                   0\n",
       "NTA_Name                   0\n",
       "dtype: int64"
      ]
     },
     "execution_count": 21,
     "metadata": {},
     "output_type": "execute_result"
    }
   ],
   "source": [
    "data.isnull().sum()"
   ]
  },
  {
   "cell_type": "markdown",
   "metadata": {},
   "source": [
    "## Normalization"
   ]
  },
  {
   "cell_type": "code",
   "execution_count": 22,
   "metadata": {},
   "outputs": [
    {
     "data": {
      "text/plain": [
       "Index(['pickups_intract', 'NYPDfelony', 'units', 'perSQFTvalueC1',\n",
       "       'newperSQFTvalueC1', 'Pop_Den', 'Median_Household_Income', 'Gini_Index',\n",
       "       'Ave_Commute_Min', 'Unemployed_rate_16', 'Moved_after_2010'],\n",
       "      dtype='object')"
      ]
     },
     "execution_count": 22,
     "metadata": {},
     "output_type": "execute_result"
    }
   ],
   "source": [
    "data.columns[9:20]"
   ]
  },
  {
   "cell_type": "code",
   "execution_count": 23,
   "metadata": {},
   "outputs": [],
   "source": [
    "def norm(data,columns):\n",
    "    for x in columns:\n",
    "        data[x] = (data[x]-np.min(data[x]))/(np.max(data[x])-np.min(data[x]))\n",
    "    return data"
   ]
  },
  {
   "cell_type": "code",
   "execution_count": 24,
   "metadata": {},
   "outputs": [],
   "source": [
    "data = norm(data,data.columns[9:20])"
   ]
  },
  {
   "cell_type": "code",
   "execution_count": 25,
   "metadata": {},
   "outputs": [
    {
     "data": {
      "text/html": [
       "<div>\n",
       "<style>\n",
       "    .dataframe thead tr:only-child th {\n",
       "        text-align: right;\n",
       "    }\n",
       "\n",
       "    .dataframe thead th {\n",
       "        text-align: left;\n",
       "    }\n",
       "\n",
       "    .dataframe tbody tr th {\n",
       "        vertical-align: top;\n",
       "    }\n",
       "</style>\n",
       "<table border=\"1\" class=\"dataframe\">\n",
       "  <thead>\n",
       "    <tr style=\"text-align: right;\">\n",
       "      <th></th>\n",
       "      <th>GEO_ID</th>\n",
       "      <th>STATE</th>\n",
       "      <th>COUNTY</th>\n",
       "      <th>TRACT</th>\n",
       "      <th>NAME</th>\n",
       "      <th>LSAD</th>\n",
       "      <th>CENSUSAREA</th>\n",
       "      <th>geometry</th>\n",
       "      <th>GEOID</th>\n",
       "      <th>pickups_intract</th>\n",
       "      <th>NYPDfelony</th>\n",
       "      <th>units</th>\n",
       "      <th>perSQFTvalueC1</th>\n",
       "      <th>newperSQFTvalueC1</th>\n",
       "      <th>Pop_Den</th>\n",
       "      <th>Median_Household_Income</th>\n",
       "      <th>Gini_Index</th>\n",
       "      <th>Ave_Commute_Min</th>\n",
       "      <th>Unemployed_rate_16</th>\n",
       "      <th>Moved_after_2010</th>\n",
       "      <th>Borough</th>\n",
       "      <th>2010CensusTract</th>\n",
       "      <th>PUMA</th>\n",
       "      <th>NTA_Code</th>\n",
       "      <th>NTA_Name</th>\n",
       "    </tr>\n",
       "  </thead>\n",
       "  <tbody>\n",
       "    <tr>\n",
       "      <th>0</th>\n",
       "      <td>36047010400</td>\n",
       "      <td>36</td>\n",
       "      <td>047</td>\n",
       "      <td>10400</td>\n",
       "      <td>104</td>\n",
       "      <td>Tract</td>\n",
       "      <td>0.059</td>\n",
       "      <td>POLYGON ((-74.01115399999999 40.637404, -74.01...</td>\n",
       "      <td>36047010400</td>\n",
       "      <td>0.019185</td>\n",
       "      <td>0.110075</td>\n",
       "      <td>0.0</td>\n",
       "      <td>0.228848</td>\n",
       "      <td>0.193397</td>\n",
       "      <td>0.619398</td>\n",
       "      <td>0.141055</td>\n",
       "      <td>0.419984</td>\n",
       "      <td>0.403846</td>\n",
       "      <td>0.175398</td>\n",
       "      <td>0.333929</td>\n",
       "      <td>Brooklyn</td>\n",
       "      <td>10400</td>\n",
       "      <td>4012</td>\n",
       "      <td>BK34</td>\n",
       "      <td>Sunset Park East</td>\n",
       "    </tr>\n",
       "  </tbody>\n",
       "</table>\n",
       "</div>"
      ],
      "text/plain": [
       "        GEO_ID STATE COUNTY  TRACT NAME   LSAD  CENSUSAREA  \\\n",
       "0  36047010400    36    047  10400  104  Tract       0.059   \n",
       "\n",
       "                                            geometry        GEOID  \\\n",
       "0  POLYGON ((-74.01115399999999 40.637404, -74.01...  36047010400   \n",
       "\n",
       "   pickups_intract  NYPDfelony  units  perSQFTvalueC1  newperSQFTvalueC1  \\\n",
       "0         0.019185    0.110075    0.0        0.228848           0.193397   \n",
       "\n",
       "    Pop_Den  Median_Household_Income  Gini_Index  Ave_Commute_Min  \\\n",
       "0  0.619398                 0.141055    0.419984         0.403846   \n",
       "\n",
       "   Unemployed_rate_16  Moved_after_2010   Borough  2010CensusTract  PUMA  \\\n",
       "0            0.175398          0.333929  Brooklyn            10400  4012   \n",
       "\n",
       "  NTA_Code          NTA_Name  \n",
       "0     BK34  Sunset Park East  "
      ]
     },
     "execution_count": 25,
     "metadata": {},
     "output_type": "execute_result"
    }
   ],
   "source": [
    "data.head(1)"
   ]
  },
  {
   "cell_type": "markdown",
   "metadata": {},
   "source": [
    "## Outliers"
   ]
  },
  {
   "cell_type": "code",
   "execution_count": 26,
   "metadata": {},
   "outputs": [],
   "source": [
    "\n",
    "def clean(data,columns):\n",
    "    for x in columns:\n",
    "        #data= data[(np.abs(data[x]-np.median(data[x]))/(np.median(np.abs(data[x]-np.median(data[x])))/0.6745)) < 2.24]\n",
    "        data = data[(data[x]<np.mean(data[x])+4*np.std(data[x]))&(data[x]>np.mean(data[x])-4*np.std(data[x]))]\n",
    "    return data"
   ]
  },
  {
   "cell_type": "code",
   "execution_count": 27,
   "metadata": {},
   "outputs": [],
   "source": [
    "data = clean(data,data.columns[9:20])"
   ]
  },
  {
   "cell_type": "code",
   "execution_count": 28,
   "metadata": {},
   "outputs": [
    {
     "data": {
      "text/plain": [
       "(704, 25)"
      ]
     },
     "execution_count": 28,
     "metadata": {},
     "output_type": "execute_result"
    }
   ],
   "source": [
    "data.shape"
   ]
  },
  {
   "cell_type": "code",
   "execution_count": 29,
   "metadata": {},
   "outputs": [
    {
     "data": {
      "text/plain": [
       "<matplotlib.axes._subplots.AxesSubplot at 0x24abe4b42b0>"
      ]
     },
     "execution_count": 29,
     "metadata": {},
     "output_type": "execute_result"
    },
    {
     "data": {
      "image/png": "[encoded data removed]",
      "text/plain": [
       "<matplotlib.figure.Figure at 0x24abe64a828>"
      ]
     },
     "metadata": {},
     "output_type": "display_data"
    }
   ],
   "source": [
    "data.plot()"
   ]
  },
  {
   "cell_type": "markdown",
   "metadata": {},
   "source": [
    "## PCA"
   ]
  },
  {
   "cell_type": "code",
   "execution_count": 141,
   "metadata": {},
   "outputs": [],
   "source": [
    "X_num = data[data.columns[9:20]].drop(['units','perSQFTvalueC1','newperSQFTvalueC1'],axis=1)\n",
    "pca = PCA(0.90)\n",
    "Xproj = pca.fit_transform(X_num)"
   ]
  },
  {
   "cell_type": "code",
   "execution_count": 142,
   "metadata": {},
   "outputs": [
    {
     "data": {
      "text/plain": [
       "array([ 0.31878609,  0.21074858,  0.18507933,  0.11457502,  0.07700643])"
      ]
     },
     "execution_count": 142,
     "metadata": {},
     "output_type": "execute_result"
    }
   ],
   "source": [
    "pca.explained_variance_ratio_"
   ]
  },
  {
   "cell_type": "code",
   "execution_count": 143,
   "metadata": {
    "scrolled": true
   },
   "outputs": [
    {
     "data": {
      "text/html": [
       "<div>\n",
       "<style>\n",
       "    .dataframe thead tr:only-child th {\n",
       "        text-align: right;\n",
       "    }\n",
       "\n",
       "    .dataframe thead th {\n",
       "        text-align: left;\n",
       "    }\n",
       "\n",
       "    .dataframe tbody tr th {\n",
       "        vertical-align: top;\n",
       "    }\n",
       "</style>\n",
       "<table border=\"1\" class=\"dataframe\">\n",
       "  <thead>\n",
       "    <tr style=\"text-align: right;\">\n",
       "      <th></th>\n",
       "      <th>pickups_intract</th>\n",
       "      <th>NYPDfelony</th>\n",
       "      <th>Pop_Den</th>\n",
       "      <th>Median_Household_Income</th>\n",
       "      <th>Gini_Index</th>\n",
       "      <th>Ave_Commute_Min</th>\n",
       "      <th>Unemployed_rate_16</th>\n",
       "      <th>Moved_after_2010</th>\n",
       "    </tr>\n",
       "  </thead>\n",
       "  <tbody>\n",
       "    <tr>\n",
       "      <th>0</th>\n",
       "      <td>0.022872</td>\n",
       "      <td>0.139519</td>\n",
       "      <td>0.524210</td>\n",
       "      <td>-0.416655</td>\n",
       "      <td>0.686662</td>\n",
       "      <td>-0.120681</td>\n",
       "      <td>0.148490</td>\n",
       "      <td>0.153285</td>\n",
       "    </tr>\n",
       "    <tr>\n",
       "      <th>1</th>\n",
       "      <td>-0.053464</td>\n",
       "      <td>0.081182</td>\n",
       "      <td>0.677213</td>\n",
       "      <td>-0.162360</td>\n",
       "      <td>-0.599609</td>\n",
       "      <td>0.364738</td>\n",
       "      <td>0.101848</td>\n",
       "      <td>0.051331</td>\n",
       "    </tr>\n",
       "    <tr>\n",
       "      <th>2</th>\n",
       "      <td>-0.207661</td>\n",
       "      <td>0.055894</td>\n",
       "      <td>-0.332415</td>\n",
       "      <td>-0.368765</td>\n",
       "      <td>0.173434</td>\n",
       "      <td>0.675705</td>\n",
       "      <td>0.265419</td>\n",
       "      <td>-0.387507</td>\n",
       "    </tr>\n",
       "    <tr>\n",
       "      <th>3</th>\n",
       "      <td>-0.237787</td>\n",
       "      <td>-0.305513</td>\n",
       "      <td>0.247022</td>\n",
       "      <td>-0.101730</td>\n",
       "      <td>-0.027523</td>\n",
       "      <td>-0.354394</td>\n",
       "      <td>-0.182288</td>\n",
       "      <td>-0.786873</td>\n",
       "    </tr>\n",
       "    <tr>\n",
       "      <th>4</th>\n",
       "      <td>-0.084122</td>\n",
       "      <td>-0.332352</td>\n",
       "      <td>0.282136</td>\n",
       "      <td>0.602756</td>\n",
       "      <td>0.364678</td>\n",
       "      <td>0.481946</td>\n",
       "      <td>-0.272552</td>\n",
       "      <td>-0.001572</td>\n",
       "    </tr>\n",
       "  </tbody>\n",
       "</table>\n",
       "</div>"
      ],
      "text/plain": [
       "   pickups_intract  NYPDfelony   Pop_Den  Median_Household_Income  Gini_Index  \\\n",
       "0         0.022872    0.139519  0.524210                -0.416655    0.686662   \n",
       "1        -0.053464    0.081182  0.677213                -0.162360   -0.599609   \n",
       "2        -0.207661    0.055894 -0.332415                -0.368765    0.173434   \n",
       "3        -0.237787   -0.305513  0.247022                -0.101730   -0.027523   \n",
       "4        -0.084122   -0.332352  0.282136                 0.602756    0.364678   \n",
       "\n",
       "   Ave_Commute_Min  Unemployed_rate_16  Moved_after_2010  \n",
       "0        -0.120681            0.148490          0.153285  \n",
       "1         0.364738            0.101848          0.051331  \n",
       "2         0.675705            0.265419         -0.387507  \n",
       "3        -0.354394           -0.182288         -0.786873  \n",
       "4         0.481946           -0.272552         -0.001572  "
      ]
     },
     "execution_count": 143,
     "metadata": {},
     "output_type": "execute_result"
    }
   ],
   "source": [
    "components_explanation = pd.DataFrame(pca.components_,columns = X_num.columns)\n",
    "components_explanation"
   ]
  },
  {
   "cell_type": "markdown",
   "metadata": {},
   "source": [
    "## FA"
   ]
  },
  {
   "cell_type": "code",
   "execution_count": 120,
   "metadata": {},
   "outputs": [],
   "source": [
    "fa = FactorAnalyzer()"
   ]
  },
  {
   "cell_type": "code",
   "execution_count": 161,
   "metadata": {},
   "outputs": [],
   "source": [
    "fa.analyze(X_num,4,rotation='varimax')"
   ]
  },
  {
   "cell_type": "code",
   "execution_count": 162,
   "metadata": {},
   "outputs": [
    {
     "data": {
      "text/html": [
       "<div>\n",
       "<style>\n",
       "    .dataframe thead tr:only-child th {\n",
       "        text-align: right;\n",
       "    }\n",
       "\n",
       "    .dataframe thead th {\n",
       "        text-align: left;\n",
       "    }\n",
       "\n",
       "    .dataframe tbody tr th {\n",
       "        vertical-align: top;\n",
       "    }\n",
       "</style>\n",
       "<table border=\"1\" class=\"dataframe\">\n",
       "  <thead>\n",
       "    <tr style=\"text-align: right;\">\n",
       "      <th></th>\n",
       "      <th>Communalities</th>\n",
       "    </tr>\n",
       "  </thead>\n",
       "  <tbody>\n",
       "    <tr>\n",
       "      <th>pickups_intract</th>\n",
       "      <td>0.797573</td>\n",
       "    </tr>\n",
       "    <tr>\n",
       "      <th>NYPDfelony</th>\n",
       "      <td>0.475974</td>\n",
       "    </tr>\n",
       "    <tr>\n",
       "      <th>Pop_Den</th>\n",
       "      <td>0.332663</td>\n",
       "    </tr>\n",
       "    <tr>\n",
       "      <th>Median_Household_Income</th>\n",
       "      <td>0.781660</td>\n",
       "    </tr>\n",
       "    <tr>\n",
       "      <th>Gini_Index</th>\n",
       "      <td>0.323391</td>\n",
       "    </tr>\n",
       "    <tr>\n",
       "      <th>Ave_Commute_Min</th>\n",
       "      <td>0.536534</td>\n",
       "    </tr>\n",
       "    <tr>\n",
       "      <th>Unemployed_rate_16</th>\n",
       "      <td>0.476885</td>\n",
       "    </tr>\n",
       "    <tr>\n",
       "      <th>Moved_after_2010</th>\n",
       "      <td>0.394284</td>\n",
       "    </tr>\n",
       "  </tbody>\n",
       "</table>\n",
       "</div>"
      ],
      "text/plain": [
       "                         Communalities\n",
       "pickups_intract               0.797573\n",
       "NYPDfelony                    0.475974\n",
       "Pop_Den                       0.332663\n",
       "Median_Household_Income       0.781660\n",
       "Gini_Index                    0.323391\n",
       "Ave_Commute_Min               0.536534\n",
       "Unemployed_rate_16            0.476885\n",
       "Moved_after_2010              0.394284"
      ]
     },
     "execution_count": 162,
     "metadata": {},
     "output_type": "execute_result"
    }
   ],
   "source": [
    "fa.get_communalities()"
   ]
  },
  {
   "cell_type": "code",
   "execution_count": 163,
   "metadata": {},
   "outputs": [
    {
     "data": {
      "text/html": [
       "<div>\n",
       "<style>\n",
       "    .dataframe thead tr:only-child th {\n",
       "        text-align: right;\n",
       "    }\n",
       "\n",
       "    .dataframe thead th {\n",
       "        text-align: left;\n",
       "    }\n",
       "\n",
       "    .dataframe tbody tr th {\n",
       "        vertical-align: top;\n",
       "    }\n",
       "</style>\n",
       "<table border=\"1\" class=\"dataframe\">\n",
       "  <thead>\n",
       "    <tr style=\"text-align: right;\">\n",
       "      <th></th>\n",
       "      <th>Factor1</th>\n",
       "      <th>Factor2</th>\n",
       "      <th>Factor3</th>\n",
       "      <th>Factor4</th>\n",
       "    </tr>\n",
       "  </thead>\n",
       "  <tbody>\n",
       "    <tr>\n",
       "      <th>pickups_intract</th>\n",
       "      <td>0.010218</td>\n",
       "      <td>0.879055</td>\n",
       "      <td>0.095660</td>\n",
       "      <td>0.124820</td>\n",
       "    </tr>\n",
       "    <tr>\n",
       "      <th>NYPDfelony</th>\n",
       "      <td>0.548499</td>\n",
       "      <td>0.368355</td>\n",
       "      <td>0.101011</td>\n",
       "      <td>-0.170983</td>\n",
       "    </tr>\n",
       "    <tr>\n",
       "      <th>Pop_Den</th>\n",
       "      <td>0.081502</td>\n",
       "      <td>0.098470</td>\n",
       "      <td>0.099506</td>\n",
       "      <td>-0.553555</td>\n",
       "    </tr>\n",
       "    <tr>\n",
       "      <th>Median_Household_Income</th>\n",
       "      <td>-0.509202</td>\n",
       "      <td>0.271541</td>\n",
       "      <td>-0.447103</td>\n",
       "      <td>0.498736</td>\n",
       "    </tr>\n",
       "    <tr>\n",
       "      <th>Gini_Index</th>\n",
       "      <td>0.133993</td>\n",
       "      <td>0.033913</td>\n",
       "      <td>0.537357</td>\n",
       "      <td>-0.124635</td>\n",
       "    </tr>\n",
       "    <tr>\n",
       "      <th>Ave_Commute_Min</th>\n",
       "      <td>0.480726</td>\n",
       "      <td>-0.315555</td>\n",
       "      <td>-0.453679</td>\n",
       "      <td>-0.006057</td>\n",
       "    </tr>\n",
       "    <tr>\n",
       "      <th>Unemployed_rate_16</th>\n",
       "      <td>0.677214</td>\n",
       "      <td>-0.009846</td>\n",
       "      <td>0.115215</td>\n",
       "      <td>-0.069964</td>\n",
       "    </tr>\n",
       "    <tr>\n",
       "      <th>Moved_after_2010</th>\n",
       "      <td>0.010186</td>\n",
       "      <td>0.573536</td>\n",
       "      <td>-0.005950</td>\n",
       "      <td>-0.255345</td>\n",
       "    </tr>\n",
       "  </tbody>\n",
       "</table>\n",
       "</div>"
      ],
      "text/plain": [
       "                          Factor1   Factor2   Factor3   Factor4\n",
       "pickups_intract          0.010218  0.879055  0.095660  0.124820\n",
       "NYPDfelony               0.548499  0.368355  0.101011 -0.170983\n",
       "Pop_Den                  0.081502  0.098470  0.099506 -0.553555\n",
       "Median_Household_Income -0.509202  0.271541 -0.447103  0.498736\n",
       "Gini_Index               0.133993  0.033913  0.537357 -0.124635\n",
       "Ave_Commute_Min          0.480726 -0.315555 -0.453679 -0.006057\n",
       "Unemployed_rate_16       0.677214 -0.009846  0.115215 -0.069964\n",
       "Moved_after_2010         0.010186  0.573536 -0.005950 -0.255345"
      ]
     },
     "execution_count": 163,
     "metadata": {},
     "output_type": "execute_result"
    }
   ],
   "source": [
    "fa.loadings"
   ]
  },
  {
   "cell_type": "code",
   "execution_count": 164,
   "metadata": {},
   "outputs": [
    {
     "data": {
      "text/html": [
       "<div>\n",
       "<style>\n",
       "    .dataframe thead tr:only-child th {\n",
       "        text-align: right;\n",
       "    }\n",
       "\n",
       "    .dataframe thead th {\n",
       "        text-align: left;\n",
       "    }\n",
       "\n",
       "    .dataframe tbody tr th {\n",
       "        vertical-align: top;\n",
       "    }\n",
       "</style>\n",
       "<table border=\"1\" class=\"dataframe\">\n",
       "  <thead>\n",
       "    <tr style=\"text-align: right;\">\n",
       "      <th></th>\n",
       "      <th>Factor1</th>\n",
       "      <th>Factor2</th>\n",
       "      <th>Factor3</th>\n",
       "      <th>Factor4</th>\n",
       "    </tr>\n",
       "  </thead>\n",
       "  <tbody>\n",
       "    <tr>\n",
       "      <th>SS Loadings</th>\n",
       "      <td>1.274659</td>\n",
       "      <td>1.421619</td>\n",
       "      <td>0.737044</td>\n",
       "      <td>0.685642</td>\n",
       "    </tr>\n",
       "    <tr>\n",
       "      <th>Proportion Var</th>\n",
       "      <td>0.159332</td>\n",
       "      <td>0.177702</td>\n",
       "      <td>0.092131</td>\n",
       "      <td>0.085705</td>\n",
       "    </tr>\n",
       "    <tr>\n",
       "      <th>Cumulative Var</th>\n",
       "      <td>0.159332</td>\n",
       "      <td>0.337035</td>\n",
       "      <td>0.429165</td>\n",
       "      <td>0.514871</td>\n",
       "    </tr>\n",
       "  </tbody>\n",
       "</table>\n",
       "</div>"
      ],
      "text/plain": [
       "                 Factor1   Factor2   Factor3   Factor4\n",
       "SS Loadings     1.274659  1.421619  0.737044  0.685642\n",
       "Proportion Var  0.159332  0.177702  0.092131  0.085705\n",
       "Cumulative Var  0.159332  0.337035  0.429165  0.514871"
      ]
     },
     "execution_count": 164,
     "metadata": {},
     "output_type": "execute_result"
    }
   ],
   "source": [
    "fa.get_factor_variance()"
   ]
  },
  {
   "cell_type": "code",
   "execution_count": 125,
   "metadata": {},
   "outputs": [
    {
     "data": {
      "text/plain": [
       "NYPDfelony                 0.548499\n",
       "Median_Household_Income   -0.509202\n",
       "Unemployed_rate_16         0.677214\n",
       "Name: Factor1, dtype: float64"
      ]
     },
     "execution_count": 125,
     "metadata": {},
     "output_type": "execute_result"
    }
   ],
   "source": [
    "fa.loadings[np.abs(fa.loadings['Factor1'])>0.5]['Factor1']"
   ]
  },
  {
   "cell_type": "code",
   "execution_count": 126,
   "metadata": {},
   "outputs": [
    {
     "name": "stdout",
     "output_type": "stream",
     "text": [
      "Factor1:\n",
      "\n",
      "NYPDfelony                 0.548499\n",
      "Median_Household_Income   -0.509202\n",
      "Ave_Commute_Min            0.480726\n",
      "Unemployed_rate_16         0.677214\n",
      "Name: Factor1, dtype: float64\n",
      "\n",
      "\n",
      "Factor2:\n",
      "\n",
      "pickups_intract     0.879055\n",
      "NYPDfelony          0.368355\n",
      "Ave_Commute_Min    -0.315555\n",
      "Moved_after_2010    0.573536\n",
      "Name: Factor2, dtype: float64\n",
      "\n",
      "\n",
      "Factor3:\n",
      "\n",
      "Median_Household_Income   -0.447103\n",
      "Gini_Index                 0.537357\n",
      "Ave_Commute_Min           -0.453679\n",
      "Name: Factor3, dtype: float64\n",
      "\n",
      "\n",
      "Factor4:\n",
      "\n",
      "Pop_Den                   -0.553555\n",
      "Median_Household_Income    0.498736\n",
      "Name: Factor4, dtype: float64\n",
      "\n",
      "\n"
     ]
    }
   ],
   "source": [
    "for column in fa.loadings:\n",
    "    print(column+':\\n')\n",
    "    print(fa.loadings[np.abs(fa.loadings[column])>0.3][column])\n",
    "    print('\\n')"
   ]
  },
  {
   "cell_type": "code",
   "execution_count": null,
   "metadata": {},
   "outputs": [],
   "source": []
  }
 ],
 "metadata": {
  "kernelspec": {
   "display_name": "Python 3",
   "language": "python",
   "name": "python3"
  },
  "language_info": {
   "codemirror_mode": {
    "name": "ipython",
    "version": 3
   },
   "file_extension": ".py",
   "mimetype": "text/x-python",
   "name": "python",
   "nbconvert_exporter": "python",
   "pygments_lexer": "ipython3",
   "version": "3.6.2"
  }
 },
 "nbformat": 4,
 "nbformat_minor": 2
}
